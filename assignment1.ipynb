{
 "metadata": {
  "language_info": {
   "codemirror_mode": {
    "name": "ipython",
    "version": 3
   },
   "file_extension": ".py",
   "mimetype": "text/x-python",
   "name": "python",
   "nbconvert_exporter": "python",
   "pygments_lexer": "ipython3",
   "version": "3.8.5-final"
  },
  "orig_nbformat": 2,
  "kernelspec": {
   "name": "python_defaultSpec_1599523407626",
   "display_name": "Python 3.8.5 64-bit"
  }
 },
 "nbformat": 4,
 "nbformat_minor": 2,
 "cells": [
  {
   "cell_type": "code",
   "execution_count": 137,
   "metadata": {
    "tags": []
   },
   "outputs": [],
   "source": [
    "import tensorflow as tf\n",
    "from tensorflow.keras.models import Sequential\n",
    "from tensorflow.keras.layers import Dense\n",
    "from tensorflow.math import logical_not, logical_xor\n",
    "import pylab\n",
    "import numpy as np\n",
    "from tensorflow.sparse import SparseTensor, to_dense, reorder\n",
    "%matplotlib inline"
   ]
  },
  {
   "cell_type": "code",
   "execution_count": 138,
   "metadata": {
    "tags": []
   },
   "outputs": [
    {
     "output_type": "stream",
     "name": "stdout",
     "text": "tf.Tensor(b'It works!', shape=(), dtype=string)\nYou have version 2.3.0\n"
    },
    {
     "output_type": "execute_result",
     "data": {
      "text/plain": "[<matplotlib.lines.Line2D at 0x153c4e4f0>]"
     },
     "metadata": {},
     "execution_count": 138
    },
    {
     "output_type": "display_data",
     "data": {
      "text/plain": "<Figure size 432x288 with 1 Axes>",
      "image/svg+xml": "<?xml version=\"1.0\" encoding=\"utf-8\" standalone=\"no\"?>\n<!DOCTYPE svg PUBLIC \"-//W3C//DTD SVG 1.1//EN\"\n  \"http://www.w3.org/Graphics/SVG/1.1/DTD/svg11.dtd\">\n<!-- Created with matplotlib (https://matplotlib.org/) -->\n<svg height=\"248.518125pt\" version=\"1.1\" viewBox=\"0 0 378.465625 248.518125\" width=\"378.465625pt\" xmlns=\"http://www.w3.org/2000/svg\" xmlns:xlink=\"http://www.w3.org/1999/xlink\">\n <metadata>\n  <rdf:RDF xmlns:cc=\"http://creativecommons.org/ns#\" xmlns:dc=\"http://purl.org/dc/elements/1.1/\" xmlns:rdf=\"http://www.w3.org/1999/02/22-rdf-syntax-ns#\">\n   <cc:Work>\n    <dc:type rdf:resource=\"http://purl.org/dc/dcmitype/StillImage\"/>\n    <dc:date>2020-09-07T22:08:06.692747</dc:date>\n    <dc:format>image/svg+xml</dc:format>\n    <dc:creator>\n     <cc:Agent>\n      <dc:title>Matplotlib v3.3.0, https://matplotlib.org/</dc:title>\n     </cc:Agent>\n    </dc:creator>\n   </cc:Work>\n  </rdf:RDF>\n </metadata>\n <defs>\n  <style type=\"text/css\">*{stroke-linecap:butt;stroke-linejoin:round;}</style>\n </defs>\n <g id=\"figure_1\">\n  <g id=\"patch_1\">\n   <path d=\"M 0 248.518125 \nL 378.465625 248.518125 \nL 378.465625 0 \nL 0 0 \nz\n\" style=\"fill:none;\"/>\n  </g>\n  <g id=\"axes_1\">\n   <g id=\"patch_2\">\n    <path d=\"M 36.465625 224.64 \nL 371.265625 224.64 \nL 371.265625 7.2 \nL 36.465625 7.2 \nz\n\" style=\"fill:#ffffff;\"/>\n   </g>\n   <g id=\"matplotlib.axis_1\">\n    <g id=\"xtick_1\">\n     <g id=\"line2d_1\">\n      <defs>\n       <path d=\"M 0 0 \nL 0 3.5 \n\" id=\"ma2e90f8380\" style=\"stroke:#000000;stroke-width:0.8;\"/>\n      </defs>\n      <g>\n       <use style=\"stroke:#000000;stroke-width:0.8;\" x=\"50.251793\" xlink:href=\"#ma2e90f8380\" y=\"224.64\"/>\n      </g>\n     </g>\n     <g id=\"text_1\">\n      <!-- 0.0 -->\n      <g transform=\"translate(42.30023 239.238438)scale(0.1 -0.1)\">\n       <defs>\n        <path d=\"M 31.78125 66.40625 \nQ 24.171875 66.40625 20.328125 58.90625 \nQ 16.5 51.421875 16.5 36.375 \nQ 16.5 21.390625 20.328125 13.890625 \nQ 24.171875 6.390625 31.78125 6.390625 \nQ 39.453125 6.390625 43.28125 13.890625 \nQ 47.125 21.390625 47.125 36.375 \nQ 47.125 51.421875 43.28125 58.90625 \nQ 39.453125 66.40625 31.78125 66.40625 \nz\nM 31.78125 74.21875 \nQ 44.046875 74.21875 50.515625 64.515625 \nQ 56.984375 54.828125 56.984375 36.375 \nQ 56.984375 17.96875 50.515625 8.265625 \nQ 44.046875 -1.421875 31.78125 -1.421875 \nQ 19.53125 -1.421875 13.0625 8.265625 \nQ 6.59375 17.96875 6.59375 36.375 \nQ 6.59375 54.828125 13.0625 64.515625 \nQ 19.53125 74.21875 31.78125 74.21875 \nz\n\" id=\"DejaVuSans-48\"/>\n        <path d=\"M 10.6875 12.40625 \nL 21 12.40625 \nL 21 0 \nL 10.6875 0 \nz\n\" id=\"DejaVuSans-46\"/>\n       </defs>\n       <use xlink:href=\"#DejaVuSans-48\"/>\n       <use x=\"63.623047\" xlink:href=\"#DejaVuSans-46\"/>\n       <use x=\"95.410156\" xlink:href=\"#DejaVuSans-48\"/>\n      </g>\n     </g>\n    </g>\n    <g id=\"xtick_2\">\n     <g id=\"line2d_2\">\n      <g>\n       <use style=\"stroke:#000000;stroke-width:0.8;\" x=\"111.803669\" xlink:href=\"#ma2e90f8380\" y=\"224.64\"/>\n      </g>\n     </g>\n     <g id=\"text_2\">\n      <!-- 0.2 -->\n      <g transform=\"translate(103.852107 239.238438)scale(0.1 -0.1)\">\n       <defs>\n        <path d=\"M 19.1875 8.296875 \nL 53.609375 8.296875 \nL 53.609375 0 \nL 7.328125 0 \nL 7.328125 8.296875 \nQ 12.9375 14.109375 22.625 23.890625 \nQ 32.328125 33.6875 34.8125 36.53125 \nQ 39.546875 41.84375 41.421875 45.53125 \nQ 43.3125 49.21875 43.3125 52.78125 \nQ 43.3125 58.59375 39.234375 62.25 \nQ 35.15625 65.921875 28.609375 65.921875 \nQ 23.96875 65.921875 18.8125 64.3125 \nQ 13.671875 62.703125 7.8125 59.421875 \nL 7.8125 69.390625 \nQ 13.765625 71.78125 18.9375 73 \nQ 24.125 74.21875 28.421875 74.21875 \nQ 39.75 74.21875 46.484375 68.546875 \nQ 53.21875 62.890625 53.21875 53.421875 \nQ 53.21875 48.921875 51.53125 44.890625 \nQ 49.859375 40.875 45.40625 35.40625 \nQ 44.1875 33.984375 37.640625 27.21875 \nQ 31.109375 20.453125 19.1875 8.296875 \nz\n\" id=\"DejaVuSans-50\"/>\n       </defs>\n       <use xlink:href=\"#DejaVuSans-48\"/>\n       <use x=\"63.623047\" xlink:href=\"#DejaVuSans-46\"/>\n       <use x=\"95.410156\" xlink:href=\"#DejaVuSans-50\"/>\n      </g>\n     </g>\n    </g>\n    <g id=\"xtick_3\">\n     <g id=\"line2d_3\">\n      <g>\n       <use style=\"stroke:#000000;stroke-width:0.8;\" x=\"173.355545\" xlink:href=\"#ma2e90f8380\" y=\"224.64\"/>\n      </g>\n     </g>\n     <g id=\"text_3\">\n      <!-- 0.4 -->\n      <g transform=\"translate(165.403983 239.238438)scale(0.1 -0.1)\">\n       <defs>\n        <path d=\"M 37.796875 64.3125 \nL 12.890625 25.390625 \nL 37.796875 25.390625 \nz\nM 35.203125 72.90625 \nL 47.609375 72.90625 \nL 47.609375 25.390625 \nL 58.015625 25.390625 \nL 58.015625 17.1875 \nL 47.609375 17.1875 \nL 47.609375 0 \nL 37.796875 0 \nL 37.796875 17.1875 \nL 4.890625 17.1875 \nL 4.890625 26.703125 \nz\n\" id=\"DejaVuSans-52\"/>\n       </defs>\n       <use xlink:href=\"#DejaVuSans-48\"/>\n       <use x=\"63.623047\" xlink:href=\"#DejaVuSans-46\"/>\n       <use x=\"95.410156\" xlink:href=\"#DejaVuSans-52\"/>\n      </g>\n     </g>\n    </g>\n    <g id=\"xtick_4\">\n     <g id=\"line2d_4\">\n      <g>\n       <use style=\"stroke:#000000;stroke-width:0.8;\" x=\"234.907422\" xlink:href=\"#ma2e90f8380\" y=\"224.64\"/>\n      </g>\n     </g>\n     <g id=\"text_4\">\n      <!-- 0.6 -->\n      <g transform=\"translate(226.955859 239.238438)scale(0.1 -0.1)\">\n       <defs>\n        <path d=\"M 33.015625 40.375 \nQ 26.375 40.375 22.484375 35.828125 \nQ 18.609375 31.296875 18.609375 23.390625 \nQ 18.609375 15.53125 22.484375 10.953125 \nQ 26.375 6.390625 33.015625 6.390625 \nQ 39.65625 6.390625 43.53125 10.953125 \nQ 47.40625 15.53125 47.40625 23.390625 \nQ 47.40625 31.296875 43.53125 35.828125 \nQ 39.65625 40.375 33.015625 40.375 \nz\nM 52.59375 71.296875 \nL 52.59375 62.3125 \nQ 48.875 64.0625 45.09375 64.984375 \nQ 41.3125 65.921875 37.59375 65.921875 \nQ 27.828125 65.921875 22.671875 59.328125 \nQ 17.53125 52.734375 16.796875 39.40625 \nQ 19.671875 43.65625 24.015625 45.921875 \nQ 28.375 48.1875 33.59375 48.1875 \nQ 44.578125 48.1875 50.953125 41.515625 \nQ 57.328125 34.859375 57.328125 23.390625 \nQ 57.328125 12.15625 50.6875 5.359375 \nQ 44.046875 -1.421875 33.015625 -1.421875 \nQ 20.359375 -1.421875 13.671875 8.265625 \nQ 6.984375 17.96875 6.984375 36.375 \nQ 6.984375 53.65625 15.1875 63.9375 \nQ 23.390625 74.21875 37.203125 74.21875 \nQ 40.921875 74.21875 44.703125 73.484375 \nQ 48.484375 72.75 52.59375 71.296875 \nz\n\" id=\"DejaVuSans-54\"/>\n       </defs>\n       <use xlink:href=\"#DejaVuSans-48\"/>\n       <use x=\"63.623047\" xlink:href=\"#DejaVuSans-46\"/>\n       <use x=\"95.410156\" xlink:href=\"#DejaVuSans-54\"/>\n      </g>\n     </g>\n    </g>\n    <g id=\"xtick_5\">\n     <g id=\"line2d_5\">\n      <g>\n       <use style=\"stroke:#000000;stroke-width:0.8;\" x=\"296.459298\" xlink:href=\"#ma2e90f8380\" y=\"224.64\"/>\n      </g>\n     </g>\n     <g id=\"text_5\">\n      <!-- 0.8 -->\n      <g transform=\"translate(288.507736 239.238438)scale(0.1 -0.1)\">\n       <defs>\n        <path d=\"M 31.78125 34.625 \nQ 24.75 34.625 20.71875 30.859375 \nQ 16.703125 27.09375 16.703125 20.515625 \nQ 16.703125 13.921875 20.71875 10.15625 \nQ 24.75 6.390625 31.78125 6.390625 \nQ 38.8125 6.390625 42.859375 10.171875 \nQ 46.921875 13.96875 46.921875 20.515625 \nQ 46.921875 27.09375 42.890625 30.859375 \nQ 38.875 34.625 31.78125 34.625 \nz\nM 21.921875 38.8125 \nQ 15.578125 40.375 12.03125 44.71875 \nQ 8.5 49.078125 8.5 55.328125 \nQ 8.5 64.0625 14.71875 69.140625 \nQ 20.953125 74.21875 31.78125 74.21875 \nQ 42.671875 74.21875 48.875 69.140625 \nQ 55.078125 64.0625 55.078125 55.328125 \nQ 55.078125 49.078125 51.53125 44.71875 \nQ 48 40.375 41.703125 38.8125 \nQ 48.828125 37.15625 52.796875 32.3125 \nQ 56.78125 27.484375 56.78125 20.515625 \nQ 56.78125 9.90625 50.3125 4.234375 \nQ 43.84375 -1.421875 31.78125 -1.421875 \nQ 19.734375 -1.421875 13.25 4.234375 \nQ 6.78125 9.90625 6.78125 20.515625 \nQ 6.78125 27.484375 10.78125 32.3125 \nQ 14.796875 37.15625 21.921875 38.8125 \nz\nM 18.3125 54.390625 \nQ 18.3125 48.734375 21.84375 45.5625 \nQ 25.390625 42.390625 31.78125 42.390625 \nQ 38.140625 42.390625 41.71875 45.5625 \nQ 45.3125 48.734375 45.3125 54.390625 \nQ 45.3125 60.0625 41.71875 63.234375 \nQ 38.140625 66.40625 31.78125 66.40625 \nQ 25.390625 66.40625 21.84375 63.234375 \nQ 18.3125 60.0625 18.3125 54.390625 \nz\n\" id=\"DejaVuSans-56\"/>\n       </defs>\n       <use xlink:href=\"#DejaVuSans-48\"/>\n       <use x=\"63.623047\" xlink:href=\"#DejaVuSans-46\"/>\n       <use x=\"95.410156\" xlink:href=\"#DejaVuSans-56\"/>\n      </g>\n     </g>\n    </g>\n    <g id=\"xtick_6\">\n     <g id=\"line2d_6\">\n      <g>\n       <use style=\"stroke:#000000;stroke-width:0.8;\" x=\"358.011175\" xlink:href=\"#ma2e90f8380\" y=\"224.64\"/>\n      </g>\n     </g>\n     <g id=\"text_6\">\n      <!-- 1.0 -->\n      <g transform=\"translate(350.059612 239.238438)scale(0.1 -0.1)\">\n       <defs>\n        <path d=\"M 12.40625 8.296875 \nL 28.515625 8.296875 \nL 28.515625 63.921875 \nL 10.984375 60.40625 \nL 10.984375 69.390625 \nL 28.421875 72.90625 \nL 38.28125 72.90625 \nL 38.28125 8.296875 \nL 54.390625 8.296875 \nL 54.390625 0 \nL 12.40625 0 \nz\n\" id=\"DejaVuSans-49\"/>\n       </defs>\n       <use xlink:href=\"#DejaVuSans-49\"/>\n       <use x=\"63.623047\" xlink:href=\"#DejaVuSans-46\"/>\n       <use x=\"95.410156\" xlink:href=\"#DejaVuSans-48\"/>\n      </g>\n     </g>\n    </g>\n   </g>\n   <g id=\"matplotlib.axis_2\">\n    <g id=\"ytick_1\">\n     <g id=\"line2d_7\">\n      <defs>\n       <path d=\"M 0 0 \nL -3.5 0 \n\" id=\"m1145afe69e\" style=\"stroke:#000000;stroke-width:0.8;\"/>\n      </defs>\n      <g>\n       <use style=\"stroke:#000000;stroke-width:0.8;\" x=\"36.465625\" xlink:href=\"#m1145afe69e\" y=\"192.209876\"/>\n      </g>\n     </g>\n     <g id=\"text_7\">\n      <!-- 0.30 -->\n      <g transform=\"translate(7.2 196.009095)scale(0.1 -0.1)\">\n       <defs>\n        <path d=\"M 40.578125 39.3125 \nQ 47.65625 37.796875 51.625 33 \nQ 55.609375 28.21875 55.609375 21.1875 \nQ 55.609375 10.40625 48.1875 4.484375 \nQ 40.765625 -1.421875 27.09375 -1.421875 \nQ 22.515625 -1.421875 17.65625 -0.515625 \nQ 12.796875 0.390625 7.625 2.203125 \nL 7.625 11.71875 \nQ 11.71875 9.328125 16.59375 8.109375 \nQ 21.484375 6.890625 26.8125 6.890625 \nQ 36.078125 6.890625 40.9375 10.546875 \nQ 45.796875 14.203125 45.796875 21.1875 \nQ 45.796875 27.640625 41.28125 31.265625 \nQ 36.765625 34.90625 28.71875 34.90625 \nL 20.21875 34.90625 \nL 20.21875 43.015625 \nL 29.109375 43.015625 \nQ 36.375 43.015625 40.234375 45.921875 \nQ 44.09375 48.828125 44.09375 54.296875 \nQ 44.09375 59.90625 40.109375 62.90625 \nQ 36.140625 65.921875 28.71875 65.921875 \nQ 24.65625 65.921875 20.015625 65.03125 \nQ 15.375 64.15625 9.8125 62.3125 \nL 9.8125 71.09375 \nQ 15.4375 72.65625 20.34375 73.4375 \nQ 25.25 74.21875 29.59375 74.21875 \nQ 40.828125 74.21875 47.359375 69.109375 \nQ 53.90625 64.015625 53.90625 55.328125 \nQ 53.90625 49.265625 50.4375 45.09375 \nQ 46.96875 40.921875 40.578125 39.3125 \nz\n\" id=\"DejaVuSans-51\"/>\n       </defs>\n       <use xlink:href=\"#DejaVuSans-48\"/>\n       <use x=\"63.623047\" xlink:href=\"#DejaVuSans-46\"/>\n       <use x=\"95.410156\" xlink:href=\"#DejaVuSans-51\"/>\n       <use x=\"159.033203\" xlink:href=\"#DejaVuSans-48\"/>\n      </g>\n     </g>\n    </g>\n    <g id=\"ytick_2\">\n     <g id=\"line2d_8\">\n      <g>\n       <use style=\"stroke:#000000;stroke-width:0.8;\" x=\"36.465625\" xlink:href=\"#m1145afe69e\" y=\"158.88356\"/>\n      </g>\n     </g>\n     <g id=\"text_8\">\n      <!-- 0.32 -->\n      <g transform=\"translate(7.2 162.682778)scale(0.1 -0.1)\">\n       <use xlink:href=\"#DejaVuSans-48\"/>\n       <use x=\"63.623047\" xlink:href=\"#DejaVuSans-46\"/>\n       <use x=\"95.410156\" xlink:href=\"#DejaVuSans-51\"/>\n       <use x=\"159.033203\" xlink:href=\"#DejaVuSans-50\"/>\n      </g>\n     </g>\n    </g>\n    <g id=\"ytick_3\">\n     <g id=\"line2d_9\">\n      <g>\n       <use style=\"stroke:#000000;stroke-width:0.8;\" x=\"36.465625\" xlink:href=\"#m1145afe69e\" y=\"125.557243\"/>\n      </g>\n     </g>\n     <g id=\"text_9\">\n      <!-- 0.34 -->\n      <g transform=\"translate(7.2 129.356462)scale(0.1 -0.1)\">\n       <use xlink:href=\"#DejaVuSans-48\"/>\n       <use x=\"63.623047\" xlink:href=\"#DejaVuSans-46\"/>\n       <use x=\"95.410156\" xlink:href=\"#DejaVuSans-51\"/>\n       <use x=\"159.033203\" xlink:href=\"#DejaVuSans-52\"/>\n      </g>\n     </g>\n    </g>\n    <g id=\"ytick_4\">\n     <g id=\"line2d_10\">\n      <g>\n       <use style=\"stroke:#000000;stroke-width:0.8;\" x=\"36.465625\" xlink:href=\"#m1145afe69e\" y=\"92.230927\"/>\n      </g>\n     </g>\n     <g id=\"text_10\">\n      <!-- 0.36 -->\n      <g transform=\"translate(7.2 96.030145)scale(0.1 -0.1)\">\n       <use xlink:href=\"#DejaVuSans-48\"/>\n       <use x=\"63.623047\" xlink:href=\"#DejaVuSans-46\"/>\n       <use x=\"95.410156\" xlink:href=\"#DejaVuSans-51\"/>\n       <use x=\"159.033203\" xlink:href=\"#DejaVuSans-54\"/>\n      </g>\n     </g>\n    </g>\n    <g id=\"ytick_5\">\n     <g id=\"line2d_11\">\n      <g>\n       <use style=\"stroke:#000000;stroke-width:0.8;\" x=\"36.465625\" xlink:href=\"#m1145afe69e\" y=\"58.90461\"/>\n      </g>\n     </g>\n     <g id=\"text_11\">\n      <!-- 0.38 -->\n      <g transform=\"translate(7.2 62.703829)scale(0.1 -0.1)\">\n       <use xlink:href=\"#DejaVuSans-48\"/>\n       <use x=\"63.623047\" xlink:href=\"#DejaVuSans-46\"/>\n       <use x=\"95.410156\" xlink:href=\"#DejaVuSans-51\"/>\n       <use x=\"159.033203\" xlink:href=\"#DejaVuSans-56\"/>\n      </g>\n     </g>\n    </g>\n    <g id=\"ytick_6\">\n     <g id=\"line2d_12\">\n      <g>\n       <use style=\"stroke:#000000;stroke-width:0.8;\" x=\"36.465625\" xlink:href=\"#m1145afe69e\" y=\"25.578294\"/>\n      </g>\n     </g>\n     <g id=\"text_12\">\n      <!-- 0.40 -->\n      <g transform=\"translate(7.2 29.377513)scale(0.1 -0.1)\">\n       <use xlink:href=\"#DejaVuSans-48\"/>\n       <use x=\"63.623047\" xlink:href=\"#DejaVuSans-46\"/>\n       <use x=\"95.410156\" xlink:href=\"#DejaVuSans-52\"/>\n       <use x=\"159.033203\" xlink:href=\"#DejaVuSans-48\"/>\n      </g>\n     </g>\n    </g>\n   </g>\n   <g id=\"line2d_13\">\n    <defs>\n     <path d=\"M 0 1.5 \nC 0.397805 1.5 0.77937 1.341951 1.06066 1.06066 \nC 1.341951 0.77937 1.5 0.397805 1.5 0 \nC 1.5 -0.397805 1.341951 -0.77937 1.06066 -1.06066 \nC 0.77937 -1.341951 0.397805 -1.5 0 -1.5 \nC -0.397805 -1.5 -0.77937 -1.341951 -1.06066 -1.06066 \nC -1.341951 -0.77937 -1.5 -0.397805 -1.5 0 \nC -1.5 0.397805 -1.341951 0.77937 -1.06066 1.06066 \nC -0.77937 1.341951 -0.397805 1.5 0 1.5 \nz\n\" id=\"mbb5f883ea0\" style=\"stroke:#1f77b4;\"/>\n    </defs>\n    <g clip-path=\"url(#p286623ffe4)\">\n     <use style=\"fill:#1f77b4;stroke:#1f77b4;\" x=\"86.634529\" xlink:href=\"#mbb5f883ea0\" y=\"170.034415\"/>\n     <use style=\"fill:#1f77b4;stroke:#1f77b4;\" x=\"326.349605\" xlink:href=\"#mbb5f883ea0\" y=\"17.083636\"/>\n     <use style=\"fill:#1f77b4;stroke:#1f77b4;\" x=\"230.798196\" xlink:href=\"#mbb5f883ea0\" y=\"83.404115\"/>\n     <use style=\"fill:#1f77b4;stroke:#1f77b4;\" x=\"258.518949\" xlink:href=\"#mbb5f883ea0\" y=\"103.435122\"/>\n     <use style=\"fill:#1f77b4;stroke:#1f77b4;\" x=\"334.622625\" xlink:href=\"#mbb5f883ea0\" y=\"47.364742\"/>\n     <use style=\"fill:#1f77b4;stroke:#1f77b4;\" x=\"118.138732\" xlink:href=\"#mbb5f883ea0\" y=\"206.128268\"/>\n     <use style=\"fill:#1f77b4;stroke:#1f77b4;\" x=\"193.527689\" xlink:href=\"#mbb5f883ea0\" y=\"113.497547\"/>\n     <use style=\"fill:#1f77b4;stroke:#1f77b4;\" x=\"224.700193\" xlink:href=\"#mbb5f883ea0\" y=\"98.703551\"/>\n     <use style=\"fill:#1f77b4;stroke:#1f77b4;\" x=\"345.603313\" xlink:href=\"#mbb5f883ea0\" y=\"39.675684\"/>\n     <use style=\"fill:#1f77b4;stroke:#1f77b4;\" x=\"260.484423\" xlink:href=\"#mbb5f883ea0\" y=\"54.734529\"/>\n     <use style=\"fill:#1f77b4;stroke:#1f77b4;\" x=\"118.222004\" xlink:href=\"#mbb5f883ea0\" y=\"153.244672\"/>\n     <use style=\"fill:#1f77b4;stroke:#1f77b4;\" x=\"259.141944\" xlink:href=\"#mbb5f883ea0\" y=\"87.532309\"/>\n     <use style=\"fill:#1f77b4;stroke:#1f77b4;\" x=\"148.095563\" xlink:href=\"#mbb5f883ea0\" y=\"155.270496\"/>\n     <use style=\"fill:#1f77b4;stroke:#1f77b4;\" x=\"233.151002\" xlink:href=\"#mbb5f883ea0\" y=\"109.478433\"/>\n     <use style=\"fill:#1f77b4;stroke:#1f77b4;\" x=\"246.037987\" xlink:href=\"#mbb5f883ea0\" y=\"68.142673\"/>\n     <use style=\"fill:#1f77b4;stroke:#1f77b4;\" x=\"114.052846\" xlink:href=\"#mbb5f883ea0\" y=\"154.786088\"/>\n     <use style=\"fill:#1f77b4;stroke:#1f77b4;\" x=\"268.467463\" xlink:href=\"#mbb5f883ea0\" y=\"53.191547\"/>\n     <use style=\"fill:#1f77b4;stroke:#1f77b4;\" x=\"300.946437\" xlink:href=\"#mbb5f883ea0\" y=\"44.961889\"/>\n     <use style=\"fill:#1f77b4;stroke:#1f77b4;\" x=\"165.360648\" xlink:href=\"#mbb5f883ea0\" y=\"103.871019\"/>\n     <use style=\"fill:#1f77b4;stroke:#1f77b4;\" x=\"275.915467\" xlink:href=\"#mbb5f883ea0\" y=\"112.58486\"/>\n     <use style=\"fill:#1f77b4;stroke:#1f77b4;\" x=\"256.402761\" xlink:href=\"#mbb5f883ea0\" y=\"91.281317\"/>\n     <use style=\"fill:#1f77b4;stroke:#1f77b4;\" x=\"269.376477\" xlink:href=\"#mbb5f883ea0\" y=\"67.433536\"/>\n     <use style=\"fill:#1f77b4;stroke:#1f77b4;\" x=\"70.41343\" xlink:href=\"#mbb5f883ea0\" y=\"166.483786\"/>\n     <use style=\"fill:#1f77b4;stroke:#1f77b4;\" x=\"242.864586\" xlink:href=\"#mbb5f883ea0\" y=\"86.939168\"/>\n     <use style=\"fill:#1f77b4;stroke:#1f77b4;\" x=\"222.25974\" xlink:href=\"#mbb5f883ea0\" y=\"112.724672\"/>\n     <use style=\"fill:#1f77b4;stroke:#1f77b4;\" x=\"351.847683\" xlink:href=\"#mbb5f883ea0\" y=\"30.732065\"/>\n     <use style=\"fill:#1f77b4;stroke:#1f77b4;\" x=\"110.201373\" xlink:href=\"#mbb5f883ea0\" y=\"160.255096\"/>\n     <use style=\"fill:#1f77b4;stroke:#1f77b4;\" x=\"356.047443\" xlink:href=\"#mbb5f883ea0\" y=\"39.405733\"/>\n     <use style=\"fill:#1f77b4;stroke:#1f77b4;\" x=\"345.900796\" xlink:href=\"#mbb5f883ea0\" y=\"37.850995\"/>\n     <use style=\"fill:#1f77b4;stroke:#1f77b4;\" x=\"118.360615\" xlink:href=\"#mbb5f883ea0\" y=\"165.87643\"/>\n     <use style=\"fill:#1f77b4;stroke:#1f77b4;\" x=\"154.708113\" xlink:href=\"#mbb5f883ea0\" y=\"185.675056\"/>\n     <use style=\"fill:#1f77b4;stroke:#1f77b4;\" x=\"339.251504\" xlink:href=\"#mbb5f883ea0\" y=\"39.035376\"/>\n     <use style=\"fill:#1f77b4;stroke:#1f77b4;\" x=\"171.478436\" xlink:href=\"#mbb5f883ea0\" y=\"116.272477\"/>\n     <use style=\"fill:#1f77b4;stroke:#1f77b4;\" x=\"181.503426\" xlink:href=\"#mbb5f883ea0\" y=\"102.363412\"/>\n     <use style=\"fill:#1f77b4;stroke:#1f77b4;\" x=\"51.683807\" xlink:href=\"#mbb5f883ea0\" y=\"170.743088\"/>\n     <use style=\"fill:#1f77b4;stroke:#1f77b4;\" x=\"313.607389\" xlink:href=\"#mbb5f883ea0\" y=\"44.978626\"/>\n     <use style=\"fill:#1f77b4;stroke:#1f77b4;\" x=\"345.38847\" xlink:href=\"#mbb5f883ea0\" y=\"32.535257\"/>\n     <use style=\"fill:#1f77b4;stroke:#1f77b4;\" x=\"216.938013\" xlink:href=\"#mbb5f883ea0\" y=\"118.889115\"/>\n     <use style=\"fill:#1f77b4;stroke:#1f77b4;\" x=\"244.408995\" xlink:href=\"#mbb5f883ea0\" y=\"89.451202\"/>\n     <use style=\"fill:#1f77b4;stroke:#1f77b4;\" x=\"259.12859\" xlink:href=\"#mbb5f883ea0\" y=\"50.110069\"/>\n     <use style=\"fill:#1f77b4;stroke:#1f77b4;\" x=\"80.386326\" xlink:href=\"#mbb5f883ea0\" y=\"188.666966\"/>\n     <use style=\"fill:#1f77b4;stroke:#1f77b4;\" x=\"96.836666\" xlink:href=\"#mbb5f883ea0\" y=\"180.642588\"/>\n     <use style=\"fill:#1f77b4;stroke:#1f77b4;\" x=\"98.240185\" xlink:href=\"#mbb5f883ea0\" y=\"155.915322\"/>\n     <use style=\"fill:#1f77b4;stroke:#1f77b4;\" x=\"110.218987\" xlink:href=\"#mbb5f883ea0\" y=\"142.371785\"/>\n     <use style=\"fill:#1f77b4;stroke:#1f77b4;\" x=\"66.212159\" xlink:href=\"#mbb5f883ea0\" y=\"209.948655\"/>\n     <use style=\"fill:#1f77b4;stroke:#1f77b4;\" x=\"197.865844\" xlink:href=\"#mbb5f883ea0\" y=\"116.341686\"/>\n     <use style=\"fill:#1f77b4;stroke:#1f77b4;\" x=\"247.74263\" xlink:href=\"#mbb5f883ea0\" y=\"116.971328\"/>\n     <use style=\"fill:#1f77b4;stroke:#1f77b4;\" x=\"343.517999\" xlink:href=\"#mbb5f883ea0\" y=\"48.847473\"/>\n     <use style=\"fill:#1f77b4;stroke:#1f77b4;\" x=\"104.863104\" xlink:href=\"#mbb5f883ea0\" y=\"143.472681\"/>\n     <use style=\"fill:#1f77b4;stroke:#1f77b4;\" x=\"57.384103\" xlink:href=\"#mbb5f883ea0\" y=\"184.45321\"/>\n     <use style=\"fill:#1f77b4;stroke:#1f77b4;\" x=\"271.21934\" xlink:href=\"#mbb5f883ea0\" y=\"69.66075\"/>\n     <use style=\"fill:#1f77b4;stroke:#1f77b4;\" x=\"312.972526\" xlink:href=\"#mbb5f883ea0\" y=\"53.362948\"/>\n     <use style=\"fill:#1f77b4;stroke:#1f77b4;\" x=\"58.22676\" xlink:href=\"#mbb5f883ea0\" y=\"209.339642\"/>\n     <use style=\"fill:#1f77b4;stroke:#1f77b4;\" x=\"282.889209\" xlink:href=\"#mbb5f883ea0\" y=\"69.587481\"/>\n     <use style=\"fill:#1f77b4;stroke:#1f77b4;\" x=\"279.443676\" xlink:href=\"#mbb5f883ea0\" y=\"52.618525\"/>\n     <use style=\"fill:#1f77b4;stroke:#1f77b4;\" x=\"302.408739\" xlink:href=\"#mbb5f883ea0\" y=\"65.443059\"/>\n     <use style=\"fill:#1f77b4;stroke:#1f77b4;\" x=\"216.910369\" xlink:href=\"#mbb5f883ea0\" y=\"87.20287\"/>\n     <use style=\"fill:#1f77b4;stroke:#1f77b4;\" x=\"297.144648\" xlink:href=\"#mbb5f883ea0\" y=\"61.345893\"/>\n     <use style=\"fill:#1f77b4;stroke:#1f77b4;\" x=\"64.800538\" xlink:href=\"#mbb5f883ea0\" y=\"195.54\"/>\n     <use style=\"fill:#1f77b4;stroke:#1f77b4;\" x=\"147.455563\" xlink:href=\"#mbb5f883ea0\" y=\"121.815234\"/>\n     <use style=\"fill:#1f77b4;stroke:#1f77b4;\" x=\"268.547736\" xlink:href=\"#mbb5f883ea0\" y=\"77.912133\"/>\n     <use style=\"fill:#1f77b4;stroke:#1f77b4;\" x=\"76.973892\" xlink:href=\"#mbb5f883ea0\" y=\"183.090819\"/>\n     <use style=\"fill:#1f77b4;stroke:#1f77b4;\" x=\"115.819564\" xlink:href=\"#mbb5f883ea0\" y=\"195.955287\"/>\n     <use style=\"fill:#1f77b4;stroke:#1f77b4;\" x=\"115.322927\" xlink:href=\"#mbb5f883ea0\" y=\"135.308561\"/>\n     <use style=\"fill:#1f77b4;stroke:#1f77b4;\" x=\"173.840211\" xlink:href=\"#mbb5f883ea0\" y=\"136.480887\"/>\n     <use style=\"fill:#1f77b4;stroke:#1f77b4;\" x=\"228.802326\" xlink:href=\"#mbb5f883ea0\" y=\"103.525235\"/>\n     <use style=\"fill:#1f77b4;stroke:#1f77b4;\" x=\"229.044539\" xlink:href=\"#mbb5f883ea0\" y=\"80.822189\"/>\n     <use style=\"fill:#1f77b4;stroke:#1f77b4;\" x=\"108.973313\" xlink:href=\"#mbb5f883ea0\" y=\"168.749511\"/>\n     <use style=\"fill:#1f77b4;stroke:#1f77b4;\" x=\"309.472035\" xlink:href=\"#mbb5f883ea0\" y=\"66.678081\"/>\n     <use style=\"fill:#1f77b4;stroke:#1f77b4;\" x=\"157.983882\" xlink:href=\"#mbb5f883ea0\" y=\"116.819246\"/>\n     <use style=\"fill:#1f77b4;stroke:#1f77b4;\" x=\"210.519651\" xlink:href=\"#mbb5f883ea0\" y=\"110.142663\"/>\n     <use style=\"fill:#1f77b4;stroke:#1f77b4;\" x=\"66.175876\" xlink:href=\"#mbb5f883ea0\" y=\"204.649205\"/>\n     <use style=\"fill:#1f77b4;stroke:#1f77b4;\" x=\"173.60441\" xlink:href=\"#mbb5f883ea0\" y=\"113.852676\"/>\n     <use style=\"fill:#1f77b4;stroke:#1f77b4;\" x=\"164.960063\" xlink:href=\"#mbb5f883ea0\" y=\"173.184403\"/>\n     <use style=\"fill:#1f77b4;stroke:#1f77b4;\" x=\"116.301353\" xlink:href=\"#mbb5f883ea0\" y=\"154.785437\"/>\n     <use style=\"fill:#1f77b4;stroke:#1f77b4;\" x=\"84.227135\" xlink:href=\"#mbb5f883ea0\" y=\"164.112856\"/>\n     <use style=\"fill:#1f77b4;stroke:#1f77b4;\" x=\"348.739513\" xlink:href=\"#mbb5f883ea0\" y=\"43.522849\"/>\n     <use style=\"fill:#1f77b4;stroke:#1f77b4;\" x=\"52.136195\" xlink:href=\"#mbb5f883ea0\" y=\"214.756364\"/>\n     <use style=\"fill:#1f77b4;stroke:#1f77b4;\" x=\"329.280353\" xlink:href=\"#mbb5f883ea0\" y=\"35.4149\"/>\n     <use style=\"fill:#1f77b4;stroke:#1f77b4;\" x=\"127.130448\" xlink:href=\"#mbb5f883ea0\" y=\"122.034252\"/>\n     <use style=\"fill:#1f77b4;stroke:#1f77b4;\" x=\"104.102011\" xlink:href=\"#mbb5f883ea0\" y=\"150.21781\"/>\n     <use style=\"fill:#1f77b4;stroke:#1f77b4;\" x=\"248.595144\" xlink:href=\"#mbb5f883ea0\" y=\"88.270158\"/>\n     <use style=\"fill:#1f77b4;stroke:#1f77b4;\" x=\"65.875178\" xlink:href=\"#mbb5f883ea0\" y=\"198.467336\"/>\n     <use style=\"fill:#1f77b4;stroke:#1f77b4;\" x=\"324.349112\" xlink:href=\"#mbb5f883ea0\" y=\"22.454782\"/>\n     <use style=\"fill:#1f77b4;stroke:#1f77b4;\" x=\"332.49345\" xlink:href=\"#mbb5f883ea0\" y=\"36.695998\"/>\n     <use style=\"fill:#1f77b4;stroke:#1f77b4;\" x=\"234.993554\" xlink:href=\"#mbb5f883ea0\" y=\"146.79124\"/>\n     <use style=\"fill:#1f77b4;stroke:#1f77b4;\" x=\"131.278895\" xlink:href=\"#mbb5f883ea0\" y=\"167.879418\"/>\n     <use style=\"fill:#1f77b4;stroke:#1f77b4;\" x=\"333.114904\" xlink:href=\"#mbb5f883ea0\" y=\"52.044721\"/>\n     <use style=\"fill:#1f77b4;stroke:#1f77b4;\" x=\"247.99185\" xlink:href=\"#mbb5f883ea0\" y=\"121.221708\"/>\n     <use style=\"fill:#1f77b4;stroke:#1f77b4;\" x=\"62.573167\" xlink:href=\"#mbb5f883ea0\" y=\"155.460654\"/>\n     <use style=\"fill:#1f77b4;stroke:#1f77b4;\" x=\"343.353032\" xlink:href=\"#mbb5f883ea0\" y=\"43.568787\"/>\n     <use style=\"fill:#1f77b4;stroke:#1f77b4;\" x=\"125.091245\" xlink:href=\"#mbb5f883ea0\" y=\"157.420776\"/>\n     <use style=\"fill:#1f77b4;stroke:#1f77b4;\" x=\"93.311801\" xlink:href=\"#mbb5f883ea0\" y=\"177.802619\"/>\n     <use style=\"fill:#1f77b4;stroke:#1f77b4;\" x=\"183.028491\" xlink:href=\"#mbb5f883ea0\" y=\"124.956457\"/>\n     <use style=\"fill:#1f77b4;stroke:#1f77b4;\" x=\"310.674458\" xlink:href=\"#mbb5f883ea0\" y=\"53.95175\"/>\n     <use style=\"fill:#1f77b4;stroke:#1f77b4;\" x=\"200.304572\" xlink:href=\"#mbb5f883ea0\" y=\"118.176451\"/>\n     <use style=\"fill:#1f77b4;stroke:#1f77b4;\" x=\"52.993714\" xlink:href=\"#mbb5f883ea0\" y=\"172.486623\"/>\n     <use style=\"fill:#1f77b4;stroke:#1f77b4;\" x=\"245.727609\" xlink:href=\"#mbb5f883ea0\" y=\"56.665926\"/>\n     <use style=\"fill:#1f77b4;stroke:#1f77b4;\" x=\"175.237263\" xlink:href=\"#mbb5f883ea0\" y=\"87.934038\"/>\n     <use style=\"fill:#1f77b4;stroke:#1f77b4;\" x=\"75.22156\" xlink:href=\"#mbb5f883ea0\" y=\"171.169005\"/>\n    </g>\n   </g>\n   <g id=\"patch_3\">\n    <path d=\"M 36.465625 224.64 \nL 36.465625 7.2 \n\" style=\"fill:none;stroke:#000000;stroke-linecap:square;stroke-linejoin:miter;stroke-width:0.8;\"/>\n   </g>\n   <g id=\"patch_4\">\n    <path d=\"M 371.265625 224.64 \nL 371.265625 7.2 \n\" style=\"fill:none;stroke:#000000;stroke-linecap:square;stroke-linejoin:miter;stroke-width:0.8;\"/>\n   </g>\n   <g id=\"patch_5\">\n    <path d=\"M 36.465625 224.64 \nL 371.265625 224.64 \n\" style=\"fill:none;stroke:#000000;stroke-linecap:square;stroke-linejoin:miter;stroke-width:0.8;\"/>\n   </g>\n   <g id=\"patch_6\">\n    <path d=\"M 36.465625 7.2 \nL 371.265625 7.2 \n\" style=\"fill:none;stroke:#000000;stroke-linecap:square;stroke-linejoin:miter;stroke-width:0.8;\"/>\n   </g>\n  </g>\n </g>\n <defs>\n  <clipPath id=\"p286623ffe4\">\n   <rect height=\"217.44\" width=\"334.8\" x=\"36.465625\" y=\"7.2\"/>\n  </clipPath>\n </defs>\n</svg>\n",
      "image/png": "[encoded data removed]"
     },
     "metadata": {
      "needs_background": "light"
     }
    }
   ],
   "source": [
    "# PROBLEM 1\n",
    "# Copied from 0_test_install.ipynb\n",
    "hello = tf.constant('It works!')\n",
    "print(hello)\n",
    "print(\"You have version %s\" % tf.__version__)\n",
    "\n",
    "# create some data using numpy. y = x * 0.1 + 0.3 + noise\n",
    "x_train = np.random.rand(100).astype(np.float32)\n",
    "noise = np.random.normal(scale=0.01, size=len(x_train))\n",
    "y_train = x_train * 0.1 + 0.3 + noise\n",
    "\n",
    "# plot it\n",
    "pylab.plot(x_train, y_train, '.')"
   ]
  },
  {
   "cell_type": "code",
   "execution_count": 139,
   "metadata": {
    "tags": []
   },
   "outputs": [
    {
     "output_type": "stream",
     "name": "stdout",
     "text": "True\n"
    }
   ],
   "source": [
    "# PROBLEM 2\n",
    "def xnor(x1, x2):\n",
    "    '''Emulates XNOR gate, using tensorflow logical_not and logical_xor methods. Converts tensor result boolean. Returns boolean.'''\n",
    "    return bool(logical_not(logical_xor(x1, x2)).numpy())\n",
    "\n",
    "x1, x2 = tf.constant(False), tf.constant(False)\n",
    "result = xnor(x1, x2)\n",
    "print(result)\n"
   ]
  },
  {
   "cell_type": "code",
   "execution_count": 140,
   "metadata": {
    "tags": []
   },
   "outputs": [
    {
     "output_type": "stream",
     "name": "stdout",
     "text": "TESTING GATES\nAND\nExpected: 1, actual: 1\nExpected: 0, actual: 0\nExpected: 0, actual: 0\nExpected: 0, actual: 0\nOR\nExpected: 1, actual: 1\nExpected: 1, actual: 1\nExpected: 1, actual: 1\nExpected: 0, actual: 0\nNOT\nExpected: 0, actual: 0\nExpected: 1, actual: 1\n"
    }
   ],
   "source": [
    "zero = tf.constant(0)\n",
    "one = tf.constant(1)\n",
    "\n",
    "# PROBLEM 3\n",
    "def AND(x1, x2):\n",
    "    w1 = tf.constant(20)\n",
    "    w2 = tf.constant(20)\n",
    "    b = tf.constant(-30)\n",
    "    val = (w1 * x1 + w2 * x2) \n",
    "    return one if val + b > zero else zero\n",
    "\n",
    "def OR(x1, x2):\n",
    "    w1 = tf.constant(20)\n",
    "    w2 = tf.constant(20)\n",
    "    b = tf.constant(-10)\n",
    "    val = (w1 * x1 + w2 * x2) \n",
    "    return one if val + b > zero else zero\n",
    "\n",
    "def NOT(x1):\n",
    "    w1 = tf.constant(-20)\n",
    "    b = tf.constant(10)\n",
    "    val = (w1 * x1) \n",
    "    return one if val + b > zero else zero\n",
    "\n",
    "# Inputs\n",
    "pair_inputs = [\n",
    "    (one,one),\n",
    "    (one,zero),\n",
    "    (zero,one),\n",
    "    (zero,zero)\n",
    "]\n",
    "single_inputs = [one,zero]\n",
    "\n",
    "# Ouputs\n",
    "and_output = [one,zero,zero,zero]\n",
    "or_output = [one,one,one,zero]\n",
    "not_output = [zero, one]\n",
    "\n",
    "print('TESTING GATES')\n",
    "print('AND')\n",
    "for test_data in zip(pair_inputs, and_output):\n",
    "    x1, x2 = test_data[0]\n",
    "    print(f'Expected: {test_data[1]}, actual: {AND(x1,x2)}')\n",
    "\n",
    "print('OR')\n",
    "for test_data in zip(pair_inputs, or_output):\n",
    "    x1, x2 = test_data[0]\n",
    "    print(f'Expected: {test_data[1]}, actual: {OR(x1,x2)}')\n",
    "\n",
    "print('NOT')\n",
    "for test_data in zip(single_inputs, not_output):\n",
    "    x1 = test_data[0]\n",
    "    print(f'Expected: {test_data[1]}, actual: {NOT(x1)}')\n"
   ]
  },
  {
   "cell_type": "code",
   "execution_count": 141,
   "metadata": {
    "tags": []
   },
   "outputs": [
    {
     "output_type": "stream",
     "name": "stdout",
     "text": "TESTING GATES\nXOR\nExpected: 0, actual: 0\nExpected: 1, actual: 1\nExpected: 1, actual: 1\nExpected: 0, actual: 0\nXNOR\nExpected: 1, actual: 1\nExpected: 0, actual: 0\nExpected: 0, actual: 0\nExpected: 1, actual: 1\n"
    }
   ],
   "source": [
    "# PROBLEM 4\n",
    "def XOR(x1, x2):\n",
    "    return one if (OR(x1, x2) and not AND(x1,x2)) else zero\n",
    "\n",
    "def XNOR(x1, x2):\n",
    "    return one if not XOR(x1, x2) else zero\n",
    "\n",
    "xor_output = [zero, one, one, zero]\n",
    "xnor_output = [one, zero, zero, one]\n",
    "\n",
    "print('TESTING GATES')\n",
    "print('XOR')\n",
    "for test_data in zip(pair_inputs, xor_output):\n",
    "    x1, x2 = test_data[0]\n",
    "    print(f'Expected: {test_data[1]}, actual: {XOR(x1,x2)}')\n",
    "\n",
    "print('XNOR')\n",
    "for test_data in zip(pair_inputs, xnor_output):\n",
    "    x1, x2 = test_data[0]\n",
    "    print(f'Expected: {test_data[1]}, actual: {XNOR(x1,x2)}')"
   ]
  },
  {
   "cell_type": "code",
   "execution_count": 142,
   "metadata": {
    "tags": []
   },
   "outputs": [
    {
     "output_type": "stream",
     "name": "stdout",
     "text": "[[0 3 0 0]\n [6 0 4 3]\n [0 0 0 0]\n [0 7 0 0]]\n"
    }
   ],
   "source": [
    "\n",
    "seed = 42\n",
    "# Generate 5 tuples of integers between 0-3\n",
    "def getRandInt(minval, maxval):\n",
    "    return tf.random.uniform(shape=(1,), minval=minval, maxval=maxval, dtype=tf.int32, seed=seed).numpy()[0]\n",
    "\n",
    "indices = []\n",
    "values = []\n",
    "for i in range(5):\n",
    "    row = getRandInt(0,4)\n",
    "    col = getRandInt(0,4)\n",
    "    index = [row,col]\n",
    "    indices.append(index)\n",
    "    \n",
    "    val = getRandInt(1,11)\n",
    "    values.append(val)\n",
    "    \n",
    "sparse_t = SparseTensor(indices=indices, values=values, dense_shape=(4,4))\n",
    "dense_t = to_dense(reorder(sparse_tensor)).numpy()\n",
    "print(dense_t)\n",
    "\n",
    "\n"
   ]
  },
  {
   "cell_type": "code",
   "execution_count": 146,
   "metadata": {},
   "outputs": [
    {
     "output_type": "execute_result",
     "data": {
      "text/plain": "array([[ 1.        , -0.77539629, -0.80420282,         nan, -0.83174093,\n         0.42028891,  0.57926713,  0.56345036],\n       [-0.77539629,  1.        ,  0.95072139,         nan,  0.8960168 ,\n        -0.50541949, -0.3487458 , -0.56254335],\n       [-0.80420282,  0.95072139,  1.        ,         nan,  0.93282415,\n        -0.54368408, -0.37016416, -0.6094094 ],\n       [        nan,         nan,         nan,         nan,         nan,\n                nan,         nan,         nan],\n       [-0.83174093,  0.8960168 ,  0.93282415,         nan,  1.        ,\n        -0.41745732, -0.30656433, -0.58102391],\n       [ 0.42028891, -0.50541949, -0.54368408,         nan, -0.41745732,\n         1.        ,  0.28813695,  0.20587301],\n       [ 0.57926713, -0.3487458 , -0.37016416,         nan, -0.30656433,\n         0.28813695,  1.        ,  0.1806622 ],\n       [ 0.56345036, -0.56254335, -0.6094094 ,         nan, -0.58102391,\n         0.20587301,  0.1806622 ,  1.        ]])"
     },
     "metadata": {},
     "execution_count": 146
    }
   ],
   "source": [
    "np.set_printoptions(edgeitems=100)\n",
    "np.core.arrayprint._line_width = 600\n",
    "filename = './auto-mpg.data'\n",
    "mpg = np.genfromtxt(filename, usecols=range(0,8))\n",
    "np.corrcoef(mpg, rowvar=False)"
   ]
  },
  {
   "cell_type": "code",
   "execution_count": null,
   "metadata": {},
   "outputs": [],
   "source": []
  },
  {
   "cell_type": "code",
   "execution_count": null,
   "metadata": {},
   "outputs": [],
   "source": []
  }
 ]
}