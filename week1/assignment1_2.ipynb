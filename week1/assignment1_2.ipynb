{
 "metadata": {
  "language_info": {
   "codemirror_mode": {
    "name": "ipython",
    "version": 3
   },
   "file_extension": ".py",
   "mimetype": "text/x-python",
   "name": "python",
   "nbconvert_exporter": "python",
   "pygments_lexer": "ipython3",
   "version": "3.8.5-final"
  },
  "orig_nbformat": 2,
  "kernelspec": {
   "name": "python_defaultSpec_1599875330204",
   "display_name": "Python 3.8.5 64-bit"
  }
 },
 "nbformat": 4,
 "nbformat_minor": 2,
 "cells": [
  {
   "cell_type": "code",
   "execution_count": 135,
   "metadata": {
    "tags": []
   },
   "outputs": [],
   "source": [
    "import tensorflow as tf\n",
    "from tensorflow.keras.models import Sequential\n",
    "from tensorflow.keras.layers import Dense\n",
    "from tensorflow.math import logical_not, logical_xor\n",
    "import pylab\n",
    "import numpy as np\n",
    "from tensorflow.sparse import SparseTensor, to_dense, reorder\n",
    "%matplotlib inline"
   ]
  },
  {
   "cell_type": "code",
   "execution_count": 136,
   "metadata": {
    "tags": []
   },
   "outputs": [
    {
     "output_type": "stream",
     "name": "stdout",
     "text": "tf.Tensor(b'It works!', shape=(), dtype=string)\nYou have version 2.3.0\n"
    },
    {
     "output_type": "execute_result",
     "data": {
      "text/plain": "[<matplotlib.lines.Line2D at 0x1517d8340>]"
     },
     "metadata": {},
     "execution_count": 136
    },
    {
     "output_type": "display_data",
     "data": {
      "text/plain": "<Figure size 432x288 with 1 Axes>",
      "image/svg+xml": "<?xml version=\"1.0\" encoding=\"utf-8\" standalone=\"no\"?>\n<!DOCTYPE svg PUBLIC \"-//W3C//DTD SVG 1.1//EN\"\n  \"http://www.w3.org/Graphics/SVG/1.1/DTD/svg11.dtd\">\n<!-- Created with matplotlib (https://matplotlib.org/) -->\n<svg height=\"248.518125pt\" version=\"1.1\" viewBox=\"0 0 378.465625 248.518125\" width=\"378.465625pt\" xmlns=\"http://www.w3.org/2000/svg\" xmlns:xlink=\"http://www.w3.org/1999/xlink\">\n <metadata>\n  <rdf:RDF xmlns:cc=\"http://creativecommons.org/ns#\" xmlns:dc=\"http://purl.org/dc/elements/1.1/\" xmlns:rdf=\"http://www.w3.org/1999/02/22-rdf-syntax-ns#\">\n   <cc:Work>\n    <dc:type rdf:resource=\"http://purl.org/dc/dcmitype/StillImage\"/>\n    <dc:date>2020-09-12T09:41:39.559366</dc:date>\n    <dc:format>image/svg+xml</dc:format>\n    <dc:creator>\n     <cc:Agent>\n      <dc:title>Matplotlib v3.3.0, https://matplotlib.org/</dc:title>\n     </cc:Agent>\n    </dc:creator>\n   </cc:Work>\n  </rdf:RDF>\n </metadata>\n <defs>\n  <style type=\"text/css\">*{stroke-linecap:butt;stroke-linejoin:round;}</style>\n </defs>\n <g id=\"figure_1\">\n  <g id=\"patch_1\">\n   <path d=\"M 0 248.518125 \nL 378.465625 248.518125 \nL 378.465625 0 \nL 0 0 \nz\n\" style=\"fill:none;\"/>\n  </g>\n  <g id=\"axes_1\">\n   <g id=\"patch_2\">\n    <path d=\"M 36.465625 224.64 \nL 371.265625 224.64 \nL 371.265625 7.2 \nL 36.465625 7.2 \nz\n\" style=\"fill:#ffffff;\"/>\n   </g>\n   <g id=\"matplotlib.axis_1\">\n    <g id=\"xtick_1\">\n     <g id=\"line2d_1\">\n      <defs>\n       <path d=\"M 0 0 \nL 0 3.5 \n\" id=\"me87073eadf\" style=\"stroke:#000000;stroke-width:0.8;\"/>\n      </defs>\n      <g>\n       <use style=\"stroke:#000000;stroke-width:0.8;\" x=\"51.026524\" xlink:href=\"#me87073eadf\" y=\"224.64\"/>\n      </g>\n     </g>\n     <g id=\"text_1\">\n      <!-- 0.0 -->\n      <g transform=\"translate(43.074961 239.238437)scale(0.1 -0.1)\">\n       <defs>\n        <path d=\"M 31.78125 66.40625 \nQ 24.171875 66.40625 20.328125 58.90625 \nQ 16.5 51.421875 16.5 36.375 \nQ 16.5 21.390625 20.328125 13.890625 \nQ 24.171875 6.390625 31.78125 6.390625 \nQ 39.453125 6.390625 43.28125 13.890625 \nQ 47.125 21.390625 47.125 36.375 \nQ 47.125 51.421875 43.28125 58.90625 \nQ 39.453125 66.40625 31.78125 66.40625 \nz\nM 31.78125 74.21875 \nQ 44.046875 74.21875 50.515625 64.515625 \nQ 56.984375 54.828125 56.984375 36.375 \nQ 56.984375 17.96875 50.515625 8.265625 \nQ 44.046875 -1.421875 31.78125 -1.421875 \nQ 19.53125 -1.421875 13.0625 8.265625 \nQ 6.59375 17.96875 6.59375 36.375 \nQ 6.59375 54.828125 13.0625 64.515625 \nQ 19.53125 74.21875 31.78125 74.21875 \nz\n\" id=\"DejaVuSans-48\"/>\n        <path d=\"M 10.6875 12.40625 \nL 21 12.40625 \nL 21 0 \nL 10.6875 0 \nz\n\" id=\"DejaVuSans-46\"/>\n       </defs>\n       <use xlink:href=\"#DejaVuSans-48\"/>\n       <use x=\"63.623047\" xlink:href=\"#DejaVuSans-46\"/>\n       <use x=\"95.410156\" xlink:href=\"#DejaVuSans-48\"/>\n      </g>\n     </g>\n    </g>\n    <g id=\"xtick_2\">\n     <g id=\"line2d_2\">\n      <g>\n       <use style=\"stroke:#000000;stroke-width:0.8;\" x=\"112.484695\" xlink:href=\"#me87073eadf\" y=\"224.64\"/>\n      </g>\n     </g>\n     <g id=\"text_2\">\n      <!-- 0.2 -->\n      <g transform=\"translate(104.533132 239.238437)scale(0.1 -0.1)\">\n       <defs>\n        <path d=\"M 19.1875 8.296875 \nL 53.609375 8.296875 \nL 53.609375 0 \nL 7.328125 0 \nL 7.328125 8.296875 \nQ 12.9375 14.109375 22.625 23.890625 \nQ 32.328125 33.6875 34.8125 36.53125 \nQ 39.546875 41.84375 41.421875 45.53125 \nQ 43.3125 49.21875 43.3125 52.78125 \nQ 43.3125 58.59375 39.234375 62.25 \nQ 35.15625 65.921875 28.609375 65.921875 \nQ 23.96875 65.921875 18.8125 64.3125 \nQ 13.671875 62.703125 7.8125 59.421875 \nL 7.8125 69.390625 \nQ 13.765625 71.78125 18.9375 73 \nQ 24.125 74.21875 28.421875 74.21875 \nQ 39.75 74.21875 46.484375 68.546875 \nQ 53.21875 62.890625 53.21875 53.421875 \nQ 53.21875 48.921875 51.53125 44.890625 \nQ 49.859375 40.875 45.40625 35.40625 \nQ 44.1875 33.984375 37.640625 27.21875 \nQ 31.109375 20.453125 19.1875 8.296875 \nz\n\" id=\"DejaVuSans-50\"/>\n       </defs>\n       <use xlink:href=\"#DejaVuSans-48\"/>\n       <use x=\"63.623047\" xlink:href=\"#DejaVuSans-46\"/>\n       <use x=\"95.410156\" xlink:href=\"#DejaVuSans-50\"/>\n      </g>\n     </g>\n    </g>\n    <g id=\"xtick_3\">\n     <g id=\"line2d_3\">\n      <g>\n       <use style=\"stroke:#000000;stroke-width:0.8;\" x=\"173.942865\" xlink:href=\"#me87073eadf\" y=\"224.64\"/>\n      </g>\n     </g>\n     <g id=\"text_3\">\n      <!-- 0.4 -->\n      <g transform=\"translate(165.991303 239.238437)scale(0.1 -0.1)\">\n       <defs>\n        <path d=\"M 37.796875 64.3125 \nL 12.890625 25.390625 \nL 37.796875 25.390625 \nz\nM 35.203125 72.90625 \nL 47.609375 72.90625 \nL 47.609375 25.390625 \nL 58.015625 25.390625 \nL 58.015625 17.1875 \nL 47.609375 17.1875 \nL 47.609375 0 \nL 37.796875 0 \nL 37.796875 17.1875 \nL 4.890625 17.1875 \nL 4.890625 26.703125 \nz\n\" id=\"DejaVuSans-52\"/>\n       </defs>\n       <use xlink:href=\"#DejaVuSans-48\"/>\n       <use x=\"63.623047\" xlink:href=\"#DejaVuSans-46\"/>\n       <use x=\"95.410156\" xlink:href=\"#DejaVuSans-52\"/>\n      </g>\n     </g>\n    </g>\n    <g id=\"xtick_4\">\n     <g id=\"line2d_4\">\n      <g>\n       <use style=\"stroke:#000000;stroke-width:0.8;\" x=\"235.401036\" xlink:href=\"#me87073eadf\" y=\"224.64\"/>\n      </g>\n     </g>\n     <g id=\"text_4\">\n      <!-- 0.6 -->\n      <g transform=\"translate(227.449473 239.238437)scale(0.1 -0.1)\">\n       <defs>\n        <path d=\"M 33.015625 40.375 \nQ 26.375 40.375 22.484375 35.828125 \nQ 18.609375 31.296875 18.609375 23.390625 \nQ 18.609375 15.53125 22.484375 10.953125 \nQ 26.375 6.390625 33.015625 6.390625 \nQ 39.65625 6.390625 43.53125 10.953125 \nQ 47.40625 15.53125 47.40625 23.390625 \nQ 47.40625 31.296875 43.53125 35.828125 \nQ 39.65625 40.375 33.015625 40.375 \nz\nM 52.59375 71.296875 \nL 52.59375 62.3125 \nQ 48.875 64.0625 45.09375 64.984375 \nQ 41.3125 65.921875 37.59375 65.921875 \nQ 27.828125 65.921875 22.671875 59.328125 \nQ 17.53125 52.734375 16.796875 39.40625 \nQ 19.671875 43.65625 24.015625 45.921875 \nQ 28.375 48.1875 33.59375 48.1875 \nQ 44.578125 48.1875 50.953125 41.515625 \nQ 57.328125 34.859375 57.328125 23.390625 \nQ 57.328125 12.15625 50.6875 5.359375 \nQ 44.046875 -1.421875 33.015625 -1.421875 \nQ 20.359375 -1.421875 13.671875 8.265625 \nQ 6.984375 17.96875 6.984375 36.375 \nQ 6.984375 53.65625 15.1875 63.9375 \nQ 23.390625 74.21875 37.203125 74.21875 \nQ 40.921875 74.21875 44.703125 73.484375 \nQ 48.484375 72.75 52.59375 71.296875 \nz\n\" id=\"DejaVuSans-54\"/>\n       </defs>\n       <use xlink:href=\"#DejaVuSans-48\"/>\n       <use x=\"63.623047\" xlink:href=\"#DejaVuSans-46\"/>\n       <use x=\"95.410156\" xlink:href=\"#DejaVuSans-54\"/>\n      </g>\n     </g>\n    </g>\n    <g id=\"xtick_5\">\n     <g id=\"line2d_5\">\n      <g>\n       <use style=\"stroke:#000000;stroke-width:0.8;\" x=\"296.859206\" xlink:href=\"#me87073eadf\" y=\"224.64\"/>\n      </g>\n     </g>\n     <g id=\"text_5\">\n      <!-- 0.8 -->\n      <g transform=\"translate(288.907644 239.238437)scale(0.1 -0.1)\">\n       <defs>\n        <path d=\"M 31.78125 34.625 \nQ 24.75 34.625 20.71875 30.859375 \nQ 16.703125 27.09375 16.703125 20.515625 \nQ 16.703125 13.921875 20.71875 10.15625 \nQ 24.75 6.390625 31.78125 6.390625 \nQ 38.8125 6.390625 42.859375 10.171875 \nQ 46.921875 13.96875 46.921875 20.515625 \nQ 46.921875 27.09375 42.890625 30.859375 \nQ 38.875 34.625 31.78125 34.625 \nz\nM 21.921875 38.8125 \nQ 15.578125 40.375 12.03125 44.71875 \nQ 8.5 49.078125 8.5 55.328125 \nQ 8.5 64.0625 14.71875 69.140625 \nQ 20.953125 74.21875 31.78125 74.21875 \nQ 42.671875 74.21875 48.875 69.140625 \nQ 55.078125 64.0625 55.078125 55.328125 \nQ 55.078125 49.078125 51.53125 44.71875 \nQ 48 40.375 41.703125 38.8125 \nQ 48.828125 37.15625 52.796875 32.3125 \nQ 56.78125 27.484375 56.78125 20.515625 \nQ 56.78125 9.90625 50.3125 4.234375 \nQ 43.84375 -1.421875 31.78125 -1.421875 \nQ 19.734375 -1.421875 13.25 4.234375 \nQ 6.78125 9.90625 6.78125 20.515625 \nQ 6.78125 27.484375 10.78125 32.3125 \nQ 14.796875 37.15625 21.921875 38.8125 \nz\nM 18.3125 54.390625 \nQ 18.3125 48.734375 21.84375 45.5625 \nQ 25.390625 42.390625 31.78125 42.390625 \nQ 38.140625 42.390625 41.71875 45.5625 \nQ 45.3125 48.734375 45.3125 54.390625 \nQ 45.3125 60.0625 41.71875 63.234375 \nQ 38.140625 66.40625 31.78125 66.40625 \nQ 25.390625 66.40625 21.84375 63.234375 \nQ 18.3125 60.0625 18.3125 54.390625 \nz\n\" id=\"DejaVuSans-56\"/>\n       </defs>\n       <use xlink:href=\"#DejaVuSans-48\"/>\n       <use x=\"63.623047\" xlink:href=\"#DejaVuSans-46\"/>\n       <use x=\"95.410156\" xlink:href=\"#DejaVuSans-56\"/>\n      </g>\n     </g>\n    </g>\n    <g id=\"xtick_6\">\n     <g id=\"line2d_6\">\n      <g>\n       <use style=\"stroke:#000000;stroke-width:0.8;\" x=\"358.317377\" xlink:href=\"#me87073eadf\" y=\"224.64\"/>\n      </g>\n     </g>\n     <g id=\"text_6\">\n      <!-- 1.0 -->\n      <g transform=\"translate(350.365815 239.238437)scale(0.1 -0.1)\">\n       <defs>\n        <path d=\"M 12.40625 8.296875 \nL 28.515625 8.296875 \nL 28.515625 63.921875 \nL 10.984375 60.40625 \nL 10.984375 69.390625 \nL 28.421875 72.90625 \nL 38.28125 72.90625 \nL 38.28125 8.296875 \nL 54.390625 8.296875 \nL 54.390625 0 \nL 12.40625 0 \nz\n\" id=\"DejaVuSans-49\"/>\n       </defs>\n       <use xlink:href=\"#DejaVuSans-49\"/>\n       <use x=\"63.623047\" xlink:href=\"#DejaVuSans-46\"/>\n       <use x=\"95.410156\" xlink:href=\"#DejaVuSans-48\"/>\n      </g>\n     </g>\n    </g>\n   </g>\n   <g id=\"matplotlib.axis_2\">\n    <g id=\"ytick_1\">\n     <g id=\"line2d_7\">\n      <defs>\n       <path d=\"M 0 0 \nL -3.5 0 \n\" id=\"meec72da1ef\" style=\"stroke:#000000;stroke-width:0.8;\"/>\n      </defs>\n      <g>\n       <use style=\"stroke:#000000;stroke-width:0.8;\" x=\"36.465625\" xlink:href=\"#meec72da1ef\" y=\"216.054768\"/>\n      </g>\n     </g>\n     <g id=\"text_7\">\n      <!-- 0.28 -->\n      <g transform=\"translate(7.2 219.853986)scale(0.1 -0.1)\">\n       <use xlink:href=\"#DejaVuSans-48\"/>\n       <use x=\"63.623047\" xlink:href=\"#DejaVuSans-46\"/>\n       <use x=\"95.410156\" xlink:href=\"#DejaVuSans-50\"/>\n       <use x=\"159.033203\" xlink:href=\"#DejaVuSans-56\"/>\n      </g>\n     </g>\n    </g>\n    <g id=\"ytick_2\">\n     <g id=\"line2d_8\">\n      <g>\n       <use style=\"stroke:#000000;stroke-width:0.8;\" x=\"36.465625\" xlink:href=\"#meec72da1ef\" y=\"184.014992\"/>\n      </g>\n     </g>\n     <g id=\"text_8\">\n      <!-- 0.30 -->\n      <g transform=\"translate(7.2 187.81421)scale(0.1 -0.1)\">\n       <defs>\n        <path d=\"M 40.578125 39.3125 \nQ 47.65625 37.796875 51.625 33 \nQ 55.609375 28.21875 55.609375 21.1875 \nQ 55.609375 10.40625 48.1875 4.484375 \nQ 40.765625 -1.421875 27.09375 -1.421875 \nQ 22.515625 -1.421875 17.65625 -0.515625 \nQ 12.796875 0.390625 7.625 2.203125 \nL 7.625 11.71875 \nQ 11.71875 9.328125 16.59375 8.109375 \nQ 21.484375 6.890625 26.8125 6.890625 \nQ 36.078125 6.890625 40.9375 10.546875 \nQ 45.796875 14.203125 45.796875 21.1875 \nQ 45.796875 27.640625 41.28125 31.265625 \nQ 36.765625 34.90625 28.71875 34.90625 \nL 20.21875 34.90625 \nL 20.21875 43.015625 \nL 29.109375 43.015625 \nQ 36.375 43.015625 40.234375 45.921875 \nQ 44.09375 48.828125 44.09375 54.296875 \nQ 44.09375 59.90625 40.109375 62.90625 \nQ 36.140625 65.921875 28.71875 65.921875 \nQ 24.65625 65.921875 20.015625 65.03125 \nQ 15.375 64.15625 9.8125 62.3125 \nL 9.8125 71.09375 \nQ 15.4375 72.65625 20.34375 73.4375 \nQ 25.25 74.21875 29.59375 74.21875 \nQ 40.828125 74.21875 47.359375 69.109375 \nQ 53.90625 64.015625 53.90625 55.328125 \nQ 53.90625 49.265625 50.4375 45.09375 \nQ 46.96875 40.921875 40.578125 39.3125 \nz\n\" id=\"DejaVuSans-51\"/>\n       </defs>\n       <use xlink:href=\"#DejaVuSans-48\"/>\n       <use x=\"63.623047\" xlink:href=\"#DejaVuSans-46\"/>\n       <use x=\"95.410156\" xlink:href=\"#DejaVuSans-51\"/>\n       <use x=\"159.033203\" xlink:href=\"#DejaVuSans-48\"/>\n      </g>\n     </g>\n    </g>\n    <g id=\"ytick_3\">\n     <g id=\"line2d_9\">\n      <g>\n       <use style=\"stroke:#000000;stroke-width:0.8;\" x=\"36.465625\" xlink:href=\"#meec72da1ef\" y=\"151.975216\"/>\n      </g>\n     </g>\n     <g id=\"text_9\">\n      <!-- 0.32 -->\n      <g transform=\"translate(7.2 155.774434)scale(0.1 -0.1)\">\n       <use xlink:href=\"#DejaVuSans-48\"/>\n       <use x=\"63.623047\" xlink:href=\"#DejaVuSans-46\"/>\n       <use x=\"95.410156\" xlink:href=\"#DejaVuSans-51\"/>\n       <use x=\"159.033203\" xlink:href=\"#DejaVuSans-50\"/>\n      </g>\n     </g>\n    </g>\n    <g id=\"ytick_4\">\n     <g id=\"line2d_10\">\n      <g>\n       <use style=\"stroke:#000000;stroke-width:0.8;\" x=\"36.465625\" xlink:href=\"#meec72da1ef\" y=\"119.93544\"/>\n      </g>\n     </g>\n     <g id=\"text_10\">\n      <!-- 0.34 -->\n      <g transform=\"translate(7.2 123.734658)scale(0.1 -0.1)\">\n       <use xlink:href=\"#DejaVuSans-48\"/>\n       <use x=\"63.623047\" xlink:href=\"#DejaVuSans-46\"/>\n       <use x=\"95.410156\" xlink:href=\"#DejaVuSans-51\"/>\n       <use x=\"159.033203\" xlink:href=\"#DejaVuSans-52\"/>\n      </g>\n     </g>\n    </g>\n    <g id=\"ytick_5\">\n     <g id=\"line2d_11\">\n      <g>\n       <use style=\"stroke:#000000;stroke-width:0.8;\" x=\"36.465625\" xlink:href=\"#meec72da1ef\" y=\"87.895664\"/>\n      </g>\n     </g>\n     <g id=\"text_11\">\n      <!-- 0.36 -->\n      <g transform=\"translate(7.2 91.694882)scale(0.1 -0.1)\">\n       <use xlink:href=\"#DejaVuSans-48\"/>\n       <use x=\"63.623047\" xlink:href=\"#DejaVuSans-46\"/>\n       <use x=\"95.410156\" xlink:href=\"#DejaVuSans-51\"/>\n       <use x=\"159.033203\" xlink:href=\"#DejaVuSans-54\"/>\n      </g>\n     </g>\n    </g>\n    <g id=\"ytick_6\">\n     <g id=\"line2d_12\">\n      <g>\n       <use style=\"stroke:#000000;stroke-width:0.8;\" x=\"36.465625\" xlink:href=\"#meec72da1ef\" y=\"55.855888\"/>\n      </g>\n     </g>\n     <g id=\"text_12\">\n      <!-- 0.38 -->\n      <g transform=\"translate(7.2 59.655106)scale(0.1 -0.1)\">\n       <use xlink:href=\"#DejaVuSans-48\"/>\n       <use x=\"63.623047\" xlink:href=\"#DejaVuSans-46\"/>\n       <use x=\"95.410156\" xlink:href=\"#DejaVuSans-51\"/>\n       <use x=\"159.033203\" xlink:href=\"#DejaVuSans-56\"/>\n      </g>\n     </g>\n    </g>\n    <g id=\"ytick_7\">\n     <g id=\"line2d_13\">\n      <g>\n       <use style=\"stroke:#000000;stroke-width:0.8;\" x=\"36.465625\" xlink:href=\"#meec72da1ef\" y=\"23.816111\"/>\n      </g>\n     </g>\n     <g id=\"text_13\">\n      <!-- 0.40 -->\n      <g transform=\"translate(7.2 27.61533)scale(0.1 -0.1)\">\n       <use xlink:href=\"#DejaVuSans-48\"/>\n       <use x=\"63.623047\" xlink:href=\"#DejaVuSans-46\"/>\n       <use x=\"95.410156\" xlink:href=\"#DejaVuSans-52\"/>\n       <use x=\"159.033203\" xlink:href=\"#DejaVuSans-48\"/>\n      </g>\n     </g>\n    </g>\n   </g>\n   <g id=\"line2d_14\">\n    <defs>\n     <path d=\"M 0 1.5 \nC 0.397805 1.5 0.77937 1.341951 1.06066 1.06066 \nC 1.341951 0.77937 1.5 0.397805 1.5 0 \nC 1.5 -0.397805 1.341951 -0.77937 1.06066 -1.06066 \nC 0.77937 -1.341951 0.397805 -1.5 0 -1.5 \nC -0.397805 -1.5 -0.77937 -1.341951 -1.06066 -1.06066 \nC -1.341951 -0.77937 -1.5 -0.397805 -1.5 0 \nC -1.5 0.397805 -1.341951 0.77937 -1.06066 1.06066 \nC -0.77937 1.341951 -0.397805 1.5 0 1.5 \nz\n\" id=\"m1e5b241432\" style=\"stroke:#1f77b4;\"/>\n    </defs>\n    <g clip-path=\"url(#pbde0d4a428)\">\n     <use style=\"fill:#1f77b4;stroke:#1f77b4;\" x=\"337.85581\" xlink:href=\"#m1e5b241432\" y=\"34.474598\"/>\n     <use style=\"fill:#1f77b4;stroke:#1f77b4;\" x=\"287.351339\" xlink:href=\"#m1e5b241432\" y=\"40.462871\"/>\n     <use style=\"fill:#1f77b4;stroke:#1f77b4;\" x=\"86.301849\" xlink:href=\"#m1e5b241432\" y=\"160.250752\"/>\n     <use style=\"fill:#1f77b4;stroke:#1f77b4;\" x=\"356.047443\" xlink:href=\"#m1e5b241432\" y=\"60.996884\"/>\n     <use style=\"fill:#1f77b4;stroke:#1f77b4;\" x=\"226.851995\" xlink:href=\"#m1e5b241432\" y=\"71.035863\"/>\n     <use style=\"fill:#1f77b4;stroke:#1f77b4;\" x=\"201.187375\" xlink:href=\"#m1e5b241432\" y=\"110.730657\"/>\n     <use style=\"fill:#1f77b4;stroke:#1f77b4;\" x=\"220.981802\" xlink:href=\"#m1e5b241432\" y=\"112.034915\"/>\n     <use style=\"fill:#1f77b4;stroke:#1f77b4;\" x=\"340.43695\" xlink:href=\"#m1e5b241432\" y=\"46.13716\"/>\n     <use style=\"fill:#1f77b4;stroke:#1f77b4;\" x=\"343.76573\" xlink:href=\"#m1e5b241432\" y=\"17.083636\"/>\n     <use style=\"fill:#1f77b4;stroke:#1f77b4;\" x=\"229.779325\" xlink:href=\"#m1e5b241432\" y=\"73.546994\"/>\n     <use style=\"fill:#1f77b4;stroke:#1f77b4;\" x=\"303.008062\" xlink:href=\"#m1e5b241432\" y=\"74.907193\"/>\n     <use style=\"fill:#1f77b4;stroke:#1f77b4;\" x=\"260.075923\" xlink:href=\"#m1e5b241432\" y=\"55.877132\"/>\n     <use style=\"fill:#1f77b4;stroke:#1f77b4;\" x=\"184.562096\" xlink:href=\"#m1e5b241432\" y=\"124.573951\"/>\n     <use style=\"fill:#1f77b4;stroke:#1f77b4;\" x=\"158.223376\" xlink:href=\"#m1e5b241432\" y=\"125.159384\"/>\n     <use style=\"fill:#1f77b4;stroke:#1f77b4;\" x=\"318.916024\" xlink:href=\"#m1e5b241432\" y=\"51.016346\"/>\n     <use style=\"fill:#1f77b4;stroke:#1f77b4;\" x=\"225.275411\" xlink:href=\"#m1e5b241432\" y=\"105.254096\"/>\n     <use style=\"fill:#1f77b4;stroke:#1f77b4;\" x=\"158.501403\" xlink:href=\"#m1e5b241432\" y=\"110.322831\"/>\n     <use style=\"fill:#1f77b4;stroke:#1f77b4;\" x=\"72.368194\" xlink:href=\"#m1e5b241432\" y=\"161.946878\"/>\n     <use style=\"fill:#1f77b4;stroke:#1f77b4;\" x=\"208.744981\" xlink:href=\"#m1e5b241432\" y=\"93.864823\"/>\n     <use style=\"fill:#1f77b4;stroke:#1f77b4;\" x=\"76.868192\" xlink:href=\"#m1e5b241432\" y=\"188.677825\"/>\n     <use style=\"fill:#1f77b4;stroke:#1f77b4;\" x=\"190.643471\" xlink:href=\"#m1e5b241432\" y=\"102.411105\"/>\n     <use style=\"fill:#1f77b4;stroke:#1f77b4;\" x=\"122.433349\" xlink:href=\"#m1e5b241432\" y=\"159.234455\"/>\n     <use style=\"fill:#1f77b4;stroke:#1f77b4;\" x=\"307.66288\" xlink:href=\"#m1e5b241432\" y=\"80.555447\"/>\n     <use style=\"fill:#1f77b4;stroke:#1f77b4;\" x=\"316.220757\" xlink:href=\"#m1e5b241432\" y=\"71.718166\"/>\n     <use style=\"fill:#1f77b4;stroke:#1f77b4;\" x=\"269.680813\" xlink:href=\"#m1e5b241432\" y=\"46.048334\"/>\n     <use style=\"fill:#1f77b4;stroke:#1f77b4;\" x=\"299.681645\" xlink:href=\"#m1e5b241432\" y=\"44.338858\"/>\n     <use style=\"fill:#1f77b4;stroke:#1f77b4;\" x=\"68.598115\" xlink:href=\"#m1e5b241432\" y=\"193.882846\"/>\n     <use style=\"fill:#1f77b4;stroke:#1f77b4;\" x=\"236.013547\" xlink:href=\"#m1e5b241432\" y=\"77.869062\"/>\n     <use style=\"fill:#1f77b4;stroke:#1f77b4;\" x=\"119.922954\" xlink:href=\"#m1e5b241432\" y=\"138.091912\"/>\n     <use style=\"fill:#1f77b4;stroke:#1f77b4;\" x=\"121.380017\" xlink:href=\"#m1e5b241432\" y=\"173.417857\"/>\n     <use style=\"fill:#1f77b4;stroke:#1f77b4;\" x=\"205.667954\" xlink:href=\"#m1e5b241432\" y=\"63.196867\"/>\n     <use style=\"fill:#1f77b4;stroke:#1f77b4;\" x=\"354.303562\" xlink:href=\"#m1e5b241432\" y=\"43.259311\"/>\n     <use style=\"fill:#1f77b4;stroke:#1f77b4;\" x=\"205.880309\" xlink:href=\"#m1e5b241432\" y=\"84.873964\"/>\n     <use style=\"fill:#1f77b4;stroke:#1f77b4;\" x=\"323.874192\" xlink:href=\"#m1e5b241432\" y=\"29.619877\"/>\n     <use style=\"fill:#1f77b4;stroke:#1f77b4;\" x=\"236.631088\" xlink:href=\"#m1e5b241432\" y=\"75.827079\"/>\n     <use style=\"fill:#1f77b4;stroke:#1f77b4;\" x=\"145.223228\" xlink:href=\"#m1e5b241432\" y=\"146.923616\"/>\n     <use style=\"fill:#1f77b4;stroke:#1f77b4;\" x=\"181.699036\" xlink:href=\"#m1e5b241432\" y=\"126.177537\"/>\n     <use style=\"fill:#1f77b4;stroke:#1f77b4;\" x=\"259.838236\" xlink:href=\"#m1e5b241432\" y=\"74.126145\"/>\n     <use style=\"fill:#1f77b4;stroke:#1f77b4;\" x=\"335.264687\" xlink:href=\"#m1e5b241432\" y=\"43.545201\"/>\n     <use style=\"fill:#1f77b4;stroke:#1f77b4;\" x=\"228.019674\" xlink:href=\"#m1e5b241432\" y=\"73.956974\"/>\n     <use style=\"fill:#1f77b4;stroke:#1f77b4;\" x=\"238.919045\" xlink:href=\"#m1e5b241432\" y=\"79.203334\"/>\n     <use style=\"fill:#1f77b4;stroke:#1f77b4;\" x=\"318.220457\" xlink:href=\"#m1e5b241432\" y=\"48.017512\"/>\n     <use style=\"fill:#1f77b4;stroke:#1f77b4;\" x=\"324.553824\" xlink:href=\"#m1e5b241432\" y=\"66.680267\"/>\n     <use style=\"fill:#1f77b4;stroke:#1f77b4;\" x=\"201.023786\" xlink:href=\"#m1e5b241432\" y=\"103.970379\"/>\n     <use style=\"fill:#1f77b4;stroke:#1f77b4;\" x=\"107.346047\" xlink:href=\"#m1e5b241432\" y=\"151.479334\"/>\n     <use style=\"fill:#1f77b4;stroke:#1f77b4;\" x=\"199.314651\" xlink:href=\"#m1e5b241432\" y=\"127.692279\"/>\n     <use style=\"fill:#1f77b4;stroke:#1f77b4;\" x=\"123.667094\" xlink:href=\"#m1e5b241432\" y=\"179.449057\"/>\n     <use style=\"fill:#1f77b4;stroke:#1f77b4;\" x=\"339.427887\" xlink:href=\"#m1e5b241432\" y=\"36.10361\"/>\n     <use style=\"fill:#1f77b4;stroke:#1f77b4;\" x=\"333.617734\" xlink:href=\"#m1e5b241432\" y=\"50.455935\"/>\n     <use style=\"fill:#1f77b4;stroke:#1f77b4;\" x=\"250.590196\" xlink:href=\"#m1e5b241432\" y=\"75.345218\"/>\n     <use style=\"fill:#1f77b4;stroke:#1f77b4;\" x=\"122.449463\" xlink:href=\"#m1e5b241432\" y=\"129.272955\"/>\n     <use style=\"fill:#1f77b4;stroke:#1f77b4;\" x=\"282.926368\" xlink:href=\"#m1e5b241432\" y=\"58.431158\"/>\n     <use style=\"fill:#1f77b4;stroke:#1f77b4;\" x=\"219.290268\" xlink:href=\"#m1e5b241432\" y=\"102.677974\"/>\n     <use style=\"fill:#1f77b4;stroke:#1f77b4;\" x=\"51.683807\" xlink:href=\"#m1e5b241432\" y=\"173.376511\"/>\n     <use style=\"fill:#1f77b4;stroke:#1f77b4;\" x=\"240.965414\" xlink:href=\"#m1e5b241432\" y=\"95.154469\"/>\n     <use style=\"fill:#1f77b4;stroke:#1f77b4;\" x=\"280.112413\" xlink:href=\"#m1e5b241432\" y=\"110.308825\"/>\n     <use style=\"fill:#1f77b4;stroke:#1f77b4;\" x=\"148.594647\" xlink:href=\"#m1e5b241432\" y=\"127.512558\"/>\n     <use style=\"fill:#1f77b4;stroke:#1f77b4;\" x=\"57.233918\" xlink:href=\"#m1e5b241432\" y=\"190.173899\"/>\n     <use style=\"fill:#1f77b4;stroke:#1f77b4;\" x=\"140.020075\" xlink:href=\"#m1e5b241432\" y=\"141.557623\"/>\n     <use style=\"fill:#1f77b4;stroke:#1f77b4;\" x=\"245.533397\" xlink:href=\"#m1e5b241432\" y=\"82.552108\"/>\n     <use style=\"fill:#1f77b4;stroke:#1f77b4;\" x=\"84.317807\" xlink:href=\"#m1e5b241432\" y=\"150.361016\"/>\n     <use style=\"fill:#1f77b4;stroke:#1f77b4;\" x=\"125.819558\" xlink:href=\"#m1e5b241432\" y=\"145.268777\"/>\n     <use style=\"fill:#1f77b4;stroke:#1f77b4;\" x=\"200.128154\" xlink:href=\"#m1e5b241432\" y=\"97.642135\"/>\n     <use style=\"fill:#1f77b4;stroke:#1f77b4;\" x=\"291.842303\" xlink:href=\"#m1e5b241432\" y=\"53.85837\"/>\n     <use style=\"fill:#1f77b4;stroke:#1f77b4;\" x=\"106.573155\" xlink:href=\"#m1e5b241432\" y=\"162.388364\"/>\n     <use style=\"fill:#1f77b4;stroke:#1f77b4;\" x=\"222.384951\" xlink:href=\"#m1e5b241432\" y=\"65.082549\"/>\n     <use style=\"fill:#1f77b4;stroke:#1f77b4;\" x=\"71.817843\" xlink:href=\"#m1e5b241432\" y=\"184.654754\"/>\n     <use style=\"fill:#1f77b4;stroke:#1f77b4;\" x=\"187.59542\" xlink:href=\"#m1e5b241432\" y=\"104.129209\"/>\n     <use style=\"fill:#1f77b4;stroke:#1f77b4;\" x=\"82.462855\" xlink:href=\"#m1e5b241432\" y=\"153.402818\"/>\n     <use style=\"fill:#1f77b4;stroke:#1f77b4;\" x=\"237.364862\" xlink:href=\"#m1e5b241432\" y=\"97.572863\"/>\n     <use style=\"fill:#1f77b4;stroke:#1f77b4;\" x=\"127.010243\" xlink:href=\"#m1e5b241432\" y=\"145.081499\"/>\n     <use style=\"fill:#1f77b4;stroke:#1f77b4;\" x=\"177.848444\" xlink:href=\"#m1e5b241432\" y=\"109.501094\"/>\n     <use style=\"fill:#1f77b4;stroke:#1f77b4;\" x=\"281.960054\" xlink:href=\"#m1e5b241432\" y=\"75.010811\"/>\n     <use style=\"fill:#1f77b4;stroke:#1f77b4;\" x=\"219.621878\" xlink:href=\"#m1e5b241432\" y=\"97.593862\"/>\n     <use style=\"fill:#1f77b4;stroke:#1f77b4;\" x=\"215.913189\" xlink:href=\"#m1e5b241432\" y=\"114.581578\"/>\n     <use style=\"fill:#1f77b4;stroke:#1f77b4;\" x=\"152.148438\" xlink:href=\"#m1e5b241432\" y=\"153.161159\"/>\n     <use style=\"fill:#1f77b4;stroke:#1f77b4;\" x=\"200.285543\" xlink:href=\"#m1e5b241432\" y=\"131.792797\"/>\n     <use style=\"fill:#1f77b4;stroke:#1f77b4;\" x=\"320.963566\" xlink:href=\"#m1e5b241432\" y=\"24.301154\"/>\n     <use style=\"fill:#1f77b4;stroke:#1f77b4;\" x=\"280.60068\" xlink:href=\"#m1e5b241432\" y=\"42.463048\"/>\n     <use style=\"fill:#1f77b4;stroke:#1f77b4;\" x=\"341.683461\" xlink:href=\"#m1e5b241432\" y=\"40.670046\"/>\n     <use style=\"fill:#1f77b4;stroke:#1f77b4;\" x=\"196.137436\" xlink:href=\"#m1e5b241432\" y=\"92.666888\"/>\n     <use style=\"fill:#1f77b4;stroke:#1f77b4;\" x=\"128.912534\" xlink:href=\"#m1e5b241432\" y=\"130.848021\"/>\n     <use style=\"fill:#1f77b4;stroke:#1f77b4;\" x=\"256.408792\" xlink:href=\"#m1e5b241432\" y=\"67.524653\"/>\n     <use style=\"fill:#1f77b4;stroke:#1f77b4;\" x=\"72.915438\" xlink:href=\"#m1e5b241432\" y=\"153.153058\"/>\n     <use style=\"fill:#1f77b4;stroke:#1f77b4;\" x=\"257.616144\" xlink:href=\"#m1e5b241432\" y=\"71.866065\"/>\n     <use style=\"fill:#1f77b4;stroke:#1f77b4;\" x=\"284.860698\" xlink:href=\"#m1e5b241432\" y=\"62.179371\"/>\n     <use style=\"fill:#1f77b4;stroke:#1f77b4;\" x=\"290.392503\" xlink:href=\"#m1e5b241432\" y=\"67.027952\"/>\n     <use style=\"fill:#1f77b4;stroke:#1f77b4;\" x=\"326.721024\" xlink:href=\"#m1e5b241432\" y=\"45.537609\"/>\n     <use style=\"fill:#1f77b4;stroke:#1f77b4;\" x=\"353.817438\" xlink:href=\"#m1e5b241432\" y=\"31.387918\"/>\n     <use style=\"fill:#1f77b4;stroke:#1f77b4;\" x=\"117.369622\" xlink:href=\"#m1e5b241432\" y=\"156.495123\"/>\n     <use style=\"fill:#1f77b4;stroke:#1f77b4;\" x=\"99.700314\" xlink:href=\"#m1e5b241432\" y=\"169.305122\"/>\n     <use style=\"fill:#1f77b4;stroke:#1f77b4;\" x=\"66.84385\" xlink:href=\"#m1e5b241432\" y=\"214.756364\"/>\n     <use style=\"fill:#1f77b4;stroke:#1f77b4;\" x=\"160.902012\" xlink:href=\"#m1e5b241432\" y=\"146.50908\"/>\n     <use style=\"fill:#1f77b4;stroke:#1f77b4;\" x=\"334.156956\" xlink:href=\"#m1e5b241432\" y=\"27.384658\"/>\n     <use style=\"fill:#1f77b4;stroke:#1f77b4;\" x=\"242.702958\" xlink:href=\"#m1e5b241432\" y=\"74.700262\"/>\n     <use style=\"fill:#1f77b4;stroke:#1f77b4;\" x=\"211.823583\" xlink:href=\"#m1e5b241432\" y=\"110.146287\"/>\n     <use style=\"fill:#1f77b4;stroke:#1f77b4;\" x=\"302.155545\" xlink:href=\"#m1e5b241432\" y=\"85.335192\"/>\n     <use style=\"fill:#1f77b4;stroke:#1f77b4;\" x=\"148.17349\" xlink:href=\"#m1e5b241432\" y=\"149.755646\"/>\n     <use style=\"fill:#1f77b4;stroke:#1f77b4;\" x=\"193.976839\" xlink:href=\"#m1e5b241432\" y=\"84.900527\"/>\n     <use style=\"fill:#1f77b4;stroke:#1f77b4;\" x=\"172.409253\" xlink:href=\"#m1e5b241432\" y=\"126.377338\"/>\n    </g>\n   </g>\n   <g id=\"patch_3\">\n    <path d=\"M 36.465625 224.64 \nL 36.465625 7.2 \n\" style=\"fill:none;stroke:#000000;stroke-linecap:square;stroke-linejoin:miter;stroke-width:0.8;\"/>\n   </g>\n   <g id=\"patch_4\">\n    <path d=\"M 371.265625 224.64 \nL 371.265625 7.2 \n\" style=\"fill:none;stroke:#000000;stroke-linecap:square;stroke-linejoin:miter;stroke-width:0.8;\"/>\n   </g>\n   <g id=\"patch_5\">\n    <path d=\"M 36.465625 224.64 \nL 371.265625 224.64 \n\" style=\"fill:none;stroke:#000000;stroke-linecap:square;stroke-linejoin:miter;stroke-width:0.8;\"/>\n   </g>\n   <g id=\"patch_6\">\n    <path d=\"M 36.465625 7.2 \nL 371.265625 7.2 \n\" style=\"fill:none;stroke:#000000;stroke-linecap:square;stroke-linejoin:miter;stroke-width:0.8;\"/>\n   </g>\n  </g>\n </g>\n <defs>\n  <clipPath id=\"pbde0d4a428\">\n   <rect height=\"217.44\" width=\"334.8\" x=\"36.465625\" y=\"7.2\"/>\n  </clipPath>\n </defs>\n</svg>\n",
      "image/png": "[encoded data removed]"
     },
     "metadata": {
      "needs_background": "light"
     }
    }
   ],
   "source": [
    "# PROBLEM 1\n",
    "# Copied from 0_test_install.ipynb\n",
    "hello = tf.constant('It works!')\n",
    "print(hello)\n",
    "print(\"You have version %s\" % tf.__version__)\n",
    "\n",
    "# create some data using numpy. y = x * 0.1 + 0.3 + noise\n",
    "x_train = np.random.rand(100).astype(np.float32)\n",
    "noise = np.random.normal(scale=0.01, size=len(x_train))\n",
    "y_train = x_train * 0.1 + 0.3 + noise\n",
    "\n",
    "# plot it\n",
    "pylab.plot(x_train, y_train, '.')"
   ]
  },
  {
   "cell_type": "code",
   "execution_count": 37,
   "metadata": {
    "tags": []
   },
   "outputs": [
    {
     "output_type": "stream",
     "name": "stdout",
     "text": "True\n"
    }
   ],
   "source": [
    "# PROBLEM 2\n",
    "# Using tensorflow logical function, as discussed: https://piazza.com/class/kef7vljj6ju3rv?cid=8\n",
    "def xnor(x1, x2):\n",
    "    '''Emulates XNOR gate, using tensorflow logical_not and logical_xor methods. Converts tensor result boolean. Returns boolean.'''\n",
    "    return bool(logical_not(logical_xor(x1, x2)).numpy())\n",
    "\n",
    "x1, x2 = tf.constant(False), tf.constant(False)\n",
    "result = xnor(x1, x2)\n",
    "print(result)"
   ]
  },
  {
   "cell_type": "code",
   "execution_count": 38,
   "metadata": {},
   "outputs": [],
   "source": [
    "one = tf.constant(1)\n",
    "zero = tf.constant(0)\n",
    "bias = tf.constant(1)"
   ]
  },
  {
   "cell_type": "code",
   "execution_count": 40,
   "metadata": {
    "tags": []
   },
   "outputs": [
    {
     "output_type": "stream",
     "name": "stdout",
     "text": "0.8602776\n"
    }
   ],
   "source": [
    "# PROBLEM 3 - AND\n",
    "# Inputs: x1, x2 as left-hand side of truth table, plus bias\n",
    "X_train_and = tf.constant([[0,0,1],[0,1,1],[1,0,1],[1,1,1]], \"float32\")\n",
    "y_train_and = tf.constant([[0],[0],[0],[1]], \"float32\")\n",
    "\n",
    "model_and = Sequential([\n",
    "    Dense(16, input_dim=3, activation='relu'),\n",
    "    Dense(1, activation='sigmoid')\n",
    "])\n",
    "model_and.compile(loss='mean_squared_error', optimizer='adam', loss_weights=[20,20,-30])\n",
    "model_and.fit(X_train_and, y_train_and, epochs=1000, verbose=0)\n",
    "\n",
    "def AND(x1, x2):\n",
    "    vals = [[x1,x2,bias]]\n",
    "    x_input = tf.concat(axis=0, values=[vals])\n",
    "    return model_and.predict(x_input)[0][0]\n",
    "\n",
    "and_res = AND(one, one)\n",
    "print(and_res)"
   ]
  },
  {
   "cell_type": "code",
   "execution_count": 42,
   "metadata": {
    "tags": []
   },
   "outputs": [
    {
     "output_type": "stream",
     "name": "stdout",
     "text": "WARNING:tensorflow:5 out of the last 33 calls to <function Model.make_predict_function.<locals>.predict_function at 0x1521408b0> triggered tf.function retracing. Tracing is expensive and the excessive number of tracings could be due to (1) creating @tf.function repeatedly in a loop, (2) passing tensors with different shapes, (3) passing Python objects instead of tensors. For (1), please define your @tf.function outside of the loop. For (2), @tf.function has experimental_relax_shapes=True option that relaxes argument shapes that can avoid unnecessary retracing. For (3), please refer to https://www.tensorflow.org/tutorials/customization/performance#python_or_tensor_args and https://www.tensorflow.org/api_docs/python/tf/function for  more details.\n0.103563756\n"
    }
   ],
   "source": [
    "# PROBLEM 3 - OR\n",
    "# Inputs: x1, x2 as left-hand side of truth table, plus bias\n",
    "X_train_or = tf.constant([[0,0,1],[0,1,1],[1,0,1],[1,1,1]], \"float32\")\n",
    "y_train_or = tf.constant([[0],[1],[1],[1]], \"float32\")\n",
    "\n",
    "model_or = Sequential([\n",
    "    Dense(16, input_dim=3, activation='relu'),\n",
    "    Dense(1, activation='sigmoid')\n",
    "])\n",
    "model_or.compile(loss='mean_squared_error', optimizer='adam', loss_weights=[20,20,-10])\n",
    "model_or.fit(X_train_or, y_train_or, epochs=1000, verbose=0)\n",
    "\n",
    "def OR(x1, x2):\n",
    "    vals = [[x1,x2,bias]]\n",
    "    x_input = tf.concat(axis=0, values=[vals])\n",
    "    return model_or.predict(x_input)[0][0]\n",
    "\n",
    "or_res = OR(zero, zero)\n",
    "print(or_res)"
   ]
  },
  {
   "cell_type": "code",
   "execution_count": 72,
   "metadata": {
    "tags": []
   },
   "outputs": [
    {
     "output_type": "stream",
     "name": "stdout",
     "text": "0.9573912\n"
    }
   ],
   "source": [
    "# PROBLEM 3 - NOT\n",
    "# Inputs: x1, as the left-hand side of truth table, plus bias\n",
    "X_train_not = tf.constant([[0,1],[1,1]], \"float32\")\n",
    "y_train_not = tf.constant([[1],[0]], \"float32\")\n",
    "\n",
    "model_not = Sequential([\n",
    "    Dense(32, input_dim=2, activation='relu'),\n",
    "    Dense(1, activation='sigmoid')\n",
    "])\n",
    "model_not.compile(loss='mean_squared_error', optimizer='adam', loss_weights=[20,-20])\n",
    "model_not.fit(X_train_not, y_train_not, epochs=1000, verbose=0)\n",
    "\n",
    "def NOT(x1):\n",
    "    vals = [[x1,bias]]\n",
    "    x_input = tf.concat(axis=0, values=[vals])\n",
    "    return model_not.predict(x_input)[0][0]\n",
    "\n",
    "not_res = NOT(zero)\n",
    "print(not_res)"
   ]
  },
  {
   "cell_type": "code",
   "execution_count": 130,
   "metadata": {},
   "outputs": [],
   "source": [
    "# PROBLEM 4\n",
    "def XOR(x1, x2):\n",
    "    return OR(x1, x2) - AND(x1,x2)\n",
    "\n",
    "def XNOR(x1, x2):\n",
    "    res = XOR(x1,x2).round()\n",
    "    return NOT(res)"
   ]
  },
  {
   "cell_type": "code",
   "execution_count": 133,
   "metadata": {
    "tags": []
   },
   "outputs": [
    {
     "output_type": "stream",
     "name": "stdout",
     "text": "0.9573912\n"
    }
   ],
   "source": [
    "test = XNOR(one,one)"
   ]
  },
  {
   "cell_type": "code",
   "execution_count": 190,
   "metadata": {
    "tags": []
   },
   "outputs": [
    {
     "output_type": "stream",
     "name": "stdout",
     "text": "[[0 6 7 0]\n [0 0 7 0]\n [0 0 8 0]\n [0 0 6 0]]\n"
    }
   ],
   "source": [
    "# PROBLEM 5\n",
    "seed = 42\n",
    "# Generate 5 tuples of integers between 0-3\n",
    "def getRandInt(minval, maxval):\n",
    "    return tf.random.uniform(shape=(1,), minval=minval, maxval=maxval, dtype=tf.int32, seed=seed).numpy()[0]\n",
    "\n",
    "def getIndex():\n",
    "    row = getRandInt(0,4)\n",
    "    col = getRandInt(0,4)\n",
    "    index = [row,col]\n",
    "    return index\n",
    "\n",
    "indices = []\n",
    "values = []\n",
    "for i in range(5):\n",
    "    index = getIndex()\n",
    "    while index in indices:\n",
    "        index = getIndex()\n",
    "    indices.append(index)\n",
    "    \n",
    "    val = getRandInt(1,11)\n",
    "    values.append(val)\n",
    "    \n",
    "sparse_t = SparseTensor(indices=indices, values=values, dense_shape=(4,4))\n",
    "dense_t = to_dense(reorder(sparse_t)).numpy()\n",
    "print(dense_t)"
   ]
  },
  {
   "cell_type": "code",
   "execution_count": 257,
   "metadata": {
    "tags": []
   },
   "outputs": [
    {
     "output_type": "execute_result",
     "data": {
      "text/plain": "array([ 0.465, -0.812, -0.788, -0.797,  0.717,  1.   , -0.852])"
     },
     "metadata": {},
     "execution_count": 257
    }
   ],
   "source": [
    "# PROBLEM 6 - NP\n",
    "# Increase precision to make output more legible\n",
    "np.set_printoptions(precision=3)\n",
    "filename = './auto_mpg.csv'\n",
    "# Columns used (in order):\n",
    "# Acceleration, Cylinders, Displacement, Horsepower, Model_Year, MPG, Weight\n",
    "mpg = np.genfromtxt(filename, delimiter=',', usecols=[1,2,3,4,7,8,10], skip_header=True, missing_values=0)\n",
    "# Get coefficient matrix of column\n",
    "# print(mpg)\n",
    "mpg_corrcoef = np.corrcoef(mpg.T)[5]\n",
    "# Columns with highest coefficient (descending order): Weight, Cylinders, Horsepower, Displacement, Model_Year, Acceleration\n",
    "print(mpg_corrcoef)\n"
   ]
  },
  {
   "cell_type": "code",
   "execution_count": null,
   "metadata": {},
   "outputs": [],
   "source": []
  },
  {
   "cell_type": "code",
   "execution_count": null,
   "metadata": {},
   "outputs": [],
   "source": []
  }
 ]
}