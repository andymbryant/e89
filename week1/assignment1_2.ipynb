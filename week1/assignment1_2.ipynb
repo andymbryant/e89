{
 "metadata": {
  "language_info": {
   "codemirror_mode": {
    "name": "ipython",
    "version": 3
   },
   "file_extension": ".py",
   "mimetype": "text/x-python",
   "name": "python",
   "nbconvert_exporter": "python",
   "pygments_lexer": "ipython3",
   "version": "3.8.5-final"
  },
  "orig_nbformat": 2,
  "kernelspec": {
   "name": "python_defaultSpec_1599922342306",
   "display_name": "Python 3.8.5 64-bit"
  }
 },
 "nbformat": 4,
 "nbformat_minor": 2,
 "cells": [
  {
   "cell_type": "code",
   "execution_count": 45,
   "metadata": {
    "tags": []
   },
   "outputs": [],
   "source": [
    "import tensorflow as tf\n",
    "from tensorflow.keras.models import Sequential\n",
    "from tensorflow.keras.layers import Dense\n",
    "from tensorflow.math import logical_not, logical_xor\n",
    "import pylab\n",
    "import numpy as np\n",
    "import pandas as pandas\n",
    "from tensorflow.sparse import SparseTensor, to_dense, reorder\n",
    "%matplotlib inline"
   ]
  },
  {
   "cell_type": "code",
   "execution_count": 46,
   "metadata": {
    "tags": []
   },
   "outputs": [
    {
     "output_type": "stream",
     "name": "stdout",
     "text": "tf.Tensor(b'It works!', shape=(), dtype=string)\nYou have version 2.3.0\n"
    },
    {
     "output_type": "execute_result",
     "data": {
      "text/plain": "[<matplotlib.lines.Line2D at 0x14fd598e0>]"
     },
     "metadata": {},
     "execution_count": 46
    },
    {
     "output_type": "display_data",
     "data": {
      "text/plain": "<Figure size 432x288 with 1 Axes>",
      "image/svg+xml": "<?xml version=\"1.0\" encoding=\"utf-8\" standalone=\"no\"?>\n<!DOCTYPE svg PUBLIC \"-//W3C//DTD SVG 1.1//EN\"\n  \"http://www.w3.org/Graphics/SVG/1.1/DTD/svg11.dtd\">\n<!-- Created with matplotlib (https://matplotlib.org/) -->\n<svg height=\"248.518125pt\" version=\"1.1\" viewBox=\"0 0 378.465625 248.518125\" width=\"378.465625pt\" xmlns=\"http://www.w3.org/2000/svg\" xmlns:xlink=\"http://www.w3.org/1999/xlink\">\n <metadata>\n  <rdf:RDF xmlns:cc=\"http://creativecommons.org/ns#\" xmlns:dc=\"http://purl.org/dc/elements/1.1/\" xmlns:rdf=\"http://www.w3.org/1999/02/22-rdf-syntax-ns#\">\n   <cc:Work>\n    <dc:type rdf:resource=\"http://purl.org/dc/dcmitype/StillImage\"/>\n    <dc:date>2020-09-12T11:17:30.046634</dc:date>\n    <dc:format>image/svg+xml</dc:format>\n    <dc:creator>\n     <cc:Agent>\n      <dc:title>Matplotlib v3.3.0, https://matplotlib.org/</dc:title>\n     </cc:Agent>\n    </dc:creator>\n   </cc:Work>\n  </rdf:RDF>\n </metadata>\n <defs>\n  <style type=\"text/css\">*{stroke-linecap:butt;stroke-linejoin:round;}</style>\n </defs>\n <g id=\"figure_1\">\n  <g id=\"patch_1\">\n   <path d=\"M 0 248.518125 \nL 378.465625 248.518125 \nL 378.465625 0 \nL 0 0 \nz\n\" style=\"fill:none;\"/>\n  </g>\n  <g id=\"axes_1\">\n   <g id=\"patch_2\">\n    <path d=\"M 36.465625 224.64 \nL 371.265625 224.64 \nL 371.265625 7.2 \nL 36.465625 7.2 \nz\n\" style=\"fill:#ffffff;\"/>\n   </g>\n   <g id=\"matplotlib.axis_1\">\n    <g id=\"xtick_1\">\n     <g id=\"line2d_1\">\n      <defs>\n       <path d=\"M 0 0 \nL 0 3.5 \n\" id=\"mac2454d52f\" style=\"stroke:#000000;stroke-width:0.8;\"/>\n      </defs>\n      <g>\n       <use style=\"stroke:#000000;stroke-width:0.8;\" x=\"50.01813\" xlink:href=\"#mac2454d52f\" y=\"224.64\"/>\n      </g>\n     </g>\n     <g id=\"text_1\">\n      <!-- 0.0 -->\n      <g transform=\"translate(42.066568 239.238437)scale(0.1 -0.1)\">\n       <defs>\n        <path d=\"M 31.78125 66.40625 \nQ 24.171875 66.40625 20.328125 58.90625 \nQ 16.5 51.421875 16.5 36.375 \nQ 16.5 21.390625 20.328125 13.890625 \nQ 24.171875 6.390625 31.78125 6.390625 \nQ 39.453125 6.390625 43.28125 13.890625 \nQ 47.125 21.390625 47.125 36.375 \nQ 47.125 51.421875 43.28125 58.90625 \nQ 39.453125 66.40625 31.78125 66.40625 \nz\nM 31.78125 74.21875 \nQ 44.046875 74.21875 50.515625 64.515625 \nQ 56.984375 54.828125 56.984375 36.375 \nQ 56.984375 17.96875 50.515625 8.265625 \nQ 44.046875 -1.421875 31.78125 -1.421875 \nQ 19.53125 -1.421875 13.0625 8.265625 \nQ 6.59375 17.96875 6.59375 36.375 \nQ 6.59375 54.828125 13.0625 64.515625 \nQ 19.53125 74.21875 31.78125 74.21875 \nz\n\" id=\"DejaVuSans-48\"/>\n        <path d=\"M 10.6875 12.40625 \nL 21 12.40625 \nL 21 0 \nL 10.6875 0 \nz\n\" id=\"DejaVuSans-46\"/>\n       </defs>\n       <use xlink:href=\"#DejaVuSans-48\"/>\n       <use x=\"63.623047\" xlink:href=\"#DejaVuSans-46\"/>\n       <use x=\"95.410156\" xlink:href=\"#DejaVuSans-48\"/>\n      </g>\n     </g>\n    </g>\n    <g id=\"xtick_2\">\n     <g id=\"line2d_2\">\n      <g>\n       <use style=\"stroke:#000000;stroke-width:0.8;\" x=\"111.294633\" xlink:href=\"#mac2454d52f\" y=\"224.64\"/>\n      </g>\n     </g>\n     <g id=\"text_2\">\n      <!-- 0.2 -->\n      <g transform=\"translate(103.343071 239.238437)scale(0.1 -0.1)\">\n       <defs>\n        <path d=\"M 19.1875 8.296875 \nL 53.609375 8.296875 \nL 53.609375 0 \nL 7.328125 0 \nL 7.328125 8.296875 \nQ 12.9375 14.109375 22.625 23.890625 \nQ 32.328125 33.6875 34.8125 36.53125 \nQ 39.546875 41.84375 41.421875 45.53125 \nQ 43.3125 49.21875 43.3125 52.78125 \nQ 43.3125 58.59375 39.234375 62.25 \nQ 35.15625 65.921875 28.609375 65.921875 \nQ 23.96875 65.921875 18.8125 64.3125 \nQ 13.671875 62.703125 7.8125 59.421875 \nL 7.8125 69.390625 \nQ 13.765625 71.78125 18.9375 73 \nQ 24.125 74.21875 28.421875 74.21875 \nQ 39.75 74.21875 46.484375 68.546875 \nQ 53.21875 62.890625 53.21875 53.421875 \nQ 53.21875 48.921875 51.53125 44.890625 \nQ 49.859375 40.875 45.40625 35.40625 \nQ 44.1875 33.984375 37.640625 27.21875 \nQ 31.109375 20.453125 19.1875 8.296875 \nz\n\" id=\"DejaVuSans-50\"/>\n       </defs>\n       <use xlink:href=\"#DejaVuSans-48\"/>\n       <use x=\"63.623047\" xlink:href=\"#DejaVuSans-46\"/>\n       <use x=\"95.410156\" xlink:href=\"#DejaVuSans-50\"/>\n      </g>\n     </g>\n    </g>\n    <g id=\"xtick_3\">\n     <g id=\"line2d_3\">\n      <g>\n       <use style=\"stroke:#000000;stroke-width:0.8;\" x=\"172.571136\" xlink:href=\"#mac2454d52f\" y=\"224.64\"/>\n      </g>\n     </g>\n     <g id=\"text_3\">\n      <!-- 0.4 -->\n      <g transform=\"translate(164.619574 239.238437)scale(0.1 -0.1)\">\n       <defs>\n        <path d=\"M 37.796875 64.3125 \nL 12.890625 25.390625 \nL 37.796875 25.390625 \nz\nM 35.203125 72.90625 \nL 47.609375 72.90625 \nL 47.609375 25.390625 \nL 58.015625 25.390625 \nL 58.015625 17.1875 \nL 47.609375 17.1875 \nL 47.609375 0 \nL 37.796875 0 \nL 37.796875 17.1875 \nL 4.890625 17.1875 \nL 4.890625 26.703125 \nz\n\" id=\"DejaVuSans-52\"/>\n       </defs>\n       <use xlink:href=\"#DejaVuSans-48\"/>\n       <use x=\"63.623047\" xlink:href=\"#DejaVuSans-46\"/>\n       <use x=\"95.410156\" xlink:href=\"#DejaVuSans-52\"/>\n      </g>\n     </g>\n    </g>\n    <g id=\"xtick_4\">\n     <g id=\"line2d_4\">\n      <g>\n       <use style=\"stroke:#000000;stroke-width:0.8;\" x=\"233.847639\" xlink:href=\"#mac2454d52f\" y=\"224.64\"/>\n      </g>\n     </g>\n     <g id=\"text_4\">\n      <!-- 0.6 -->\n      <g transform=\"translate(225.896077 239.238437)scale(0.1 -0.1)\">\n       <defs>\n        <path d=\"M 33.015625 40.375 \nQ 26.375 40.375 22.484375 35.828125 \nQ 18.609375 31.296875 18.609375 23.390625 \nQ 18.609375 15.53125 22.484375 10.953125 \nQ 26.375 6.390625 33.015625 6.390625 \nQ 39.65625 6.390625 43.53125 10.953125 \nQ 47.40625 15.53125 47.40625 23.390625 \nQ 47.40625 31.296875 43.53125 35.828125 \nQ 39.65625 40.375 33.015625 40.375 \nz\nM 52.59375 71.296875 \nL 52.59375 62.3125 \nQ 48.875 64.0625 45.09375 64.984375 \nQ 41.3125 65.921875 37.59375 65.921875 \nQ 27.828125 65.921875 22.671875 59.328125 \nQ 17.53125 52.734375 16.796875 39.40625 \nQ 19.671875 43.65625 24.015625 45.921875 \nQ 28.375 48.1875 33.59375 48.1875 \nQ 44.578125 48.1875 50.953125 41.515625 \nQ 57.328125 34.859375 57.328125 23.390625 \nQ 57.328125 12.15625 50.6875 5.359375 \nQ 44.046875 -1.421875 33.015625 -1.421875 \nQ 20.359375 -1.421875 13.671875 8.265625 \nQ 6.984375 17.96875 6.984375 36.375 \nQ 6.984375 53.65625 15.1875 63.9375 \nQ 23.390625 74.21875 37.203125 74.21875 \nQ 40.921875 74.21875 44.703125 73.484375 \nQ 48.484375 72.75 52.59375 71.296875 \nz\n\" id=\"DejaVuSans-54\"/>\n       </defs>\n       <use xlink:href=\"#DejaVuSans-48\"/>\n       <use x=\"63.623047\" xlink:href=\"#DejaVuSans-46\"/>\n       <use x=\"95.410156\" xlink:href=\"#DejaVuSans-54\"/>\n      </g>\n     </g>\n    </g>\n    <g id=\"xtick_5\">\n     <g id=\"line2d_5\">\n      <g>\n       <use style=\"stroke:#000000;stroke-width:0.8;\" x=\"295.124142\" xlink:href=\"#mac2454d52f\" y=\"224.64\"/>\n      </g>\n     </g>\n     <g id=\"text_5\">\n      <!-- 0.8 -->\n      <g transform=\"translate(287.17258 239.238437)scale(0.1 -0.1)\">\n       <defs>\n        <path d=\"M 31.78125 34.625 \nQ 24.75 34.625 20.71875 30.859375 \nQ 16.703125 27.09375 16.703125 20.515625 \nQ 16.703125 13.921875 20.71875 10.15625 \nQ 24.75 6.390625 31.78125 6.390625 \nQ 38.8125 6.390625 42.859375 10.171875 \nQ 46.921875 13.96875 46.921875 20.515625 \nQ 46.921875 27.09375 42.890625 30.859375 \nQ 38.875 34.625 31.78125 34.625 \nz\nM 21.921875 38.8125 \nQ 15.578125 40.375 12.03125 44.71875 \nQ 8.5 49.078125 8.5 55.328125 \nQ 8.5 64.0625 14.71875 69.140625 \nQ 20.953125 74.21875 31.78125 74.21875 \nQ 42.671875 74.21875 48.875 69.140625 \nQ 55.078125 64.0625 55.078125 55.328125 \nQ 55.078125 49.078125 51.53125 44.71875 \nQ 48 40.375 41.703125 38.8125 \nQ 48.828125 37.15625 52.796875 32.3125 \nQ 56.78125 27.484375 56.78125 20.515625 \nQ 56.78125 9.90625 50.3125 4.234375 \nQ 43.84375 -1.421875 31.78125 -1.421875 \nQ 19.734375 -1.421875 13.25 4.234375 \nQ 6.78125 9.90625 6.78125 20.515625 \nQ 6.78125 27.484375 10.78125 32.3125 \nQ 14.796875 37.15625 21.921875 38.8125 \nz\nM 18.3125 54.390625 \nQ 18.3125 48.734375 21.84375 45.5625 \nQ 25.390625 42.390625 31.78125 42.390625 \nQ 38.140625 42.390625 41.71875 45.5625 \nQ 45.3125 48.734375 45.3125 54.390625 \nQ 45.3125 60.0625 41.71875 63.234375 \nQ 38.140625 66.40625 31.78125 66.40625 \nQ 25.390625 66.40625 21.84375 63.234375 \nQ 18.3125 60.0625 18.3125 54.390625 \nz\n\" id=\"DejaVuSans-56\"/>\n       </defs>\n       <use xlink:href=\"#DejaVuSans-48\"/>\n       <use x=\"63.623047\" xlink:href=\"#DejaVuSans-46\"/>\n       <use x=\"95.410156\" xlink:href=\"#DejaVuSans-56\"/>\n      </g>\n     </g>\n    </g>\n    <g id=\"xtick_6\">\n     <g id=\"line2d_6\">\n      <g>\n       <use style=\"stroke:#000000;stroke-width:0.8;\" x=\"356.400645\" xlink:href=\"#mac2454d52f\" y=\"224.64\"/>\n      </g>\n     </g>\n     <g id=\"text_6\">\n      <!-- 1.0 -->\n      <g transform=\"translate(348.449083 239.238437)scale(0.1 -0.1)\">\n       <defs>\n        <path d=\"M 12.40625 8.296875 \nL 28.515625 8.296875 \nL 28.515625 63.921875 \nL 10.984375 60.40625 \nL 10.984375 69.390625 \nL 28.421875 72.90625 \nL 38.28125 72.90625 \nL 38.28125 8.296875 \nL 54.390625 8.296875 \nL 54.390625 0 \nL 12.40625 0 \nz\n\" id=\"DejaVuSans-49\"/>\n       </defs>\n       <use xlink:href=\"#DejaVuSans-49\"/>\n       <use x=\"63.623047\" xlink:href=\"#DejaVuSans-46\"/>\n       <use x=\"95.410156\" xlink:href=\"#DejaVuSans-48\"/>\n      </g>\n     </g>\n    </g>\n   </g>\n   <g id=\"matplotlib.axis_2\">\n    <g id=\"ytick_1\">\n     <g id=\"line2d_7\">\n      <defs>\n       <path d=\"M 0 0 \nL -3.5 0 \n\" id=\"m58661d7632\" style=\"stroke:#000000;stroke-width:0.8;\"/>\n      </defs>\n      <g>\n       <use style=\"stroke:#000000;stroke-width:0.8;\" x=\"36.465625\" xlink:href=\"#m58661d7632\" y=\"202.610149\"/>\n      </g>\n     </g>\n     <g id=\"text_7\">\n      <!-- 0.30 -->\n      <g transform=\"translate(7.2 206.409367)scale(0.1 -0.1)\">\n       <defs>\n        <path d=\"M 40.578125 39.3125 \nQ 47.65625 37.796875 51.625 33 \nQ 55.609375 28.21875 55.609375 21.1875 \nQ 55.609375 10.40625 48.1875 4.484375 \nQ 40.765625 -1.421875 27.09375 -1.421875 \nQ 22.515625 -1.421875 17.65625 -0.515625 \nQ 12.796875 0.390625 7.625 2.203125 \nL 7.625 11.71875 \nQ 11.71875 9.328125 16.59375 8.109375 \nQ 21.484375 6.890625 26.8125 6.890625 \nQ 36.078125 6.890625 40.9375 10.546875 \nQ 45.796875 14.203125 45.796875 21.1875 \nQ 45.796875 27.640625 41.28125 31.265625 \nQ 36.765625 34.90625 28.71875 34.90625 \nL 20.21875 34.90625 \nL 20.21875 43.015625 \nL 29.109375 43.015625 \nQ 36.375 43.015625 40.234375 45.921875 \nQ 44.09375 48.828125 44.09375 54.296875 \nQ 44.09375 59.90625 40.109375 62.90625 \nQ 36.140625 65.921875 28.71875 65.921875 \nQ 24.65625 65.921875 20.015625 65.03125 \nQ 15.375 64.15625 9.8125 62.3125 \nL 9.8125 71.09375 \nQ 15.4375 72.65625 20.34375 73.4375 \nQ 25.25 74.21875 29.59375 74.21875 \nQ 40.828125 74.21875 47.359375 69.109375 \nQ 53.90625 64.015625 53.90625 55.328125 \nQ 53.90625 49.265625 50.4375 45.09375 \nQ 46.96875 40.921875 40.578125 39.3125 \nz\n\" id=\"DejaVuSans-51\"/>\n       </defs>\n       <use xlink:href=\"#DejaVuSans-48\"/>\n       <use x=\"63.623047\" xlink:href=\"#DejaVuSans-46\"/>\n       <use x=\"95.410156\" xlink:href=\"#DejaVuSans-51\"/>\n       <use x=\"159.033203\" xlink:href=\"#DejaVuSans-48\"/>\n      </g>\n     </g>\n    </g>\n    <g id=\"ytick_2\">\n     <g id=\"line2d_8\">\n      <g>\n       <use style=\"stroke:#000000;stroke-width:0.8;\" x=\"36.465625\" xlink:href=\"#m58661d7632\" y=\"169.663762\"/>\n      </g>\n     </g>\n     <g id=\"text_8\">\n      <!-- 0.32 -->\n      <g transform=\"translate(7.2 173.462981)scale(0.1 -0.1)\">\n       <use xlink:href=\"#DejaVuSans-48\"/>\n       <use x=\"63.623047\" xlink:href=\"#DejaVuSans-46\"/>\n       <use x=\"95.410156\" xlink:href=\"#DejaVuSans-51\"/>\n       <use x=\"159.033203\" xlink:href=\"#DejaVuSans-50\"/>\n      </g>\n     </g>\n    </g>\n    <g id=\"ytick_3\">\n     <g id=\"line2d_9\">\n      <g>\n       <use style=\"stroke:#000000;stroke-width:0.8;\" x=\"36.465625\" xlink:href=\"#m58661d7632\" y=\"136.717375\"/>\n      </g>\n     </g>\n     <g id=\"text_9\">\n      <!-- 0.34 -->\n      <g transform=\"translate(7.2 140.516594)scale(0.1 -0.1)\">\n       <use xlink:href=\"#DejaVuSans-48\"/>\n       <use x=\"63.623047\" xlink:href=\"#DejaVuSans-46\"/>\n       <use x=\"95.410156\" xlink:href=\"#DejaVuSans-51\"/>\n       <use x=\"159.033203\" xlink:href=\"#DejaVuSans-52\"/>\n      </g>\n     </g>\n    </g>\n    <g id=\"ytick_4\">\n     <g id=\"line2d_10\">\n      <g>\n       <use style=\"stroke:#000000;stroke-width:0.8;\" x=\"36.465625\" xlink:href=\"#m58661d7632\" y=\"103.770989\"/>\n      </g>\n     </g>\n     <g id=\"text_10\">\n      <!-- 0.36 -->\n      <g transform=\"translate(7.2 107.570208)scale(0.1 -0.1)\">\n       <use xlink:href=\"#DejaVuSans-48\"/>\n       <use x=\"63.623047\" xlink:href=\"#DejaVuSans-46\"/>\n       <use x=\"95.410156\" xlink:href=\"#DejaVuSans-51\"/>\n       <use x=\"159.033203\" xlink:href=\"#DejaVuSans-54\"/>\n      </g>\n     </g>\n    </g>\n    <g id=\"ytick_5\">\n     <g id=\"line2d_11\">\n      <g>\n       <use style=\"stroke:#000000;stroke-width:0.8;\" x=\"36.465625\" xlink:href=\"#m58661d7632\" y=\"70.824602\"/>\n      </g>\n     </g>\n     <g id=\"text_11\">\n      <!-- 0.38 -->\n      <g transform=\"translate(7.2 74.623821)scale(0.1 -0.1)\">\n       <use xlink:href=\"#DejaVuSans-48\"/>\n       <use x=\"63.623047\" xlink:href=\"#DejaVuSans-46\"/>\n       <use x=\"95.410156\" xlink:href=\"#DejaVuSans-51\"/>\n       <use x=\"159.033203\" xlink:href=\"#DejaVuSans-56\"/>\n      </g>\n     </g>\n    </g>\n    <g id=\"ytick_6\">\n     <g id=\"line2d_12\">\n      <g>\n       <use style=\"stroke:#000000;stroke-width:0.8;\" x=\"36.465625\" xlink:href=\"#m58661d7632\" y=\"37.878216\"/>\n      </g>\n     </g>\n     <g id=\"text_12\">\n      <!-- 0.40 -->\n      <g transform=\"translate(7.2 41.677434)scale(0.1 -0.1)\">\n       <use xlink:href=\"#DejaVuSans-48\"/>\n       <use x=\"63.623047\" xlink:href=\"#DejaVuSans-46\"/>\n       <use x=\"95.410156\" xlink:href=\"#DejaVuSans-52\"/>\n       <use x=\"159.033203\" xlink:href=\"#DejaVuSans-48\"/>\n      </g>\n     </g>\n    </g>\n   </g>\n   <g id=\"line2d_13\">\n    <defs>\n     <path d=\"M 0 1.5 \nC 0.397805 1.5 0.77937 1.341951 1.06066 1.06066 \nC 1.341951 0.77937 1.5 0.397805 1.5 0 \nC 1.5 -0.397805 1.341951 -0.77937 1.06066 -1.06066 \nC 0.77937 -1.341951 0.397805 -1.5 0 -1.5 \nC -0.397805 -1.5 -0.77937 -1.341951 -1.06066 -1.06066 \nC -1.341951 -0.77937 -1.5 -0.397805 -1.5 0 \nC -1.5 0.397805 -1.341951 0.77937 -1.06066 1.06066 \nC -0.77937 1.341951 -0.397805 1.5 0 1.5 \nz\n\" id=\"meaaf96d08e\" style=\"stroke:#1f77b4;\"/>\n    </defs>\n    <g clip-path=\"url(#p5cb898c069)\">\n     <use style=\"fill:#1f77b4;stroke:#1f77b4;\" x=\"321.078996\" xlink:href=\"#meaaf96d08e\" y=\"46.525321\"/>\n     <use style=\"fill:#1f77b4;stroke:#1f77b4;\" x=\"209.678912\" xlink:href=\"#meaaf96d08e\" y=\"139.935934\"/>\n     <use style=\"fill:#1f77b4;stroke:#1f77b4;\" x=\"143.529921\" xlink:href=\"#meaaf96d08e\" y=\"150.957936\"/>\n     <use style=\"fill:#1f77b4;stroke:#1f77b4;\" x=\"211.631959\" xlink:href=\"#meaaf96d08e\" y=\"125.337695\"/>\n     <use style=\"fill:#1f77b4;stroke:#1f77b4;\" x=\"176.894031\" xlink:href=\"#meaaf96d08e\" y=\"117.277172\"/>\n     <use style=\"fill:#1f77b4;stroke:#1f77b4;\" x=\"72.837748\" xlink:href=\"#meaaf96d08e\" y=\"197.534882\"/>\n     <use style=\"fill:#1f77b4;stroke:#1f77b4;\" x=\"206.588957\" xlink:href=\"#meaaf96d08e\" y=\"124.019668\"/>\n     <use style=\"fill:#1f77b4;stroke:#1f77b4;\" x=\"90.746702\" xlink:href=\"#meaaf96d08e\" y=\"196.468375\"/>\n     <use style=\"fill:#1f77b4;stroke:#1f77b4;\" x=\"252.261114\" xlink:href=\"#meaaf96d08e\" y=\"127.483231\"/>\n     <use style=\"fill:#1f77b4;stroke:#1f77b4;\" x=\"126.815853\" xlink:href=\"#meaaf96d08e\" y=\"147.393236\"/>\n     <use style=\"fill:#1f77b4;stroke:#1f77b4;\" x=\"77.822298\" xlink:href=\"#meaaf96d08e\" y=\"160.483042\"/>\n     <use style=\"fill:#1f77b4;stroke:#1f77b4;\" x=\"312.813605\" xlink:href=\"#meaaf96d08e\" y=\"62.257418\"/>\n     <use style=\"fill:#1f77b4;stroke:#1f77b4;\" x=\"134.240781\" xlink:href=\"#meaaf96d08e\" y=\"141.495668\"/>\n     <use style=\"fill:#1f77b4;stroke:#1f77b4;\" x=\"104.681084\" xlink:href=\"#meaaf96d08e\" y=\"178.690239\"/>\n     <use style=\"fill:#1f77b4;stroke:#1f77b4;\" x=\"291.492984\" xlink:href=\"#meaaf96d08e\" y=\"74.701804\"/>\n     <use style=\"fill:#1f77b4;stroke:#1f77b4;\" x=\"156.418037\" xlink:href=\"#meaaf96d08e\" y=\"165.042912\"/>\n     <use style=\"fill:#1f77b4;stroke:#1f77b4;\" x=\"199.575778\" xlink:href=\"#meaaf96d08e\" y=\"116.413199\"/>\n     <use style=\"fill:#1f77b4;stroke:#1f77b4;\" x=\"248.339753\" xlink:href=\"#meaaf96d08e\" y=\"87.304611\"/>\n     <use style=\"fill:#1f77b4;stroke:#1f77b4;\" x=\"273.174441\" xlink:href=\"#meaaf96d08e\" y=\"105.461819\"/>\n     <use style=\"fill:#1f77b4;stroke:#1f77b4;\" x=\"256.718587\" xlink:href=\"#meaaf96d08e\" y=\"104.911792\"/>\n     <use style=\"fill:#1f77b4;stroke:#1f77b4;\" x=\"352.083751\" xlink:href=\"#meaaf96d08e\" y=\"50.649601\"/>\n     <use style=\"fill:#1f77b4;stroke:#1f77b4;\" x=\"180.336201\" xlink:href=\"#meaaf96d08e\" y=\"132.829867\"/>\n     <use style=\"fill:#1f77b4;stroke:#1f77b4;\" x=\"243.174251\" xlink:href=\"#meaaf96d08e\" y=\"79.327206\"/>\n     <use style=\"fill:#1f77b4;stroke:#1f77b4;\" x=\"295.165929\" xlink:href=\"#meaaf96d08e\" y=\"66.841216\"/>\n     <use style=\"fill:#1f77b4;stroke:#1f77b4;\" x=\"137.727565\" xlink:href=\"#meaaf96d08e\" y=\"165.101257\"/>\n     <use style=\"fill:#1f77b4;stroke:#1f77b4;\" x=\"201.899586\" xlink:href=\"#meaaf96d08e\" y=\"143.188449\"/>\n     <use style=\"fill:#1f77b4;stroke:#1f77b4;\" x=\"89.020938\" xlink:href=\"#meaaf96d08e\" y=\"157.628179\"/>\n     <use style=\"fill:#1f77b4;stroke:#1f77b4;\" x=\"276.029586\" xlink:href=\"#meaaf96d08e\" y=\"63.112741\"/>\n     <use style=\"fill:#1f77b4;stroke:#1f77b4;\" x=\"210.812733\" xlink:href=\"#meaaf96d08e\" y=\"105.181637\"/>\n     <use style=\"fill:#1f77b4;stroke:#1f77b4;\" x=\"322.019535\" xlink:href=\"#meaaf96d08e\" y=\"62.056681\"/>\n     <use style=\"fill:#1f77b4;stroke:#1f77b4;\" x=\"64.11734\" xlink:href=\"#meaaf96d08e\" y=\"206.88383\"/>\n     <use style=\"fill:#1f77b4;stroke:#1f77b4;\" x=\"292.608689\" xlink:href=\"#meaaf96d08e\" y=\"76.821888\"/>\n     <use style=\"fill:#1f77b4;stroke:#1f77b4;\" x=\"82.965514\" xlink:href=\"#meaaf96d08e\" y=\"146.356884\"/>\n     <use style=\"fill:#1f77b4;stroke:#1f77b4;\" x=\"333.162167\" xlink:href=\"#meaaf96d08e\" y=\"47.125139\"/>\n     <use style=\"fill:#1f77b4;stroke:#1f77b4;\" x=\"333.573625\" xlink:href=\"#meaaf96d08e\" y=\"31.55534\"/>\n     <use style=\"fill:#1f77b4;stroke:#1f77b4;\" x=\"208.728895\" xlink:href=\"#meaaf96d08e\" y=\"136.991271\"/>\n     <use style=\"fill:#1f77b4;stroke:#1f77b4;\" x=\"148.031177\" xlink:href=\"#meaaf96d08e\" y=\"137.806566\"/>\n     <use style=\"fill:#1f77b4;stroke:#1f77b4;\" x=\"176.813231\" xlink:href=\"#meaaf96d08e\" y=\"107.203214\"/>\n     <use style=\"fill:#1f77b4;stroke:#1f77b4;\" x=\"92.072876\" xlink:href=\"#meaaf96d08e\" y=\"152.105348\"/>\n     <use style=\"fill:#1f77b4;stroke:#1f77b4;\" x=\"293.942113\" xlink:href=\"#meaaf96d08e\" y=\"73.184491\"/>\n     <use style=\"fill:#1f77b4;stroke:#1f77b4;\" x=\"295.298491\" xlink:href=\"#meaaf96d08e\" y=\"81.219256\"/>\n     <use style=\"fill:#1f77b4;stroke:#1f77b4;\" x=\"324.905176\" xlink:href=\"#meaaf96d08e\" y=\"63.479934\"/>\n     <use style=\"fill:#1f77b4;stroke:#1f77b4;\" x=\"180.569112\" xlink:href=\"#meaaf96d08e\" y=\"154.90165\"/>\n     <use style=\"fill:#1f77b4;stroke:#1f77b4;\" x=\"227.625479\" xlink:href=\"#meaaf96d08e\" y=\"132.756279\"/>\n     <use style=\"fill:#1f77b4;stroke:#1f77b4;\" x=\"278.905549\" xlink:href=\"#meaaf96d08e\" y=\"88.424798\"/>\n     <use style=\"fill:#1f77b4;stroke:#1f77b4;\" x=\"277.006301\" xlink:href=\"#meaaf96d08e\" y=\"104.939852\"/>\n     <use style=\"fill:#1f77b4;stroke:#1f77b4;\" x=\"265.982187\" xlink:href=\"#meaaf96d08e\" y=\"76.910139\"/>\n     <use style=\"fill:#1f77b4;stroke:#1f77b4;\" x=\"173.641783\" xlink:href=\"#meaaf96d08e\" y=\"143.626364\"/>\n     <use style=\"fill:#1f77b4;stroke:#1f77b4;\" x=\"298.259134\" xlink:href=\"#meaaf96d08e\" y=\"38.73816\"/>\n     <use style=\"fill:#1f77b4;stroke:#1f77b4;\" x=\"116.610344\" xlink:href=\"#meaaf96d08e\" y=\"149.285109\"/>\n     <use style=\"fill:#1f77b4;stroke:#1f77b4;\" x=\"167.566029\" xlink:href=\"#meaaf96d08e\" y=\"123.648938\"/>\n     <use style=\"fill:#1f77b4;stroke:#1f77b4;\" x=\"118.081754\" xlink:href=\"#meaaf96d08e\" y=\"171.349168\"/>\n     <use style=\"fill:#1f77b4;stroke:#1f77b4;\" x=\"326.087848\" xlink:href=\"#meaaf96d08e\" y=\"83.164437\"/>\n     <use style=\"fill:#1f77b4;stroke:#1f77b4;\" x=\"224.966576\" xlink:href=\"#meaaf96d08e\" y=\"82.942639\"/>\n     <use style=\"fill:#1f77b4;stroke:#1f77b4;\" x=\"62.348808\" xlink:href=\"#meaaf96d08e\" y=\"206.115362\"/>\n     <use style=\"fill:#1f77b4;stroke:#1f77b4;\" x=\"60.685556\" xlink:href=\"#meaaf96d08e\" y=\"214.756364\"/>\n     <use style=\"fill:#1f77b4;stroke:#1f77b4;\" x=\"270.958515\" xlink:href=\"#meaaf96d08e\" y=\"100.700998\"/>\n     <use style=\"fill:#1f77b4;stroke:#1f77b4;\" x=\"305.252937\" xlink:href=\"#meaaf96d08e\" y=\"52.506803\"/>\n     <use style=\"fill:#1f77b4;stroke:#1f77b4;\" x=\"316.918826\" xlink:href=\"#meaaf96d08e\" y=\"52.529349\"/>\n     <use style=\"fill:#1f77b4;stroke:#1f77b4;\" x=\"283.572868\" xlink:href=\"#meaaf96d08e\" y=\"73.700963\"/>\n     <use style=\"fill:#1f77b4;stroke:#1f77b4;\" x=\"79.259405\" xlink:href=\"#meaaf96d08e\" y=\"185.265514\"/>\n     <use style=\"fill:#1f77b4;stroke:#1f77b4;\" x=\"152.331626\" xlink:href=\"#meaaf96d08e\" y=\"141.422635\"/>\n     <use style=\"fill:#1f77b4;stroke:#1f77b4;\" x=\"51.683807\" xlink:href=\"#meaaf96d08e\" y=\"202.283331\"/>\n     <use style=\"fill:#1f77b4;stroke:#1f77b4;\" x=\"86.415738\" xlink:href=\"#meaaf96d08e\" y=\"171.6141\"/>\n     <use style=\"fill:#1f77b4;stroke:#1f77b4;\" x=\"169.602999\" xlink:href=\"#meaaf96d08e\" y=\"138.243054\"/>\n     <use style=\"fill:#1f77b4;stroke:#1f77b4;\" x=\"80.116937\" xlink:href=\"#meaaf96d08e\" y=\"212.441592\"/>\n     <use style=\"fill:#1f77b4;stroke:#1f77b4;\" x=\"192.370732\" xlink:href=\"#meaaf96d08e\" y=\"132.249941\"/>\n     <use style=\"fill:#1f77b4;stroke:#1f77b4;\" x=\"152.925336\" xlink:href=\"#meaaf96d08e\" y=\"152.792216\"/>\n     <use style=\"fill:#1f77b4;stroke:#1f77b4;\" x=\"351.977669\" xlink:href=\"#meaaf96d08e\" y=\"61.262239\"/>\n     <use style=\"fill:#1f77b4;stroke:#1f77b4;\" x=\"264.712005\" xlink:href=\"#meaaf96d08e\" y=\"101.383373\"/>\n     <use style=\"fill:#1f77b4;stroke:#1f77b4;\" x=\"173.046137\" xlink:href=\"#meaaf96d08e\" y=\"124.089789\"/>\n     <use style=\"fill:#1f77b4;stroke:#1f77b4;\" x=\"216.029149\" xlink:href=\"#meaaf96d08e\" y=\"134.765258\"/>\n     <use style=\"fill:#1f77b4;stroke:#1f77b4;\" x=\"133.797329\" xlink:href=\"#meaaf96d08e\" y=\"140.698345\"/>\n     <use style=\"fill:#1f77b4;stroke:#1f77b4;\" x=\"131.811575\" xlink:href=\"#meaaf96d08e\" y=\"142.54232\"/>\n     <use style=\"fill:#1f77b4;stroke:#1f77b4;\" x=\"270.792114\" xlink:href=\"#meaaf96d08e\" y=\"83.405499\"/>\n     <use style=\"fill:#1f77b4;stroke:#1f77b4;\" x=\"322.030802\" xlink:href=\"#meaaf96d08e\" y=\"26.906473\"/>\n     <use style=\"fill:#1f77b4;stroke:#1f77b4;\" x=\"208.498157\" xlink:href=\"#meaaf96d08e\" y=\"106.702338\"/>\n     <use style=\"fill:#1f77b4;stroke:#1f77b4;\" x=\"234.070788\" xlink:href=\"#meaaf96d08e\" y=\"100.699342\"/>\n     <use style=\"fill:#1f77b4;stroke:#1f77b4;\" x=\"193.408634\" xlink:href=\"#meaaf96d08e\" y=\"141.212971\"/>\n     <use style=\"fill:#1f77b4;stroke:#1f77b4;\" x=\"66.48001\" xlink:href=\"#meaaf96d08e\" y=\"159.172563\"/>\n     <use style=\"fill:#1f77b4;stroke:#1f77b4;\" x=\"208.118256\" xlink:href=\"#meaaf96d08e\" y=\"134.807188\"/>\n     <use style=\"fill:#1f77b4;stroke:#1f77b4;\" x=\"128.652883\" xlink:href=\"#meaaf96d08e\" y=\"141.86989\"/>\n     <use style=\"fill:#1f77b4;stroke:#1f77b4;\" x=\"311.252182\" xlink:href=\"#meaaf96d08e\" y=\"62.540915\"/>\n     <use style=\"fill:#1f77b4;stroke:#1f77b4;\" x=\"356.047443\" xlink:href=\"#meaaf96d08e\" y=\"21.712199\"/>\n     <use style=\"fill:#1f77b4;stroke:#1f77b4;\" x=\"259.616884\" xlink:href=\"#meaaf96d08e\" y=\"93.681371\"/>\n     <use style=\"fill:#1f77b4;stroke:#1f77b4;\" x=\"325.292364\" xlink:href=\"#meaaf96d08e\" y=\"23.838412\"/>\n     <use style=\"fill:#1f77b4;stroke:#1f77b4;\" x=\"72.005646\" xlink:href=\"#meaaf96d08e\" y=\"200.627934\"/>\n     <use style=\"fill:#1f77b4;stroke:#1f77b4;\" x=\"261.18877\" xlink:href=\"#meaaf96d08e\" y=\"106.860196\"/>\n     <use style=\"fill:#1f77b4;stroke:#1f77b4;\" x=\"351.022082\" xlink:href=\"#meaaf96d08e\" y=\"17.083636\"/>\n     <use style=\"fill:#1f77b4;stroke:#1f77b4;\" x=\"133.472251\" xlink:href=\"#meaaf96d08e\" y=\"132.668494\"/>\n     <use style=\"fill:#1f77b4;stroke:#1f77b4;\" x=\"262.546737\" xlink:href=\"#meaaf96d08e\" y=\"84.531637\"/>\n     <use style=\"fill:#1f77b4;stroke:#1f77b4;\" x=\"273.951281\" xlink:href=\"#meaaf96d08e\" y=\"54.956501\"/>\n     <use style=\"fill:#1f77b4;stroke:#1f77b4;\" x=\"82.112333\" xlink:href=\"#meaaf96d08e\" y=\"169.737639\"/>\n     <use style=\"fill:#1f77b4;stroke:#1f77b4;\" x=\"63.172449\" xlink:href=\"#meaaf96d08e\" y=\"200.477457\"/>\n     <use style=\"fill:#1f77b4;stroke:#1f77b4;\" x=\"131.633121\" xlink:href=\"#meaaf96d08e\" y=\"160.891562\"/>\n     <use style=\"fill:#1f77b4;stroke:#1f77b4;\" x=\"93.922734\" xlink:href=\"#meaaf96d08e\" y=\"182.140584\"/>\n     <use style=\"fill:#1f77b4;stroke:#1f77b4;\" x=\"316.741868\" xlink:href=\"#meaaf96d08e\" y=\"94.056587\"/>\n     <use style=\"fill:#1f77b4;stroke:#1f77b4;\" x=\"133.250762\" xlink:href=\"#meaaf96d08e\" y=\"173.125507\"/>\n     <use style=\"fill:#1f77b4;stroke:#1f77b4;\" x=\"236.512557\" xlink:href=\"#meaaf96d08e\" y=\"120.416575\"/>\n     <use style=\"fill:#1f77b4;stroke:#1f77b4;\" x=\"154.130671\" xlink:href=\"#meaaf96d08e\" y=\"154.193251\"/>\n    </g>\n   </g>\n   <g id=\"patch_3\">\n    <path d=\"M 36.465625 224.64 \nL 36.465625 7.2 \n\" style=\"fill:none;stroke:#000000;stroke-linecap:square;stroke-linejoin:miter;stroke-width:0.8;\"/>\n   </g>\n   <g id=\"patch_4\">\n    <path d=\"M 371.265625 224.64 \nL 371.265625 7.2 \n\" style=\"fill:none;stroke:#000000;stroke-linecap:square;stroke-linejoin:miter;stroke-width:0.8;\"/>\n   </g>\n   <g id=\"patch_5\">\n    <path d=\"M 36.465625 224.64 \nL 371.265625 224.64 \n\" style=\"fill:none;stroke:#000000;stroke-linecap:square;stroke-linejoin:miter;stroke-width:0.8;\"/>\n   </g>\n   <g id=\"patch_6\">\n    <path d=\"M 36.465625 7.2 \nL 371.265625 7.2 \n\" style=\"fill:none;stroke:#000000;stroke-linecap:square;stroke-linejoin:miter;stroke-width:0.8;\"/>\n   </g>\n  </g>\n </g>\n <defs>\n  <clipPath id=\"p5cb898c069\">\n   <rect height=\"217.44\" width=\"334.8\" x=\"36.465625\" y=\"7.2\"/>\n  </clipPath>\n </defs>\n</svg>\n",
      "image/png": "[encoded data removed]"
     },
     "metadata": {
      "needs_background": "light"
     }
    }
   ],
   "source": [
    "# PROBLEM 1\n",
    "# Copied from 0_test_install.ipynb\n",
    "hello = tf.constant('It works!')\n",
    "print(hello)\n",
    "print(\"You have version %s\" % tf.__version__)\n",
    "\n",
    "# create some data using numpy. y = x * 0.1 + 0.3 + noise\n",
    "x_train = np.random.rand(100).astype(np.float32)\n",
    "noise = np.random.normal(scale=0.01, size=len(x_train))\n",
    "y_train = x_train * 0.1 + 0.3 + noise\n",
    "\n",
    "# plot it\n",
    "pylab.plot(x_train, y_train, '.')"
   ]
  },
  {
   "cell_type": "code",
   "execution_count": 47,
   "metadata": {
    "tags": []
   },
   "outputs": [
    {
     "output_type": "stream",
     "name": "stdout",
     "text": "True\n"
    }
   ],
   "source": [
    "# PROBLEM 2\n",
    "# Using tensorflow logical function, as discussed: https://piazza.com/class/kef7vljj6ju3rv?cid=8\n",
    "def xnor(x1, x2):\n",
    "    '''Emulates XNOR gate, using tensorflow logical_not and logical_xor methods. Converts tensor result boolean. Returns boolean.'''\n",
    "    return bool(logical_not(logical_xor(x1, x2)).numpy())\n",
    "\n",
    "x1, x2 = tf.constant(False), tf.constant(False)\n",
    "result = xnor(x1, x2)\n",
    "print(result)"
   ]
  },
  {
   "cell_type": "code",
   "execution_count": 48,
   "metadata": {},
   "outputs": [],
   "source": [
    "# Initialize variables\n",
    "one = tf.constant(1)\n",
    "zero = tf.constant(0)\n",
    "bias = tf.constant(1)"
   ]
  },
  {
   "cell_type": "code",
   "execution_count": 49,
   "metadata": {
    "tags": []
   },
   "outputs": [
    {
     "output_type": "stream",
     "name": "stdout",
     "text": "0.90591145\n"
    }
   ],
   "source": [
    "# PROBLEM 3 - AND\n",
    "# Inputs: x1, x2 as left-hand side of truth table, plus bias\n",
    "X_train_and = tf.constant([[0,0,1],[0,1,1],[1,0,1],[1,1,1]], \"float32\")\n",
    "y_train_and = tf.constant([[0],[0],[0],[1]], \"float32\")\n",
    "\n",
    "model_and = Sequential([\n",
    "    Dense(16, input_dim=3, activation='relu'),\n",
    "    Dense(1, activation='sigmoid')\n",
    "])\n",
    "# Weights from lecture notes\n",
    "model_and.compile(loss='mean_squared_error', optimizer='adam', loss_weights=[20,20,-30])\n",
    "model_and.fit(X_train_and, y_train_and, epochs=1000, verbose=0)\n",
    "\n",
    "def AND(x1, x2):\n",
    "    vals = [[x1,x2,bias]]\n",
    "    x_input = tf.concat(axis=0, values=[vals])\n",
    "    return model_and.predict(x_input)[0][0]\n",
    "\n",
    "and_res = AND(one, one)\n",
    "print(and_res)"
   ]
  },
  {
   "cell_type": "code",
   "execution_count": 50,
   "metadata": {
    "tags": []
   },
   "outputs": [
    {
     "output_type": "stream",
     "name": "stdout",
     "text": "0.07760033\n"
    }
   ],
   "source": [
    "# PROBLEM 3 - OR\n",
    "# Inputs: x1, x2 as left-hand side of truth table, plus bias\n",
    "X_train_or = tf.constant([[0,0,1],[0,1,1],[1,0,1],[1,1,1]], \"float32\")\n",
    "y_train_or = tf.constant([[0],[1],[1],[1]], \"float32\")\n",
    "\n",
    "model_or = Sequential([\n",
    "    Dense(16, input_dim=3, activation='relu'),\n",
    "    Dense(1, activation='sigmoid')\n",
    "])\n",
    "# Weights from lecture notes\n",
    "model_or.compile(loss='mean_squared_error', optimizer='adam', loss_weights=[20,20,-10])\n",
    "model_or.fit(X_train_or, y_train_or, epochs=1000, verbose=0)\n",
    "\n",
    "def OR(x1, x2):\n",
    "    vals = [[x1,x2,bias]]\n",
    "    x_input = tf.concat(axis=0, values=[vals])\n",
    "    return model_or.predict(x_input)[0][0]\n",
    "\n",
    "or_res = OR(zero, zero)\n",
    "print(or_res)"
   ]
  },
  {
   "cell_type": "code",
   "execution_count": 51,
   "metadata": {
    "tags": []
   },
   "outputs": [
    {
     "output_type": "stream",
     "name": "stdout",
     "text": "0.94752645\n"
    }
   ],
   "source": [
    "# PROBLEM 3 - NOT\n",
    "# Inputs: x1, as the left-hand side of truth table, plus bias\n",
    "X_train_not = tf.constant([[0,1],[1,1]], \"float32\")\n",
    "y_train_not = tf.constant([[1],[0]], \"float32\")\n",
    "\n",
    "model_not = Sequential([\n",
    "    Dense(32, input_dim=2, activation='relu'),\n",
    "    Dense(1, activation='sigmoid')\n",
    "])\n",
    "# Experimented with different weights\n",
    "model_not.compile(loss='mean_squared_error', optimizer='adam', loss_weights=[20,-20])\n",
    "model_not.fit(X_train_not, y_train_not, epochs=1000, verbose=0)\n",
    "\n",
    "def NOT(x1):\n",
    "    vals = [[x1,bias]]\n",
    "    x_input = tf.concat(axis=0, values=[vals])\n",
    "    return model_not.predict(x_input)[0][0]\n",
    "\n",
    "not_res = NOT(zero)\n",
    "print(not_res)"
   ]
  },
  {
   "cell_type": "code",
   "execution_count": 52,
   "metadata": {},
   "outputs": [],
   "source": [
    "# PROBLEM 4\n",
    "def XOR(x1, x2):\n",
    "    return OR(x1, x2) - AND(x1,x2)\n",
    "\n",
    "def XNOR(x1, x2):\n",
    "    res = XOR(x1,x2).round()\n",
    "    return NOT(res)"
   ]
  },
  {
   "cell_type": "code",
   "execution_count": 53,
   "metadata": {
    "tags": []
   },
   "outputs": [
    {
     "output_type": "stream",
     "name": "stdout",
     "text": "Testing XNOR\nExpected close to: 1, actual: 0.9475264549255371\nExpected close to: 0, actual: 0.0517725944519043\nExpected close to: 0, actual: 0.0517725944519043\nExpected close to: 1, actual: 0.9475264549255371\n"
    }
   ],
   "source": [
    "test_params = [\n",
    "    ((zero,zero), 1),\n",
    "    ((zero,one), 0),\n",
    "    ((one,zero), 0),\n",
    "    ((one,one), 1)\n",
    "]\n",
    "\n",
    "# Loop through test params and print results\n",
    "print(\"Testing XNOR\")\n",
    "for inputs, output in test_params:\n",
    "    x1, x2 = inputs\n",
    "    res = XNOR(x1, x2)\n",
    "    print(f'Expected close to: {output}, actual: {res}')"
   ]
  },
  {
   "cell_type": "code",
   "execution_count": 54,
   "metadata": {
    "tags": []
   },
   "outputs": [
    {
     "output_type": "stream",
     "name": "stdout",
     "text": "[[9 0 0 0]\n [0 0 3 0]\n [0 0 0 5]\n [0 7 0 9]]\n"
    }
   ],
   "source": [
    "# PROBLEM 5\n",
    "seed = 42\n",
    "# Generate 5 tuples of integers between 0-3\n",
    "def getRandInt(minval, maxval):\n",
    "    '''Helper function for getting random integer, using the Tensorflow API.'''\n",
    "    return tf.random.uniform(shape=(1,), minval=minval, maxval=maxval, dtype=tf.int32, seed=seed).numpy()[0]\n",
    "\n",
    "def getIndex():\n",
    "    '''Helper function for getting the index value as row,col.'''\n",
    "    row = getRandInt(0,4)\n",
    "    col = getRandInt(0,4)\n",
    "    index = [row,col]\n",
    "    return index\n",
    "\n",
    "indices = []\n",
    "values = []\n",
    "for i in range(5):\n",
    "    index = getIndex()\n",
    "    # Avoid indices already generated (no duplicates)\n",
    "    while index in indices:\n",
    "        index = getIndex()\n",
    "    indices.append(index)\n",
    "    # Generate values for index\n",
    "    val = getRandInt(1,11)\n",
    "    values.append(val)\n",
    "    \n",
    "sparse_t = SparseTensor(indices=indices, values=values, dense_shape=(4,4))\n",
    "dense_t = to_dense(reorder(sparse_t)).numpy()\n",
    "print(dense_t)"
   ]
  },
  {
   "cell_type": "code",
   "execution_count": 55,
   "metadata": {
    "tags": []
   },
   "outputs": [
    {
     "output_type": "stream",
     "name": "stdout",
     "text": "[ 0.465 -0.812 -0.788 -0.797  0.717  1.    -0.852]\n"
    }
   ],
   "source": [
    "# PROBLEM 6 - NP\n",
    "# Increase precision to make output more legible\n",
    "# NOTE: the data in the original auto-mpg.data does not match the new auto_mpg.csv file\n",
    "np.set_printoptions(precision=3)\n",
    "usecols = [1,2,3,4,7,8,10]\n",
    "filename = './auto_mpg.csv'\n",
    "# Columns used (in order):\n",
    "# Acceleration, Cylinders, Displacement, Horsepower, Model_Year, MPG, Weight\n",
    "mpg = np.genfromtxt(filename, delimiter=',', usecols=usecols, skip_header=True, missing_values=0)\n",
    "# Get coefficient matrix of mpg column\n",
    "mpg_corrcoef = np.corrcoef(mpg.T)[5]\n",
    "# Columns with highest coefficient (descending order): Weight, Cylinders, Horsepower, Displacement, Model_Year, Acceleration\n",
    "print(mpg_corrcoef)\n"
   ]
  },
  {
   "cell_type": "code",
   "execution_count": 56,
   "metadata": {
    "tags": []
   },
   "outputs": [
    {
     "output_type": "execute_result",
     "data": {
      "text/plain": "              Acceleration  Cylinders  Displacement  Horsepower  Model_Year  \\\nMPG               0.464598  -0.811988     -0.787702   -0.797357    0.717115   \nWeight           -0.487942   0.884401      0.889475    0.872247   -0.496371   \nCylinders        -0.647346   1.000000      0.951167    0.861873   -0.605270   \nHorsepower       -0.694118   0.861873      0.913560    1.000000   -0.608498   \nDisplacement     -0.694744   0.951167      1.000000    0.913560   -0.577851   \nModel_Year        0.484253  -0.605270     -0.577851   -0.608498    1.000000   \nAcceleration      1.000000  -0.647346     -0.694744   -0.694118    0.484253   \n\n                   MPG    Weight  \nMPG           1.000000 -0.851958  \nWeight       -0.851958  1.000000  \nCylinders    -0.811988  0.884401  \nHorsepower   -0.797357  0.872247  \nDisplacement -0.787702  0.889475  \nModel_Year    0.717115 -0.496371  \nAcceleration  0.464598 -0.487942  ",
      "text/html": "<div>\n<style scoped>\n    .dataframe tbody tr th:only-of-type {\n        vertical-align: middle;\n    }\n\n    .dataframe tbody tr th {\n        vertical-align: top;\n    }\n\n    .dataframe thead th {\n        text-align: right;\n    }\n</style>\n<table border=\"1\" class=\"dataframe\">\n  <thead>\n    <tr style=\"text-align: right;\">\n      <th></th>\n      <th>Acceleration</th>\n      <th>Cylinders</th>\n      <th>Displacement</th>\n      <th>Horsepower</th>\n      <th>Model_Year</th>\n      <th>MPG</th>\n      <th>Weight</th>\n    </tr>\n  </thead>\n  <tbody>\n    <tr>\n      <th>MPG</th>\n      <td>0.464598</td>\n      <td>-0.811988</td>\n      <td>-0.787702</td>\n      <td>-0.797357</td>\n      <td>0.717115</td>\n      <td>1.000000</td>\n      <td>-0.851958</td>\n    </tr>\n    <tr>\n      <th>Weight</th>\n      <td>-0.487942</td>\n      <td>0.884401</td>\n      <td>0.889475</td>\n      <td>0.872247</td>\n      <td>-0.496371</td>\n      <td>-0.851958</td>\n      <td>1.000000</td>\n    </tr>\n    <tr>\n      <th>Cylinders</th>\n      <td>-0.647346</td>\n      <td>1.000000</td>\n      <td>0.951167</td>\n      <td>0.861873</td>\n      <td>-0.605270</td>\n      <td>-0.811988</td>\n      <td>0.884401</td>\n    </tr>\n    <tr>\n      <th>Horsepower</th>\n      <td>-0.694118</td>\n      <td>0.861873</td>\n      <td>0.913560</td>\n      <td>1.000000</td>\n      <td>-0.608498</td>\n      <td>-0.797357</td>\n      <td>0.872247</td>\n    </tr>\n    <tr>\n      <th>Displacement</th>\n      <td>-0.694744</td>\n      <td>0.951167</td>\n      <td>1.000000</td>\n      <td>0.913560</td>\n      <td>-0.577851</td>\n      <td>-0.787702</td>\n      <td>0.889475</td>\n    </tr>\n    <tr>\n      <th>Model_Year</th>\n      <td>0.484253</td>\n      <td>-0.605270</td>\n      <td>-0.577851</td>\n      <td>-0.608498</td>\n      <td>1.000000</td>\n      <td>0.717115</td>\n      <td>-0.496371</td>\n    </tr>\n    <tr>\n      <th>Acceleration</th>\n      <td>1.000000</td>\n      <td>-0.647346</td>\n      <td>-0.694744</td>\n      <td>-0.694118</td>\n      <td>0.484253</td>\n      <td>0.464598</td>\n      <td>-0.487942</td>\n    </tr>\n  </tbody>\n</table>\n</div>"
     },
     "metadata": {},
     "execution_count": 56
    }
   ],
   "source": [
    "mpg = pd.read_csv(filename, usecols=usecols)\n",
    "# Get coefficient matrix\n",
    "mpg_corr = mpg.corr()\n",
    "# Sort by absolute value of MPG column\n",
    "mpg_corr.iloc[mpg_corr['MPG'].abs().argsort()][::-1]\n",
    "# Columns with highest coefficient (descending order): Weight, Cylinders, Horsepower, Displacement, Model_Year, Acceleration\n",
    "# Confirms findings from np approach"
   ]
  },
  {
   "cell_type": "code",
   "execution_count": null,
   "metadata": {},
   "outputs": [],
   "source": []
  }
 ]
}