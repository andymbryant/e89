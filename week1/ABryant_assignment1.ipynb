{
 "metadata": {
  "language_info": {
   "codemirror_mode": {
    "name": "ipython",
    "version": 3
   },
   "file_extension": ".py",
   "mimetype": "text/x-python",
   "name": "python",
   "nbconvert_exporter": "python",
   "pygments_lexer": "ipython3",
   "version": "3.8.5-final"
  },
  "orig_nbformat": 2,
  "kernelspec": {
   "name": "python_defaultSpec_1599922342306",
   "display_name": "Python 3.8.5 64-bit"
  }
 },
 "nbformat": 4,
 "nbformat_minor": 2,
 "cells": [
  {
   "cell_type": "code",
   "execution_count": 12,
   "metadata": {
    "tags": []
   },
   "outputs": [],
   "source": [
    "import tensorflow as tf\n",
    "from tensorflow.keras.models import Sequential\n",
    "from tensorflow.keras.layers import Dense\n",
    "from tensorflow.math import logical_not, logical_xor\n",
    "import pylab\n",
    "import numpy as np\n",
    "import pandas as pandas\n",
    "from tensorflow.sparse import SparseTensor, to_dense, reorder\n",
    "%matplotlib inline"
   ]
  },
  {
   "cell_type": "code",
   "execution_count": 2,
   "metadata": {
    "tags": []
   },
   "outputs": [
    {
     "output_type": "stream",
     "name": "stdout",
     "text": "tf.Tensor(b'It works!', shape=(), dtype=string)\nYou have version 2.3.0\n"
    },
    {
     "output_type": "execute_result",
     "data": {
      "text/plain": "[<matplotlib.lines.Line2D at 0x144830430>]"
     },
     "metadata": {},
     "execution_count": 2
    },
    {
     "output_type": "display_data",
     "data": {
      "text/plain": "<Figure size 432x288 with 1 Axes>",
      "image/svg+xml": "<?xml version=\"1.0\" encoding=\"utf-8\" standalone=\"no\"?>\n<!DOCTYPE svg PUBLIC \"-//W3C//DTD SVG 1.1//EN\"\n  \"http://www.w3.org/Graphics/SVG/1.1/DTD/svg11.dtd\">\n<!-- Created with matplotlib (https://matplotlib.org/) -->\n<svg height=\"248.518125pt\" version=\"1.1\" viewBox=\"0 0 378.465625 248.518125\" width=\"378.465625pt\" xmlns=\"http://www.w3.org/2000/svg\" xmlns:xlink=\"http://www.w3.org/1999/xlink\">\n <metadata>\n  <rdf:RDF xmlns:cc=\"http://creativecommons.org/ns#\" xmlns:dc=\"http://purl.org/dc/elements/1.1/\" xmlns:rdf=\"http://www.w3.org/1999/02/22-rdf-syntax-ns#\">\n   <cc:Work>\n    <dc:type rdf:resource=\"http://purl.org/dc/dcmitype/StillImage\"/>\n    <dc:date>2020-09-12T10:52:31.559319</dc:date>\n    <dc:format>image/svg+xml</dc:format>\n    <dc:creator>\n     <cc:Agent>\n      <dc:title>Matplotlib v3.3.0, https://matplotlib.org/</dc:title>\n     </cc:Agent>\n    </dc:creator>\n   </cc:Work>\n  </rdf:RDF>\n </metadata>\n <defs>\n  <style type=\"text/css\">*{stroke-linecap:butt;stroke-linejoin:round;}</style>\n </defs>\n <g id=\"figure_1\">\n  <g id=\"patch_1\">\n   <path d=\"M 0 248.518125 \nL 378.465625 248.518125 \nL 378.465625 0 \nL 0 0 \nz\n\" style=\"fill:none;\"/>\n  </g>\n  <g id=\"axes_1\">\n   <g id=\"patch_2\">\n    <path d=\"M 36.465625 224.64 \nL 371.265625 224.64 \nL 371.265625 7.2 \nL 36.465625 7.2 \nz\n\" style=\"fill:#ffffff;\"/>\n   </g>\n   <g id=\"matplotlib.axis_1\">\n    <g id=\"xtick_1\">\n     <g id=\"line2d_1\">\n      <defs>\n       <path d=\"M 0 0 \nL 0 3.5 \n\" id=\"m2050b36ede\" style=\"stroke:#000000;stroke-width:0.8;\"/>\n      </defs>\n      <g>\n       <use style=\"stroke:#000000;stroke-width:0.8;\" x=\"51.090399\" xlink:href=\"#m2050b36ede\" y=\"224.64\"/>\n      </g>\n     </g>\n     <g id=\"text_1\">\n      <!-- 0.0 -->\n      <g transform=\"translate(43.138837 239.238438)scale(0.1 -0.1)\">\n       <defs>\n        <path d=\"M 31.78125 66.40625 \nQ 24.171875 66.40625 20.328125 58.90625 \nQ 16.5 51.421875 16.5 36.375 \nQ 16.5 21.390625 20.328125 13.890625 \nQ 24.171875 6.390625 31.78125 6.390625 \nQ 39.453125 6.390625 43.28125 13.890625 \nQ 47.125 21.390625 47.125 36.375 \nQ 47.125 51.421875 43.28125 58.90625 \nQ 39.453125 66.40625 31.78125 66.40625 \nz\nM 31.78125 74.21875 \nQ 44.046875 74.21875 50.515625 64.515625 \nQ 56.984375 54.828125 56.984375 36.375 \nQ 56.984375 17.96875 50.515625 8.265625 \nQ 44.046875 -1.421875 31.78125 -1.421875 \nQ 19.53125 -1.421875 13.0625 8.265625 \nQ 6.59375 17.96875 6.59375 36.375 \nQ 6.59375 54.828125 13.0625 64.515625 \nQ 19.53125 74.21875 31.78125 74.21875 \nz\n\" id=\"DejaVuSans-48\"/>\n        <path d=\"M 10.6875 12.40625 \nL 21 12.40625 \nL 21 0 \nL 10.6875 0 \nz\n\" id=\"DejaVuSans-46\"/>\n       </defs>\n       <use xlink:href=\"#DejaVuSans-48\"/>\n       <use x=\"63.623047\" xlink:href=\"#DejaVuSans-46\"/>\n       <use x=\"95.410156\" xlink:href=\"#DejaVuSans-48\"/>\n      </g>\n     </g>\n    </g>\n    <g id=\"xtick_2\">\n     <g id=\"line2d_2\">\n      <g>\n       <use style=\"stroke:#000000;stroke-width:0.8;\" x=\"113.057317\" xlink:href=\"#m2050b36ede\" y=\"224.64\"/>\n      </g>\n     </g>\n     <g id=\"text_2\">\n      <!-- 0.2 -->\n      <g transform=\"translate(105.105755 239.238438)scale(0.1 -0.1)\">\n       <defs>\n        <path d=\"M 19.1875 8.296875 \nL 53.609375 8.296875 \nL 53.609375 0 \nL 7.328125 0 \nL 7.328125 8.296875 \nQ 12.9375 14.109375 22.625 23.890625 \nQ 32.328125 33.6875 34.8125 36.53125 \nQ 39.546875 41.84375 41.421875 45.53125 \nQ 43.3125 49.21875 43.3125 52.78125 \nQ 43.3125 58.59375 39.234375 62.25 \nQ 35.15625 65.921875 28.609375 65.921875 \nQ 23.96875 65.921875 18.8125 64.3125 \nQ 13.671875 62.703125 7.8125 59.421875 \nL 7.8125 69.390625 \nQ 13.765625 71.78125 18.9375 73 \nQ 24.125 74.21875 28.421875 74.21875 \nQ 39.75 74.21875 46.484375 68.546875 \nQ 53.21875 62.890625 53.21875 53.421875 \nQ 53.21875 48.921875 51.53125 44.890625 \nQ 49.859375 40.875 45.40625 35.40625 \nQ 44.1875 33.984375 37.640625 27.21875 \nQ 31.109375 20.453125 19.1875 8.296875 \nz\n\" id=\"DejaVuSans-50\"/>\n       </defs>\n       <use xlink:href=\"#DejaVuSans-48\"/>\n       <use x=\"63.623047\" xlink:href=\"#DejaVuSans-46\"/>\n       <use x=\"95.410156\" xlink:href=\"#DejaVuSans-50\"/>\n      </g>\n     </g>\n    </g>\n    <g id=\"xtick_3\">\n     <g id=\"line2d_3\">\n      <g>\n       <use style=\"stroke:#000000;stroke-width:0.8;\" x=\"175.024235\" xlink:href=\"#m2050b36ede\" y=\"224.64\"/>\n      </g>\n     </g>\n     <g id=\"text_3\">\n      <!-- 0.4 -->\n      <g transform=\"translate(167.072673 239.238438)scale(0.1 -0.1)\">\n       <defs>\n        <path d=\"M 37.796875 64.3125 \nL 12.890625 25.390625 \nL 37.796875 25.390625 \nz\nM 35.203125 72.90625 \nL 47.609375 72.90625 \nL 47.609375 25.390625 \nL 58.015625 25.390625 \nL 58.015625 17.1875 \nL 47.609375 17.1875 \nL 47.609375 0 \nL 37.796875 0 \nL 37.796875 17.1875 \nL 4.890625 17.1875 \nL 4.890625 26.703125 \nz\n\" id=\"DejaVuSans-52\"/>\n       </defs>\n       <use xlink:href=\"#DejaVuSans-48\"/>\n       <use x=\"63.623047\" xlink:href=\"#DejaVuSans-46\"/>\n       <use x=\"95.410156\" xlink:href=\"#DejaVuSans-52\"/>\n      </g>\n     </g>\n    </g>\n    <g id=\"xtick_4\">\n     <g id=\"line2d_4\">\n      <g>\n       <use style=\"stroke:#000000;stroke-width:0.8;\" x=\"236.991154\" xlink:href=\"#m2050b36ede\" y=\"224.64\"/>\n      </g>\n     </g>\n     <g id=\"text_4\">\n      <!-- 0.6 -->\n      <g transform=\"translate(229.039591 239.238438)scale(0.1 -0.1)\">\n       <defs>\n        <path d=\"M 33.015625 40.375 \nQ 26.375 40.375 22.484375 35.828125 \nQ 18.609375 31.296875 18.609375 23.390625 \nQ 18.609375 15.53125 22.484375 10.953125 \nQ 26.375 6.390625 33.015625 6.390625 \nQ 39.65625 6.390625 43.53125 10.953125 \nQ 47.40625 15.53125 47.40625 23.390625 \nQ 47.40625 31.296875 43.53125 35.828125 \nQ 39.65625 40.375 33.015625 40.375 \nz\nM 52.59375 71.296875 \nL 52.59375 62.3125 \nQ 48.875 64.0625 45.09375 64.984375 \nQ 41.3125 65.921875 37.59375 65.921875 \nQ 27.828125 65.921875 22.671875 59.328125 \nQ 17.53125 52.734375 16.796875 39.40625 \nQ 19.671875 43.65625 24.015625 45.921875 \nQ 28.375 48.1875 33.59375 48.1875 \nQ 44.578125 48.1875 50.953125 41.515625 \nQ 57.328125 34.859375 57.328125 23.390625 \nQ 57.328125 12.15625 50.6875 5.359375 \nQ 44.046875 -1.421875 33.015625 -1.421875 \nQ 20.359375 -1.421875 13.671875 8.265625 \nQ 6.984375 17.96875 6.984375 36.375 \nQ 6.984375 53.65625 15.1875 63.9375 \nQ 23.390625 74.21875 37.203125 74.21875 \nQ 40.921875 74.21875 44.703125 73.484375 \nQ 48.484375 72.75 52.59375 71.296875 \nz\n\" id=\"DejaVuSans-54\"/>\n       </defs>\n       <use xlink:href=\"#DejaVuSans-48\"/>\n       <use x=\"63.623047\" xlink:href=\"#DejaVuSans-46\"/>\n       <use x=\"95.410156\" xlink:href=\"#DejaVuSans-54\"/>\n      </g>\n     </g>\n    </g>\n    <g id=\"xtick_5\">\n     <g id=\"line2d_5\">\n      <g>\n       <use style=\"stroke:#000000;stroke-width:0.8;\" x=\"298.958072\" xlink:href=\"#m2050b36ede\" y=\"224.64\"/>\n      </g>\n     </g>\n     <g id=\"text_5\">\n      <!-- 0.8 -->\n      <g transform=\"translate(291.006509 239.238438)scale(0.1 -0.1)\">\n       <defs>\n        <path d=\"M 31.78125 34.625 \nQ 24.75 34.625 20.71875 30.859375 \nQ 16.703125 27.09375 16.703125 20.515625 \nQ 16.703125 13.921875 20.71875 10.15625 \nQ 24.75 6.390625 31.78125 6.390625 \nQ 38.8125 6.390625 42.859375 10.171875 \nQ 46.921875 13.96875 46.921875 20.515625 \nQ 46.921875 27.09375 42.890625 30.859375 \nQ 38.875 34.625 31.78125 34.625 \nz\nM 21.921875 38.8125 \nQ 15.578125 40.375 12.03125 44.71875 \nQ 8.5 49.078125 8.5 55.328125 \nQ 8.5 64.0625 14.71875 69.140625 \nQ 20.953125 74.21875 31.78125 74.21875 \nQ 42.671875 74.21875 48.875 69.140625 \nQ 55.078125 64.0625 55.078125 55.328125 \nQ 55.078125 49.078125 51.53125 44.71875 \nQ 48 40.375 41.703125 38.8125 \nQ 48.828125 37.15625 52.796875 32.3125 \nQ 56.78125 27.484375 56.78125 20.515625 \nQ 56.78125 9.90625 50.3125 4.234375 \nQ 43.84375 -1.421875 31.78125 -1.421875 \nQ 19.734375 -1.421875 13.25 4.234375 \nQ 6.78125 9.90625 6.78125 20.515625 \nQ 6.78125 27.484375 10.78125 32.3125 \nQ 14.796875 37.15625 21.921875 38.8125 \nz\nM 18.3125 54.390625 \nQ 18.3125 48.734375 21.84375 45.5625 \nQ 25.390625 42.390625 31.78125 42.390625 \nQ 38.140625 42.390625 41.71875 45.5625 \nQ 45.3125 48.734375 45.3125 54.390625 \nQ 45.3125 60.0625 41.71875 63.234375 \nQ 38.140625 66.40625 31.78125 66.40625 \nQ 25.390625 66.40625 21.84375 63.234375 \nQ 18.3125 60.0625 18.3125 54.390625 \nz\n\" id=\"DejaVuSans-56\"/>\n       </defs>\n       <use xlink:href=\"#DejaVuSans-48\"/>\n       <use x=\"63.623047\" xlink:href=\"#DejaVuSans-46\"/>\n       <use x=\"95.410156\" xlink:href=\"#DejaVuSans-56\"/>\n      </g>\n     </g>\n    </g>\n    <g id=\"xtick_6\">\n     <g id=\"line2d_6\">\n      <g>\n       <use style=\"stroke:#000000;stroke-width:0.8;\" x=\"360.92499\" xlink:href=\"#m2050b36ede\" y=\"224.64\"/>\n      </g>\n     </g>\n     <g id=\"text_6\">\n      <!-- 1.0 -->\n      <g transform=\"translate(352.973427 239.238438)scale(0.1 -0.1)\">\n       <defs>\n        <path d=\"M 12.40625 8.296875 \nL 28.515625 8.296875 \nL 28.515625 63.921875 \nL 10.984375 60.40625 \nL 10.984375 69.390625 \nL 28.421875 72.90625 \nL 38.28125 72.90625 \nL 38.28125 8.296875 \nL 54.390625 8.296875 \nL 54.390625 0 \nL 12.40625 0 \nz\n\" id=\"DejaVuSans-49\"/>\n       </defs>\n       <use xlink:href=\"#DejaVuSans-49\"/>\n       <use x=\"63.623047\" xlink:href=\"#DejaVuSans-46\"/>\n       <use x=\"95.410156\" xlink:href=\"#DejaVuSans-48\"/>\n      </g>\n     </g>\n    </g>\n   </g>\n   <g id=\"matplotlib.axis_2\">\n    <g id=\"ytick_1\">\n     <g id=\"line2d_7\">\n      <defs>\n       <path d=\"M 0 0 \nL -3.5 0 \n\" id=\"m6b466ae908\" style=\"stroke:#000000;stroke-width:0.8;\"/>\n      </defs>\n      <g>\n       <use style=\"stroke:#000000;stroke-width:0.8;\" x=\"36.465625\" xlink:href=\"#m6b466ae908\" y=\"223.472949\"/>\n      </g>\n     </g>\n     <g id=\"text_7\">\n      <!-- 0.28 -->\n      <g transform=\"translate(7.2 227.272168)scale(0.1 -0.1)\">\n       <use xlink:href=\"#DejaVuSans-48\"/>\n       <use x=\"63.623047\" xlink:href=\"#DejaVuSans-46\"/>\n       <use x=\"95.410156\" xlink:href=\"#DejaVuSans-50\"/>\n       <use x=\"159.033203\" xlink:href=\"#DejaVuSans-56\"/>\n      </g>\n     </g>\n    </g>\n    <g id=\"ytick_2\">\n     <g id=\"line2d_8\">\n      <g>\n       <use style=\"stroke:#000000;stroke-width:0.8;\" x=\"36.465625\" xlink:href=\"#m6b466ae908\" y=\"192.332808\"/>\n      </g>\n     </g>\n     <g id=\"text_8\">\n      <!-- 0.30 -->\n      <g transform=\"translate(7.2 196.132027)scale(0.1 -0.1)\">\n       <defs>\n        <path d=\"M 40.578125 39.3125 \nQ 47.65625 37.796875 51.625 33 \nQ 55.609375 28.21875 55.609375 21.1875 \nQ 55.609375 10.40625 48.1875 4.484375 \nQ 40.765625 -1.421875 27.09375 -1.421875 \nQ 22.515625 -1.421875 17.65625 -0.515625 \nQ 12.796875 0.390625 7.625 2.203125 \nL 7.625 11.71875 \nQ 11.71875 9.328125 16.59375 8.109375 \nQ 21.484375 6.890625 26.8125 6.890625 \nQ 36.078125 6.890625 40.9375 10.546875 \nQ 45.796875 14.203125 45.796875 21.1875 \nQ 45.796875 27.640625 41.28125 31.265625 \nQ 36.765625 34.90625 28.71875 34.90625 \nL 20.21875 34.90625 \nL 20.21875 43.015625 \nL 29.109375 43.015625 \nQ 36.375 43.015625 40.234375 45.921875 \nQ 44.09375 48.828125 44.09375 54.296875 \nQ 44.09375 59.90625 40.109375 62.90625 \nQ 36.140625 65.921875 28.71875 65.921875 \nQ 24.65625 65.921875 20.015625 65.03125 \nQ 15.375 64.15625 9.8125 62.3125 \nL 9.8125 71.09375 \nQ 15.4375 72.65625 20.34375 73.4375 \nQ 25.25 74.21875 29.59375 74.21875 \nQ 40.828125 74.21875 47.359375 69.109375 \nQ 53.90625 64.015625 53.90625 55.328125 \nQ 53.90625 49.265625 50.4375 45.09375 \nQ 46.96875 40.921875 40.578125 39.3125 \nz\n\" id=\"DejaVuSans-51\"/>\n       </defs>\n       <use xlink:href=\"#DejaVuSans-48\"/>\n       <use x=\"63.623047\" xlink:href=\"#DejaVuSans-46\"/>\n       <use x=\"95.410156\" xlink:href=\"#DejaVuSans-51\"/>\n       <use x=\"159.033203\" xlink:href=\"#DejaVuSans-48\"/>\n      </g>\n     </g>\n    </g>\n    <g id=\"ytick_3\">\n     <g id=\"line2d_9\">\n      <g>\n       <use style=\"stroke:#000000;stroke-width:0.8;\" x=\"36.465625\" xlink:href=\"#m6b466ae908\" y=\"161.192668\"/>\n      </g>\n     </g>\n     <g id=\"text_9\">\n      <!-- 0.32 -->\n      <g transform=\"translate(7.2 164.991887)scale(0.1 -0.1)\">\n       <use xlink:href=\"#DejaVuSans-48\"/>\n       <use x=\"63.623047\" xlink:href=\"#DejaVuSans-46\"/>\n       <use x=\"95.410156\" xlink:href=\"#DejaVuSans-51\"/>\n       <use x=\"159.033203\" xlink:href=\"#DejaVuSans-50\"/>\n      </g>\n     </g>\n    </g>\n    <g id=\"ytick_4\">\n     <g id=\"line2d_10\">\n      <g>\n       <use style=\"stroke:#000000;stroke-width:0.8;\" x=\"36.465625\" xlink:href=\"#m6b466ae908\" y=\"130.052528\"/>\n      </g>\n     </g>\n     <g id=\"text_10\">\n      <!-- 0.34 -->\n      <g transform=\"translate(7.2 133.851746)scale(0.1 -0.1)\">\n       <use xlink:href=\"#DejaVuSans-48\"/>\n       <use x=\"63.623047\" xlink:href=\"#DejaVuSans-46\"/>\n       <use x=\"95.410156\" xlink:href=\"#DejaVuSans-51\"/>\n       <use x=\"159.033203\" xlink:href=\"#DejaVuSans-52\"/>\n      </g>\n     </g>\n    </g>\n    <g id=\"ytick_5\">\n     <g id=\"line2d_11\">\n      <g>\n       <use style=\"stroke:#000000;stroke-width:0.8;\" x=\"36.465625\" xlink:href=\"#m6b466ae908\" y=\"98.912387\"/>\n      </g>\n     </g>\n     <g id=\"text_11\">\n      <!-- 0.36 -->\n      <g transform=\"translate(7.2 102.711606)scale(0.1 -0.1)\">\n       <use xlink:href=\"#DejaVuSans-48\"/>\n       <use x=\"63.623047\" xlink:href=\"#DejaVuSans-46\"/>\n       <use x=\"95.410156\" xlink:href=\"#DejaVuSans-51\"/>\n       <use x=\"159.033203\" xlink:href=\"#DejaVuSans-54\"/>\n      </g>\n     </g>\n    </g>\n    <g id=\"ytick_6\">\n     <g id=\"line2d_12\">\n      <g>\n       <use style=\"stroke:#000000;stroke-width:0.8;\" x=\"36.465625\" xlink:href=\"#m6b466ae908\" y=\"67.772247\"/>\n      </g>\n     </g>\n     <g id=\"text_12\">\n      <!-- 0.38 -->\n      <g transform=\"translate(7.2 71.571465)scale(0.1 -0.1)\">\n       <use xlink:href=\"#DejaVuSans-48\"/>\n       <use x=\"63.623047\" xlink:href=\"#DejaVuSans-46\"/>\n       <use x=\"95.410156\" xlink:href=\"#DejaVuSans-51\"/>\n       <use x=\"159.033203\" xlink:href=\"#DejaVuSans-56\"/>\n      </g>\n     </g>\n    </g>\n    <g id=\"ytick_7\">\n     <g id=\"line2d_13\">\n      <g>\n       <use style=\"stroke:#000000;stroke-width:0.8;\" x=\"36.465625\" xlink:href=\"#m6b466ae908\" y=\"36.632106\"/>\n      </g>\n     </g>\n     <g id=\"text_13\">\n      <!-- 0.40 -->\n      <g transform=\"translate(7.2 40.431325)scale(0.1 -0.1)\">\n       <use xlink:href=\"#DejaVuSans-48\"/>\n       <use x=\"63.623047\" xlink:href=\"#DejaVuSans-46\"/>\n       <use x=\"95.410156\" xlink:href=\"#DejaVuSans-52\"/>\n       <use x=\"159.033203\" xlink:href=\"#DejaVuSans-48\"/>\n      </g>\n     </g>\n    </g>\n   </g>\n   <g id=\"line2d_14\">\n    <defs>\n     <path d=\"M 0 1.5 \nC 0.397805 1.5 0.77937 1.341951 1.06066 1.06066 \nC 1.341951 0.77937 1.5 0.397805 1.5 0 \nC 1.5 -0.397805 1.341951 -0.77937 1.06066 -1.06066 \nC 0.77937 -1.341951 0.397805 -1.5 0 -1.5 \nC -0.397805 -1.5 -0.77937 -1.341951 -1.06066 -1.06066 \nC -1.341951 -0.77937 -1.5 -0.397805 -1.5 0 \nC -1.5 0.397805 -1.341951 0.77937 -1.06066 1.06066 \nC -0.77937 1.341951 -0.397805 1.5 0 1.5 \nz\n\" id=\"m0611f12541\" style=\"stroke:#1f77b4;\"/>\n    </defs>\n    <g clip-path=\"url(#p5d0d13a762)\">\n     <use style=\"fill:#1f77b4;stroke:#1f77b4;\" x=\"129.365295\" xlink:href=\"#m0611f12541\" y=\"150.002902\"/>\n     <use style=\"fill:#1f77b4;stroke:#1f77b4;\" x=\"329.319591\" xlink:href=\"#m0611f12541\" y=\"54.729449\"/>\n     <use style=\"fill:#1f77b4;stroke:#1f77b4;\" x=\"227.379321\" xlink:href=\"#m0611f12541\" y=\"120.855871\"/>\n     <use style=\"fill:#1f77b4;stroke:#1f77b4;\" x=\"114.991876\" xlink:href=\"#m0611f12541\" y=\"154.345078\"/>\n     <use style=\"fill:#1f77b4;stroke:#1f77b4;\" x=\"180.62286\" xlink:href=\"#m0611f12541\" y=\"140.352947\"/>\n     <use style=\"fill:#1f77b4;stroke:#1f77b4;\" x=\"212.658997\" xlink:href=\"#m0611f12541\" y=\"117.03026\"/>\n     <use style=\"fill:#1f77b4;stroke:#1f77b4;\" x=\"243.978536\" xlink:href=\"#m0611f12541\" y=\"106.249716\"/>\n     <use style=\"fill:#1f77b4;stroke:#1f77b4;\" x=\"91.706574\" xlink:href=\"#m0611f12541\" y=\"179.134797\"/>\n     <use style=\"fill:#1f77b4;stroke:#1f77b4;\" x=\"135.188835\" xlink:href=\"#m0611f12541\" y=\"157.354819\"/>\n     <use style=\"fill:#1f77b4;stroke:#1f77b4;\" x=\"122.323514\" xlink:href=\"#m0611f12541\" y=\"142.007737\"/>\n     <use style=\"fill:#1f77b4;stroke:#1f77b4;\" x=\"153.701522\" xlink:href=\"#m0611f12541\" y=\"144.332857\"/>\n     <use style=\"fill:#1f77b4;stroke:#1f77b4;\" x=\"202.403931\" xlink:href=\"#m0611f12541\" y=\"112.720036\"/>\n     <use style=\"fill:#1f77b4;stroke:#1f77b4;\" x=\"250.298696\" xlink:href=\"#m0611f12541\" y=\"89.443954\"/>\n     <use style=\"fill:#1f77b4;stroke:#1f77b4;\" x=\"234.890788\" xlink:href=\"#m0611f12541\" y=\"98.426983\"/>\n     <use style=\"fill:#1f77b4;stroke:#1f77b4;\" x=\"322.980889\" xlink:href=\"#m0611f12541\" y=\"51.842611\"/>\n     <use style=\"fill:#1f77b4;stroke:#1f77b4;\" x=\"217.670914\" xlink:href=\"#m0611f12541\" y=\"137.049369\"/>\n     <use style=\"fill:#1f77b4;stroke:#1f77b4;\" x=\"263.048289\" xlink:href=\"#m0611f12541\" y=\"91.699474\"/>\n     <use style=\"fill:#1f77b4;stroke:#1f77b4;\" x=\"110.593341\" xlink:href=\"#m0611f12541\" y=\"176.31752\"/>\n     <use style=\"fill:#1f77b4;stroke:#1f77b4;\" x=\"227.465472\" xlink:href=\"#m0611f12541\" y=\"126.82675\"/>\n     <use style=\"fill:#1f77b4;stroke:#1f77b4;\" x=\"164.747656\" xlink:href=\"#m0611f12541\" y=\"141.725247\"/>\n     <use style=\"fill:#1f77b4;stroke:#1f77b4;\" x=\"91.39733\" xlink:href=\"#m0611f12541\" y=\"171.263625\"/>\n     <use style=\"fill:#1f77b4;stroke:#1f77b4;\" x=\"73.830614\" xlink:href=\"#m0611f12541\" y=\"184.656548\"/>\n     <use style=\"fill:#1f77b4;stroke:#1f77b4;\" x=\"305.993134\" xlink:href=\"#m0611f12541\" y=\"63.288582\"/>\n     <use style=\"fill:#1f77b4;stroke:#1f77b4;\" x=\"299.456515\" xlink:href=\"#m0611f12541\" y=\"72.826816\"/>\n     <use style=\"fill:#1f77b4;stroke:#1f77b4;\" x=\"310.033767\" xlink:href=\"#m0611f12541\" y=\"55.774033\"/>\n     <use style=\"fill:#1f77b4;stroke:#1f77b4;\" x=\"51.683807\" xlink:href=\"#m0611f12541\" y=\"202.852854\"/>\n     <use style=\"fill:#1f77b4;stroke:#1f77b4;\" x=\"356.047443\" xlink:href=\"#m0611f12541\" y=\"54.752895\"/>\n     <use style=\"fill:#1f77b4;stroke:#1f77b4;\" x=\"154.729908\" xlink:href=\"#m0611f12541\" y=\"170.183205\"/>\n     <use style=\"fill:#1f77b4;stroke:#1f77b4;\" x=\"126.159337\" xlink:href=\"#m0611f12541\" y=\"149.854293\"/>\n     <use style=\"fill:#1f77b4;stroke:#1f77b4;\" x=\"272.354177\" xlink:href=\"#m0611f12541\" y=\"103.809255\"/>\n     <use style=\"fill:#1f77b4;stroke:#1f77b4;\" x=\"347.982171\" xlink:href=\"#m0611f12541\" y=\"17.083636\"/>\n     <use style=\"fill:#1f77b4;stroke:#1f77b4;\" x=\"341.699296\" xlink:href=\"#m0611f12541\" y=\"27.989047\"/>\n     <use style=\"fill:#1f77b4;stroke:#1f77b4;\" x=\"319.330181\" xlink:href=\"#m0611f12541\" y=\"53.929603\"/>\n     <use style=\"fill:#1f77b4;stroke:#1f77b4;\" x=\"323.657006\" xlink:href=\"#m0611f12541\" y=\"39.140703\"/>\n     <use style=\"fill:#1f77b4;stroke:#1f77b4;\" x=\"354.596852\" xlink:href=\"#m0611f12541\" y=\"68.735122\"/>\n     <use style=\"fill:#1f77b4;stroke:#1f77b4;\" x=\"68.207825\" xlink:href=\"#m0611f12541\" y=\"214.756364\"/>\n     <use style=\"fill:#1f77b4;stroke:#1f77b4;\" x=\"272.89971\" xlink:href=\"#m0611f12541\" y=\"69.383128\"/>\n     <use style=\"fill:#1f77b4;stroke:#1f77b4;\" x=\"220.484117\" xlink:href=\"#m0611f12541\" y=\"137.785362\"/>\n     <use style=\"fill:#1f77b4;stroke:#1f77b4;\" x=\"166.942187\" xlink:href=\"#m0611f12541\" y=\"139.836447\"/>\n     <use style=\"fill:#1f77b4;stroke:#1f77b4;\" x=\"325.856125\" xlink:href=\"#m0611f12541\" y=\"62.569365\"/>\n     <use style=\"fill:#1f77b4;stroke:#1f77b4;\" x=\"144.265946\" xlink:href=\"#m0611f12541\" y=\"168.075288\"/>\n     <use style=\"fill:#1f77b4;stroke:#1f77b4;\" x=\"115.273123\" xlink:href=\"#m0611f12541\" y=\"164.391075\"/>\n     <use style=\"fill:#1f77b4;stroke:#1f77b4;\" x=\"225.648816\" xlink:href=\"#m0611f12541\" y=\"107.586883\"/>\n     <use style=\"fill:#1f77b4;stroke:#1f77b4;\" x=\"105.830155\" xlink:href=\"#m0611f12541\" y=\"170.566471\"/>\n     <use style=\"fill:#1f77b4;stroke:#1f77b4;\" x=\"285.941293\" xlink:href=\"#m0611f12541\" y=\"65.393412\"/>\n     <use style=\"fill:#1f77b4;stroke:#1f77b4;\" x=\"327.279625\" xlink:href=\"#m0611f12541\" y=\"74.33116\"/>\n     <use style=\"fill:#1f77b4;stroke:#1f77b4;\" x=\"156.298554\" xlink:href=\"#m0611f12541\" y=\"125.504006\"/>\n     <use style=\"fill:#1f77b4;stroke:#1f77b4;\" x=\"238.103352\" xlink:href=\"#m0611f12541\" y=\"105.264901\"/>\n     <use style=\"fill:#1f77b4;stroke:#1f77b4;\" x=\"283.254907\" xlink:href=\"#m0611f12541\" y=\"64.954404\"/>\n     <use style=\"fill:#1f77b4;stroke:#1f77b4;\" x=\"275.48759\" xlink:href=\"#m0611f12541\" y=\"87.570515\"/>\n     <use style=\"fill:#1f77b4;stroke:#1f77b4;\" x=\"240.378134\" xlink:href=\"#m0611f12541\" y=\"97.758937\"/>\n     <use style=\"fill:#1f77b4;stroke:#1f77b4;\" x=\"75.891792\" xlink:href=\"#m0611f12541\" y=\"182.117976\"/>\n     <use style=\"fill:#1f77b4;stroke:#1f77b4;\" x=\"57.190741\" xlink:href=\"#m0611f12541\" y=\"179.937123\"/>\n     <use style=\"fill:#1f77b4;stroke:#1f77b4;\" x=\"347.586761\" xlink:href=\"#m0611f12541\" y=\"76.905768\"/>\n     <use style=\"fill:#1f77b4;stroke:#1f77b4;\" x=\"77.292542\" xlink:href=\"#m0611f12541\" y=\"172.334218\"/>\n     <use style=\"fill:#1f77b4;stroke:#1f77b4;\" x=\"256.065734\" xlink:href=\"#m0611f12541\" y=\"80.378396\"/>\n     <use style=\"fill:#1f77b4;stroke:#1f77b4;\" x=\"98.84446\" xlink:href=\"#m0611f12541\" y=\"147.926583\"/>\n     <use style=\"fill:#1f77b4;stroke:#1f77b4;\" x=\"230.117675\" xlink:href=\"#m0611f12541\" y=\"85.416318\"/>\n     <use style=\"fill:#1f77b4;stroke:#1f77b4;\" x=\"151.013963\" xlink:href=\"#m0611f12541\" y=\"140.847068\"/>\n     <use style=\"fill:#1f77b4;stroke:#1f77b4;\" x=\"291.98154\" xlink:href=\"#m0611f12541\" y=\"71.418294\"/>\n     <use style=\"fill:#1f77b4;stroke:#1f77b4;\" x=\"67.998635\" xlink:href=\"#m0611f12541\" y=\"180.86883\"/>\n     <use style=\"fill:#1f77b4;stroke:#1f77b4;\" x=\"105.816725\" xlink:href=\"#m0611f12541\" y=\"169.063386\"/>\n     <use style=\"fill:#1f77b4;stroke:#1f77b4;\" x=\"340.511997\" xlink:href=\"#m0611f12541\" y=\"21.78809\"/>\n     <use style=\"fill:#1f77b4;stroke:#1f77b4;\" x=\"160.694669\" xlink:href=\"#m0611f12541\" y=\"143.149735\"/>\n     <use style=\"fill:#1f77b4;stroke:#1f77b4;\" x=\"353.461668\" xlink:href=\"#m0611f12541\" y=\"41.861553\"/>\n     <use style=\"fill:#1f77b4;stroke:#1f77b4;\" x=\"239.148248\" xlink:href=\"#m0611f12541\" y=\"122.674832\"/>\n     <use style=\"fill:#1f77b4;stroke:#1f77b4;\" x=\"316.755892\" xlink:href=\"#m0611f12541\" y=\"54.38227\"/>\n     <use style=\"fill:#1f77b4;stroke:#1f77b4;\" x=\"52.913763\" xlink:href=\"#m0611f12541\" y=\"202.698714\"/>\n     <use style=\"fill:#1f77b4;stroke:#1f77b4;\" x=\"210.199946\" xlink:href=\"#m0611f12541\" y=\"98.194485\"/>\n     <use style=\"fill:#1f77b4;stroke:#1f77b4;\" x=\"81.874767\" xlink:href=\"#m0611f12541\" y=\"188.376514\"/>\n     <use style=\"fill:#1f77b4;stroke:#1f77b4;\" x=\"247.012113\" xlink:href=\"#m0611f12541\" y=\"98.267129\"/>\n     <use style=\"fill:#1f77b4;stroke:#1f77b4;\" x=\"71.952219\" xlink:href=\"#m0611f12541\" y=\"188.706637\"/>\n     <use style=\"fill:#1f77b4;stroke:#1f77b4;\" x=\"93.936641\" xlink:href=\"#m0611f12541\" y=\"181.129238\"/>\n     <use style=\"fill:#1f77b4;stroke:#1f77b4;\" x=\"143.065101\" xlink:href=\"#m0611f12541\" y=\"151.395574\"/>\n     <use style=\"fill:#1f77b4;stroke:#1f77b4;\" x=\"157.778093\" xlink:href=\"#m0611f12541\" y=\"133.40505\"/>\n     <use style=\"fill:#1f77b4;stroke:#1f77b4;\" x=\"114.858923\" xlink:href=\"#m0611f12541\" y=\"150.698715\"/>\n     <use style=\"fill:#1f77b4;stroke:#1f77b4;\" x=\"232.703487\" xlink:href=\"#m0611f12541\" y=\"104.624516\"/>\n     <use style=\"fill:#1f77b4;stroke:#1f77b4;\" x=\"255.340789\" xlink:href=\"#m0611f12541\" y=\"72.996742\"/>\n     <use style=\"fill:#1f77b4;stroke:#1f77b4;\" x=\"206.846732\" xlink:href=\"#m0611f12541\" y=\"108.383687\"/>\n     <use style=\"fill:#1f77b4;stroke:#1f77b4;\" x=\"317.314721\" xlink:href=\"#m0611f12541\" y=\"60.681565\"/>\n     <use style=\"fill:#1f77b4;stroke:#1f77b4;\" x=\"209.119648\" xlink:href=\"#m0611f12541\" y=\"90.8948\"/>\n     <use style=\"fill:#1f77b4;stroke:#1f77b4;\" x=\"158.361687\" xlink:href=\"#m0611f12541\" y=\"130.65106\"/>\n     <use style=\"fill:#1f77b4;stroke:#1f77b4;\" x=\"346.187085\" xlink:href=\"#m0611f12541\" y=\"56.396658\"/>\n     <use style=\"fill:#1f77b4;stroke:#1f77b4;\" x=\"264.806311\" xlink:href=\"#m0611f12541\" y=\"81.681456\"/>\n     <use style=\"fill:#1f77b4;stroke:#1f77b4;\" x=\"51.933304\" xlink:href=\"#m0611f12541\" y=\"191.227585\"/>\n     <use style=\"fill:#1f77b4;stroke:#1f77b4;\" x=\"203.012281\" xlink:href=\"#m0611f12541\" y=\"100.446481\"/>\n     <use style=\"fill:#1f77b4;stroke:#1f77b4;\" x=\"247.987017\" xlink:href=\"#m0611f12541\" y=\"62.454912\"/>\n     <use style=\"fill:#1f77b4;stroke:#1f77b4;\" x=\"235.11853\" xlink:href=\"#m0611f12541\" y=\"101.310205\"/>\n     <use style=\"fill:#1f77b4;stroke:#1f77b4;\" x=\"250.82855\" xlink:href=\"#m0611f12541\" y=\"69.977739\"/>\n     <use style=\"fill:#1f77b4;stroke:#1f77b4;\" x=\"258.3354\" xlink:href=\"#m0611f12541\" y=\"75.610054\"/>\n     <use style=\"fill:#1f77b4;stroke:#1f77b4;\" x=\"274.825841\" xlink:href=\"#m0611f12541\" y=\"94.119641\"/>\n     <use style=\"fill:#1f77b4;stroke:#1f77b4;\" x=\"102.688081\" xlink:href=\"#m0611f12541\" y=\"172.384193\"/>\n     <use style=\"fill:#1f77b4;stroke:#1f77b4;\" x=\"331.832327\" xlink:href=\"#m0611f12541\" y=\"43.236715\"/>\n     <use style=\"fill:#1f77b4;stroke:#1f77b4;\" x=\"288.42703\" xlink:href=\"#m0611f12541\" y=\"45.926033\"/>\n     <use style=\"fill:#1f77b4;stroke:#1f77b4;\" x=\"137.319199\" xlink:href=\"#m0611f12541\" y=\"102.297013\"/>\n     <use style=\"fill:#1f77b4;stroke:#1f77b4;\" x=\"269.986356\" xlink:href=\"#m0611f12541\" y=\"78.939009\"/>\n     <use style=\"fill:#1f77b4;stroke:#1f77b4;\" x=\"60.016019\" xlink:href=\"#m0611f12541\" y=\"179.194381\"/>\n     <use style=\"fill:#1f77b4;stroke:#1f77b4;\" x=\"250.554066\" xlink:href=\"#m0611f12541\" y=\"87.093189\"/>\n     <use style=\"fill:#1f77b4;stroke:#1f77b4;\" x=\"74.089536\" xlink:href=\"#m0611f12541\" y=\"157.970196\"/>\n     <use style=\"fill:#1f77b4;stroke:#1f77b4;\" x=\"331.010593\" xlink:href=\"#m0611f12541\" y=\"38.86928\"/>\n    </g>\n   </g>\n   <g id=\"patch_3\">\n    <path d=\"M 36.465625 224.64 \nL 36.465625 7.2 \n\" style=\"fill:none;stroke:#000000;stroke-linecap:square;stroke-linejoin:miter;stroke-width:0.8;\"/>\n   </g>\n   <g id=\"patch_4\">\n    <path d=\"M 371.265625 224.64 \nL 371.265625 7.2 \n\" style=\"fill:none;stroke:#000000;stroke-linecap:square;stroke-linejoin:miter;stroke-width:0.8;\"/>\n   </g>\n   <g id=\"patch_5\">\n    <path d=\"M 36.465625 224.64 \nL 371.265625 224.64 \n\" style=\"fill:none;stroke:#000000;stroke-linecap:square;stroke-linejoin:miter;stroke-width:0.8;\"/>\n   </g>\n   <g id=\"patch_6\">\n    <path d=\"M 36.465625 7.2 \nL 371.265625 7.2 \n\" style=\"fill:none;stroke:#000000;stroke-linecap:square;stroke-linejoin:miter;stroke-width:0.8;\"/>\n   </g>\n  </g>\n </g>\n <defs>\n  <clipPath id=\"p5d0d13a762\">\n   <rect height=\"217.44\" width=\"334.8\" x=\"36.465625\" y=\"7.2\"/>\n  </clipPath>\n </defs>\n</svg>\n",
      "image/png": "[encoded data removed]"
     },
     "metadata": {
      "needs_background": "light"
     }
    }
   ],
   "source": [
    "# PROBLEM 1\n",
    "# Copied from 0_test_install.ipynb\n",
    "hello = tf.constant('It works!')\n",
    "print(hello)\n",
    "print(\"You have version %s\" % tf.__version__)\n",
    "\n",
    "# create some data using numpy. y = x * 0.1 + 0.3 + noise\n",
    "x_train = np.random.rand(100).astype(np.float32)\n",
    "noise = np.random.normal(scale=0.01, size=len(x_train))\n",
    "y_train = x_train * 0.1 + 0.3 + noise\n",
    "\n",
    "# plot it\n",
    "pylab.plot(x_train, y_train, '.')"
   ]
  },
  {
   "cell_type": "code",
   "execution_count": 3,
   "metadata": {
    "tags": []
   },
   "outputs": [
    {
     "output_type": "stream",
     "name": "stdout",
     "text": "True\n"
    }
   ],
   "source": [
    "# PROBLEM 2\n",
    "# Using tensorflow logical function, as discussed: https://piazza.com/class/kef7vljj6ju3rv?cid=8\n",
    "def xnor(x1, x2):\n",
    "    '''Emulates XNOR gate, using tensorflow logical_not and logical_xor methods. Converts tensor result boolean. Returns boolean.'''\n",
    "    return bool(logical_not(logical_xor(x1, x2)).numpy())\n",
    "\n",
    "x1, x2 = tf.constant(False), tf.constant(False)\n",
    "result = xnor(x1, x2)\n",
    "print(result)"
   ]
  },
  {
   "cell_type": "code",
   "execution_count": 4,
   "metadata": {},
   "outputs": [],
   "source": [
    "one = tf.constant(1)\n",
    "zero = tf.constant(0)\n",
    "bias = tf.constant(1)"
   ]
  },
  {
   "cell_type": "code",
   "execution_count": 5,
   "metadata": {
    "tags": []
   },
   "outputs": [
    {
     "output_type": "stream",
     "name": "stdout",
     "text": "0.89195514\n"
    }
   ],
   "source": [
    "# PROBLEM 3 - AND\n",
    "# Inputs: x1, x2 as left-hand side of truth table, plus bias\n",
    "X_train_and = tf.constant([[0,0,1],[0,1,1],[1,0,1],[1,1,1]], \"float32\")\n",
    "y_train_and = tf.constant([[0],[0],[0],[1]], \"float32\")\n",
    "\n",
    "model_and = Sequential([\n",
    "    Dense(16, input_dim=3, activation='relu'),\n",
    "    Dense(1, activation='sigmoid')\n",
    "])\n",
    "model_and.compile(loss='mean_squared_error', optimizer='adam', loss_weights=[20,20,-30])\n",
    "model_and.fit(X_train_and, y_train_and, epochs=1000, verbose=0)\n",
    "\n",
    "def AND(x1, x2):\n",
    "    vals = [[x1,x2,bias]]\n",
    "    x_input = tf.concat(axis=0, values=[vals])\n",
    "    return model_and.predict(x_input)[0][0]\n",
    "\n",
    "and_res = AND(one, one)\n",
    "print(and_res)"
   ]
  },
  {
   "cell_type": "code",
   "execution_count": 6,
   "metadata": {
    "tags": []
   },
   "outputs": [
    {
     "output_type": "stream",
     "name": "stdout",
     "text": "0.13281298\n"
    }
   ],
   "source": [
    "# PROBLEM 3 - OR\n",
    "# Inputs: x1, x2 as left-hand side of truth table, plus bias\n",
    "X_train_or = tf.constant([[0,0,1],[0,1,1],[1,0,1],[1,1,1]], \"float32\")\n",
    "y_train_or = tf.constant([[0],[1],[1],[1]], \"float32\")\n",
    "\n",
    "model_or = Sequential([\n",
    "    Dense(16, input_dim=3, activation='relu'),\n",
    "    Dense(1, activation='sigmoid')\n",
    "])\n",
    "model_or.compile(loss='mean_squared_error', optimizer='adam', loss_weights=[20,20,-10])\n",
    "model_or.fit(X_train_or, y_train_or, epochs=1000, verbose=0)\n",
    "\n",
    "def OR(x1, x2):\n",
    "    vals = [[x1,x2,bias]]\n",
    "    x_input = tf.concat(axis=0, values=[vals])\n",
    "    return model_or.predict(x_input)[0][0]\n",
    "\n",
    "or_res = OR(zero, zero)\n",
    "print(or_res)"
   ]
  },
  {
   "cell_type": "code",
   "execution_count": 7,
   "metadata": {
    "tags": []
   },
   "outputs": [
    {
     "output_type": "stream",
     "name": "stdout",
     "text": "0.9550085\n"
    }
   ],
   "source": [
    "# PROBLEM 3 - NOT\n",
    "# Inputs: x1, as the left-hand side of truth table, plus bias\n",
    "X_train_not = tf.constant([[0,1],[1,1]], \"float32\")\n",
    "y_train_not = tf.constant([[1],[0]], \"float32\")\n",
    "\n",
    "model_not = Sequential([\n",
    "    Dense(32, input_dim=2, activation='relu'),\n",
    "    Dense(1, activation='sigmoid')\n",
    "])\n",
    "model_not.compile(loss='mean_squared_error', optimizer='adam', loss_weights=[20,-20])\n",
    "model_not.fit(X_train_not, y_train_not, epochs=1000, verbose=0)\n",
    "\n",
    "def NOT(x1):\n",
    "    vals = [[x1,bias]]\n",
    "    x_input = tf.concat(axis=0, values=[vals])\n",
    "    return model_not.predict(x_input)[0][0]\n",
    "\n",
    "not_res = NOT(zero)\n",
    "print(not_res)"
   ]
  },
  {
   "cell_type": "code",
   "execution_count": 8,
   "metadata": {},
   "outputs": [],
   "source": [
    "# PROBLEM 4\n",
    "def XOR(x1, x2):\n",
    "    return OR(x1, x2) - AND(x1,x2)\n",
    "\n",
    "def XNOR(x1, x2):\n",
    "    res = XOR(x1,x2).round()\n",
    "    return NOT(res)"
   ]
  },
  {
   "cell_type": "code",
   "execution_count": 9,
   "metadata": {
    "tags": []
   },
   "outputs": [],
   "source": [
    "test = XNOR(one,one)"
   ]
  },
  {
   "cell_type": "code",
   "execution_count": 10,
   "metadata": {
    "tags": []
   },
   "outputs": [
    {
     "output_type": "stream",
     "name": "stdout",
     "text": "[[ 0  0  3  0]\n [ 0  0  0 10]\n [ 0  5  0 10]\n [ 0  0  0  4]]\n"
    }
   ],
   "source": [
    "# PROBLEM 5\n",
    "seed = 42\n",
    "# Generate 5 tuples of integers between 0-3\n",
    "def getRandInt(minval, maxval):\n",
    "    return tf.random.uniform(shape=(1,), minval=minval, maxval=maxval, dtype=tf.int32, seed=seed).numpy()[0]\n",
    "\n",
    "def getIndex():\n",
    "    row = getRandInt(0,4)\n",
    "    col = getRandInt(0,4)\n",
    "    index = [row,col]\n",
    "    return index\n",
    "\n",
    "indices = []\n",
    "values = []\n",
    "for i in range(5):\n",
    "    index = getIndex()\n",
    "    while index in indices:\n",
    "        index = getIndex()\n",
    "    indices.append(index)\n",
    "    \n",
    "    val = getRandInt(1,11)\n",
    "    values.append(val)\n",
    "    \n",
    "sparse_t = SparseTensor(indices=indices, values=values, dense_shape=(4,4))\n",
    "dense_t = to_dense(reorder(sparse_t)).numpy()\n",
    "print(dense_t)"
   ]
  },
  {
   "cell_type": "code",
   "execution_count": 22,
   "metadata": {
    "tags": []
   },
   "outputs": [
    {
     "output_type": "stream",
     "name": "stdout",
     "text": "[ 0.465 -0.812 -0.788 -0.797  0.717  1.    -0.852]\n"
    }
   ],
   "source": [
    "# PROBLEM 6 - NP\n",
    "# Increase precision to make output more legible\n",
    "# NOTE: the data in the original auto-mpg.data does not match the new auto_mpg.csv file\n",
    "np.set_printoptions(precision=3)\n",
    "usecols = [1,2,3,4,7,8,10]\n",
    "filename = './auto_mpg.csv'\n",
    "# Columns used (in order):\n",
    "# Acceleration, Cylinders, Displacement, Horsepower, Model_Year, MPG, Weight\n",
    "mpg = np.genfromtxt(filename, delimiter=',', usecols=usecols, skip_header=True, missing_values=0)\n",
    "# Get coefficient matrix of mpg column\n",
    "mpg_corrcoef = np.corrcoef(mpg.T)[5]\n",
    "# Columns with highest coefficient (descending order): Weight, Cylinders, Horsepower, Displacement, Model_Year, Acceleration\n",
    "# Highest positive correlation: Model_Year\n",
    "# Lowest negative correlation: Weight\n",
    "print(mpg_corrcoef)\n"
   ]
  },
  {
   "cell_type": "code",
   "execution_count": 25,
   "metadata": {
    "tags": []
   },
   "outputs": [
    {
     "output_type": "execute_result",
     "data": {
      "text/plain": "              Acceleration  Cylinders  Displacement  Horsepower  Model_Year  \\\nMPG               0.464598  -0.811988     -0.787702   -0.797357    0.717115   \nWeight           -0.487942   0.884401      0.889475    0.872247   -0.496371   \nCylinders        -0.647346   1.000000      0.951167    0.861873   -0.605270   \nHorsepower       -0.694118   0.861873      0.913560    1.000000   -0.608498   \nDisplacement     -0.694744   0.951167      1.000000    0.913560   -0.577851   \nModel_Year        0.484253  -0.605270     -0.577851   -0.608498    1.000000   \nAcceleration      1.000000  -0.647346     -0.694744   -0.694118    0.484253   \n\n                   MPG    Weight  \nMPG           1.000000 -0.851958  \nWeight       -0.851958  1.000000  \nCylinders    -0.811988  0.884401  \nHorsepower   -0.797357  0.872247  \nDisplacement -0.787702  0.889475  \nModel_Year    0.717115 -0.496371  \nAcceleration  0.464598 -0.487942  ",
      "text/html": "<div>\n<style scoped>\n    .dataframe tbody tr th:only-of-type {\n        vertical-align: middle;\n    }\n\n    .dataframe tbody tr th {\n        vertical-align: top;\n    }\n\n    .dataframe thead th {\n        text-align: right;\n    }\n</style>\n<table border=\"1\" class=\"dataframe\">\n  <thead>\n    <tr style=\"text-align: right;\">\n      <th></th>\n      <th>Acceleration</th>\n      <th>Cylinders</th>\n      <th>Displacement</th>\n      <th>Horsepower</th>\n      <th>Model_Year</th>\n      <th>MPG</th>\n      <th>Weight</th>\n    </tr>\n  </thead>\n  <tbody>\n    <tr>\n      <th>MPG</th>\n      <td>0.464598</td>\n      <td>-0.811988</td>\n      <td>-0.787702</td>\n      <td>-0.797357</td>\n      <td>0.717115</td>\n      <td>1.000000</td>\n      <td>-0.851958</td>\n    </tr>\n    <tr>\n      <th>Weight</th>\n      <td>-0.487942</td>\n      <td>0.884401</td>\n      <td>0.889475</td>\n      <td>0.872247</td>\n      <td>-0.496371</td>\n      <td>-0.851958</td>\n      <td>1.000000</td>\n    </tr>\n    <tr>\n      <th>Cylinders</th>\n      <td>-0.647346</td>\n      <td>1.000000</td>\n      <td>0.951167</td>\n      <td>0.861873</td>\n      <td>-0.605270</td>\n      <td>-0.811988</td>\n      <td>0.884401</td>\n    </tr>\n    <tr>\n      <th>Horsepower</th>\n      <td>-0.694118</td>\n      <td>0.861873</td>\n      <td>0.913560</td>\n      <td>1.000000</td>\n      <td>-0.608498</td>\n      <td>-0.797357</td>\n      <td>0.872247</td>\n    </tr>\n    <tr>\n      <th>Displacement</th>\n      <td>-0.694744</td>\n      <td>0.951167</td>\n      <td>1.000000</td>\n      <td>0.913560</td>\n      <td>-0.577851</td>\n      <td>-0.787702</td>\n      <td>0.889475</td>\n    </tr>\n    <tr>\n      <th>Model_Year</th>\n      <td>0.484253</td>\n      <td>-0.605270</td>\n      <td>-0.577851</td>\n      <td>-0.608498</td>\n      <td>1.000000</td>\n      <td>0.717115</td>\n      <td>-0.496371</td>\n    </tr>\n    <tr>\n      <th>Acceleration</th>\n      <td>1.000000</td>\n      <td>-0.647346</td>\n      <td>-0.694744</td>\n      <td>-0.694118</td>\n      <td>0.484253</td>\n      <td>0.464598</td>\n      <td>-0.487942</td>\n    </tr>\n  </tbody>\n</table>\n</div>"
     },
     "metadata": {},
     "execution_count": 25
    }
   ],
   "source": [
    "mpg = pd.read_csv(filename, usecols=usecols)\n",
    "# Get coefficient matrix\n",
    "mpg_corr = mpg.corr()\n",
    "# Sort by absolute value of MPG column\n",
    "mpg_corr.iloc[mpg_corr['MPG'].abs().argsort()][::-1]\n",
    "# Columns with highest coefficient (descending order): Weight, Cylinders, Horsepower, Displacement, Model_Year, Acceleration\n",
    "# Highest positive correlation: Model_Year\n",
    "# Lowest negative correlation: Weight\n",
    "# Confirms findings from np approach"
   ]
  },
  {
   "cell_type": "code",
   "execution_count": null,
   "metadata": {},
   "outputs": [],
   "source": []
  }
 ]
}